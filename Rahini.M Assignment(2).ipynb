{
  "nbformat": 4,
  "nbformat_minor": 0,
  "metadata": {
    "colab": {
      "provenance": []
    },
    "kernelspec": {
      "name": "python3",
      "display_name": "Python 3"
    },
    "language_info": {
      "name": "python"
    }
  },
  "cells": [
    {
      "cell_type": "code",
      "execution_count": 3,
      "metadata": {
        "id": "rF2IArv__5-l"
      },
      "outputs": [],
      "source": [
        "# importing the necessary libraries\n",
        "import pandas as pd\n",
        "import seaborn as sns\n",
        "import numpy as np\n",
        "import cv2\n",
        "import matplotlib.pyplot as plt\n",
        "import pandas as pd\n",
        "import numpy as np\n",
        "import matplotlib.pyplot as plt\n",
        "import seaborn as sns"
      ]
    },
    {
      "cell_type": "code",
      "source": [
        "#Statistics is the study and manipulation of data, including ways to gather, review, analyze, and draw conclusions from data. \n",
        "#The two major areas of statistics are descriptive and inferential statistics.\n",
        "#Descriptive statistics\n",
        "#Descriptive statistics are brief informational coefficients that summarize a given data set, which can be either a representation of the entire population \n",
        "#or a sample of a population. Descriptive statistics are broken down into measures of central tendency and measures of variability (spread).\n",
        "#Prescriptive analytics\n",
        "#It is the process of using data to determine an optimal course of action. By considering all relevant factors, this type of analysis yields recommendations \n",
        "#for next steps. Because of this, prescriptive analytics is a valuable tool for data-driven decision-making."
      ],
      "metadata": {
        "id": "KghjJ9mGAAP6"
      },
      "execution_count": null,
      "outputs": []
    },
    {
      "cell_type": "code",
      "source": [
        "plt.figure(figsize=(18,18))\n",
        "plt.imshow(cv2.imread(\"ps.png\"))"
      ],
      "metadata": {
        "colab": {
          "base_uri": "https://localhost:8080/",
          "height": 1000
        },
        "id": "Ge4aekASAW-2",
        "outputId": "31828276-9dce-45dd-d651-7e83631ac5ea"
      },
      "execution_count": 2,
      "outputs": [
        {
          "output_type": "error",
          "ename": "TypeError",
          "evalue": "ignored",
          "traceback": [
            "\u001b[0;31m---------------------------------------------------------------------------\u001b[0m",
            "\u001b[0;31mTypeError\u001b[0m                                 Traceback (most recent call last)",
            "\u001b[0;32m<ipython-input-2-0d7349ebec1d>\u001b[0m in \u001b[0;36m<module>\u001b[0;34m\u001b[0m\n\u001b[1;32m      1\u001b[0m \u001b[0mplt\u001b[0m\u001b[0;34m.\u001b[0m\u001b[0mfigure\u001b[0m\u001b[0;34m(\u001b[0m\u001b[0mfigsize\u001b[0m\u001b[0;34m=\u001b[0m\u001b[0;34m(\u001b[0m\u001b[0;36m18\u001b[0m\u001b[0;34m,\u001b[0m\u001b[0;36m18\u001b[0m\u001b[0;34m)\u001b[0m\u001b[0;34m)\u001b[0m\u001b[0;34m\u001b[0m\u001b[0;34m\u001b[0m\u001b[0m\n\u001b[0;32m----> 2\u001b[0;31m \u001b[0mplt\u001b[0m\u001b[0;34m.\u001b[0m\u001b[0mimshow\u001b[0m\u001b[0;34m(\u001b[0m\u001b[0mcv2\u001b[0m\u001b[0;34m.\u001b[0m\u001b[0mimread\u001b[0m\u001b[0;34m(\u001b[0m\u001b[0;34m\"ps.png\"\u001b[0m\u001b[0;34m)\u001b[0m\u001b[0;34m)\u001b[0m\u001b[0;34m\u001b[0m\u001b[0;34m\u001b[0m\u001b[0m\n\u001b[0m",
            "\u001b[0;32m/usr/local/lib/python3.7/dist-packages/matplotlib/pyplot.py\u001b[0m in \u001b[0;36mimshow\u001b[0;34m(X, cmap, norm, aspect, interpolation, alpha, vmin, vmax, origin, extent, shape, filternorm, filterrad, imlim, resample, url, data, **kwargs)\u001b[0m\n\u001b[1;32m   2649\u001b[0m         \u001b[0mfilternorm\u001b[0m\u001b[0;34m=\u001b[0m\u001b[0mfilternorm\u001b[0m\u001b[0;34m,\u001b[0m \u001b[0mfilterrad\u001b[0m\u001b[0;34m=\u001b[0m\u001b[0mfilterrad\u001b[0m\u001b[0;34m,\u001b[0m \u001b[0mimlim\u001b[0m\u001b[0;34m=\u001b[0m\u001b[0mimlim\u001b[0m\u001b[0;34m,\u001b[0m\u001b[0;34m\u001b[0m\u001b[0;34m\u001b[0m\u001b[0m\n\u001b[1;32m   2650\u001b[0m         resample=resample, url=url, **({\"data\": data} if data is not\n\u001b[0;32m-> 2651\u001b[0;31m         None else {}), **kwargs)\n\u001b[0m\u001b[1;32m   2652\u001b[0m     \u001b[0msci\u001b[0m\u001b[0;34m(\u001b[0m\u001b[0m__ret\u001b[0m\u001b[0;34m)\u001b[0m\u001b[0;34m\u001b[0m\u001b[0;34m\u001b[0m\u001b[0m\n\u001b[1;32m   2653\u001b[0m     \u001b[0;32mreturn\u001b[0m \u001b[0m__ret\u001b[0m\u001b[0;34m\u001b[0m\u001b[0;34m\u001b[0m\u001b[0m\n",
            "\u001b[0;32m/usr/local/lib/python3.7/dist-packages/matplotlib/__init__.py\u001b[0m in \u001b[0;36minner\u001b[0;34m(ax, data, *args, **kwargs)\u001b[0m\n\u001b[1;32m   1563\u001b[0m     \u001b[0;32mdef\u001b[0m \u001b[0minner\u001b[0m\u001b[0;34m(\u001b[0m\u001b[0max\u001b[0m\u001b[0;34m,\u001b[0m \u001b[0;34m*\u001b[0m\u001b[0margs\u001b[0m\u001b[0;34m,\u001b[0m \u001b[0mdata\u001b[0m\u001b[0;34m=\u001b[0m\u001b[0;32mNone\u001b[0m\u001b[0;34m,\u001b[0m \u001b[0;34m**\u001b[0m\u001b[0mkwargs\u001b[0m\u001b[0;34m)\u001b[0m\u001b[0;34m:\u001b[0m\u001b[0;34m\u001b[0m\u001b[0;34m\u001b[0m\u001b[0m\n\u001b[1;32m   1564\u001b[0m         \u001b[0;32mif\u001b[0m \u001b[0mdata\u001b[0m \u001b[0;32mis\u001b[0m \u001b[0;32mNone\u001b[0m\u001b[0;34m:\u001b[0m\u001b[0;34m\u001b[0m\u001b[0;34m\u001b[0m\u001b[0m\n\u001b[0;32m-> 1565\u001b[0;31m             \u001b[0;32mreturn\u001b[0m \u001b[0mfunc\u001b[0m\u001b[0;34m(\u001b[0m\u001b[0max\u001b[0m\u001b[0;34m,\u001b[0m \u001b[0;34m*\u001b[0m\u001b[0mmap\u001b[0m\u001b[0;34m(\u001b[0m\u001b[0msanitize_sequence\u001b[0m\u001b[0;34m,\u001b[0m \u001b[0margs\u001b[0m\u001b[0;34m)\u001b[0m\u001b[0;34m,\u001b[0m \u001b[0;34m**\u001b[0m\u001b[0mkwargs\u001b[0m\u001b[0;34m)\u001b[0m\u001b[0;34m\u001b[0m\u001b[0;34m\u001b[0m\u001b[0m\n\u001b[0m\u001b[1;32m   1566\u001b[0m \u001b[0;34m\u001b[0m\u001b[0m\n\u001b[1;32m   1567\u001b[0m         \u001b[0mbound\u001b[0m \u001b[0;34m=\u001b[0m \u001b[0mnew_sig\u001b[0m\u001b[0;34m.\u001b[0m\u001b[0mbind\u001b[0m\u001b[0;34m(\u001b[0m\u001b[0max\u001b[0m\u001b[0;34m,\u001b[0m \u001b[0;34m*\u001b[0m\u001b[0margs\u001b[0m\u001b[0;34m,\u001b[0m \u001b[0;34m**\u001b[0m\u001b[0mkwargs\u001b[0m\u001b[0;34m)\u001b[0m\u001b[0;34m\u001b[0m\u001b[0;34m\u001b[0m\u001b[0m\n",
            "\u001b[0;32m/usr/local/lib/python3.7/dist-packages/matplotlib/cbook/deprecation.py\u001b[0m in \u001b[0;36mwrapper\u001b[0;34m(*args, **kwargs)\u001b[0m\n\u001b[1;32m    356\u001b[0m                 \u001b[0;34mf\"%(removal)s.  If any parameter follows {name!r}, they \"\u001b[0m\u001b[0;34m\u001b[0m\u001b[0;34m\u001b[0m\u001b[0m\n\u001b[1;32m    357\u001b[0m                 f\"should be pass as keyword, not positionally.\")\n\u001b[0;32m--> 358\u001b[0;31m         \u001b[0;32mreturn\u001b[0m \u001b[0mfunc\u001b[0m\u001b[0;34m(\u001b[0m\u001b[0;34m*\u001b[0m\u001b[0margs\u001b[0m\u001b[0;34m,\u001b[0m \u001b[0;34m**\u001b[0m\u001b[0mkwargs\u001b[0m\u001b[0;34m)\u001b[0m\u001b[0;34m\u001b[0m\u001b[0;34m\u001b[0m\u001b[0m\n\u001b[0m\u001b[1;32m    359\u001b[0m \u001b[0;34m\u001b[0m\u001b[0m\n\u001b[1;32m    360\u001b[0m     \u001b[0;32mreturn\u001b[0m \u001b[0mwrapper\u001b[0m\u001b[0;34m\u001b[0m\u001b[0;34m\u001b[0m\u001b[0m\n",
            "\u001b[0;32m/usr/local/lib/python3.7/dist-packages/matplotlib/cbook/deprecation.py\u001b[0m in \u001b[0;36mwrapper\u001b[0;34m(*args, **kwargs)\u001b[0m\n\u001b[1;32m    356\u001b[0m                 \u001b[0;34mf\"%(removal)s.  If any parameter follows {name!r}, they \"\u001b[0m\u001b[0;34m\u001b[0m\u001b[0;34m\u001b[0m\u001b[0m\n\u001b[1;32m    357\u001b[0m                 f\"should be pass as keyword, not positionally.\")\n\u001b[0;32m--> 358\u001b[0;31m         \u001b[0;32mreturn\u001b[0m \u001b[0mfunc\u001b[0m\u001b[0;34m(\u001b[0m\u001b[0;34m*\u001b[0m\u001b[0margs\u001b[0m\u001b[0;34m,\u001b[0m \u001b[0;34m**\u001b[0m\u001b[0mkwargs\u001b[0m\u001b[0;34m)\u001b[0m\u001b[0;34m\u001b[0m\u001b[0;34m\u001b[0m\u001b[0m\n\u001b[0m\u001b[1;32m    359\u001b[0m \u001b[0;34m\u001b[0m\u001b[0m\n\u001b[1;32m    360\u001b[0m     \u001b[0;32mreturn\u001b[0m \u001b[0mwrapper\u001b[0m\u001b[0;34m\u001b[0m\u001b[0;34m\u001b[0m\u001b[0m\n",
            "\u001b[0;32m/usr/local/lib/python3.7/dist-packages/matplotlib/axes/_axes.py\u001b[0m in \u001b[0;36mimshow\u001b[0;34m(self, X, cmap, norm, aspect, interpolation, alpha, vmin, vmax, origin, extent, shape, filternorm, filterrad, imlim, resample, url, **kwargs)\u001b[0m\n\u001b[1;32m   5624\u001b[0m                               resample=resample, **kwargs)\n\u001b[1;32m   5625\u001b[0m \u001b[0;34m\u001b[0m\u001b[0m\n\u001b[0;32m-> 5626\u001b[0;31m         \u001b[0mim\u001b[0m\u001b[0;34m.\u001b[0m\u001b[0mset_data\u001b[0m\u001b[0;34m(\u001b[0m\u001b[0mX\u001b[0m\u001b[0;34m)\u001b[0m\u001b[0;34m\u001b[0m\u001b[0;34m\u001b[0m\u001b[0m\n\u001b[0m\u001b[1;32m   5627\u001b[0m         \u001b[0mim\u001b[0m\u001b[0;34m.\u001b[0m\u001b[0mset_alpha\u001b[0m\u001b[0;34m(\u001b[0m\u001b[0malpha\u001b[0m\u001b[0;34m)\u001b[0m\u001b[0;34m\u001b[0m\u001b[0;34m\u001b[0m\u001b[0m\n\u001b[1;32m   5628\u001b[0m         \u001b[0;32mif\u001b[0m \u001b[0mim\u001b[0m\u001b[0;34m.\u001b[0m\u001b[0mget_clip_path\u001b[0m\u001b[0;34m(\u001b[0m\u001b[0;34m)\u001b[0m \u001b[0;32mis\u001b[0m \u001b[0;32mNone\u001b[0m\u001b[0;34m:\u001b[0m\u001b[0;34m\u001b[0m\u001b[0;34m\u001b[0m\u001b[0m\n",
            "\u001b[0;32m/usr/local/lib/python3.7/dist-packages/matplotlib/image.py\u001b[0m in \u001b[0;36mset_data\u001b[0;34m(self, A)\u001b[0m\n\u001b[1;32m    692\u001b[0m                 not np.can_cast(self._A.dtype, float, \"same_kind\")):\n\u001b[1;32m    693\u001b[0m             raise TypeError(\"Image data of dtype {} cannot be converted to \"\n\u001b[0;32m--> 694\u001b[0;31m                             \"float\".format(self._A.dtype))\n\u001b[0m\u001b[1;32m    695\u001b[0m \u001b[0;34m\u001b[0m\u001b[0m\n\u001b[1;32m    696\u001b[0m         if not (self._A.ndim == 2\n",
            "\u001b[0;31mTypeError\u001b[0m: Image data of dtype object cannot be converted to float"
          ]
        },
        {
          "output_type": "display_data",
          "data": {
            "text/plain": [
              "<Figure size 1296x1296 with 1 Axes>"
            ],
            "image/png": "[encoded data removed]"
          },
          "metadata": {
            "needs_background": "light"
          }
        }
      ]
    },
    {
      "cell_type": "code",
      "source": [
        "#Descriptive statistics"
      ],
      "metadata": {
        "id": "7s_7NEcRA_WL"
      },
      "execution_count": null,
      "outputs": []
    },
    {
      "cell_type": "code",
      "source": [
        "sns.get_dataset_names()"
      ],
      "metadata": {
        "colab": {
          "base_uri": "https://localhost:8080/"
        },
        "id": "ydE9DoDRBA8_",
        "outputId": "1d954cab-bf5b-47ec-ed02-d46d8050c6ff"
      },
      "execution_count": 4,
      "outputs": [
        {
          "output_type": "execute_result",
          "data": {
            "text/plain": [
              "['anagrams',\n",
              " 'anscombe',\n",
              " 'attention',\n",
              " 'brain_networks',\n",
              " 'car_crashes',\n",
              " 'diamonds',\n",
              " 'dots',\n",
              " 'dowjones',\n",
              " 'exercise',\n",
              " 'flights',\n",
              " 'fmri',\n",
              " 'geyser',\n",
              " 'glue',\n",
              " 'healthexp',\n",
              " 'iris',\n",
              " 'mpg',\n",
              " 'penguins',\n",
              " 'planets',\n",
              " 'seaice',\n",
              " 'taxis',\n",
              " 'tips',\n",
              " 'titanic']"
            ]
          },
          "metadata": {},
          "execution_count": 4
        }
      ]
    },
    {
      "cell_type": "code",
      "source": [
        "data = sns.load_dataset(\"penguins\")\n",
        "# checking the first few rows of the dataset\n",
        "data.head()"
      ],
      "metadata": {
        "colab": {
          "base_uri": "https://localhost:8080/",
          "height": 206
        },
        "id": "EsVp4D16BJ_8",
        "outputId": "426ea3d1-7b40-4708-bb5d-86313969115c"
      },
      "execution_count": 5,
      "outputs": [
        {
          "output_type": "execute_result",
          "data": {
            "text/plain": [
              "  species     island  bill_length_mm  bill_depth_mm  flipper_length_mm  \\\n",
              "0  Adelie  Torgersen            39.1           18.7              181.0   \n",
              "1  Adelie  Torgersen            39.5           17.4              186.0   \n",
              "2  Adelie  Torgersen            40.3           18.0              195.0   \n",
              "3  Adelie  Torgersen             NaN            NaN                NaN   \n",
              "4  Adelie  Torgersen            36.7           19.3              193.0   \n",
              "\n",
              "   body_mass_g     sex  \n",
              "0       3750.0    Male  \n",
              "1       3800.0  Female  \n",
              "2       3250.0  Female  \n",
              "3          NaN     NaN  \n",
              "4       3450.0  Female  "
            ],
            "text/html": [
              "\n",
              "  <div id=\"df-30dda49b-ae5a-46a8-bf26-3d032f84e392\">\n",
              "    <div class=\"colab-df-container\">\n",
              "      <div>\n",
              "<style scoped>\n",
              "    .dataframe tbody tr th:only-of-type {\n",
              "        vertical-align: middle;\n",
              "    }\n",
              "\n",
              "    .dataframe tbody tr th {\n",
              "        vertical-align: top;\n",
              "    }\n",
              "\n",
              "    .dataframe thead th {\n",
              "        text-align: right;\n",
              "    }\n",
              "</style>\n",
              "<table border=\"1\" class=\"dataframe\">\n",
              "  <thead>\n",
              "    <tr style=\"text-align: right;\">\n",
              "      <th></th>\n",
              "      <th>species</th>\n",
              "      <th>island</th>\n",
              "      <th>bill_length_mm</th>\n",
              "      <th>bill_depth_mm</th>\n",
              "      <th>flipper_length_mm</th>\n",
              "      <th>body_mass_g</th>\n",
              "      <th>sex</th>\n",
              "    </tr>\n",
              "  </thead>\n",
              "  <tbody>\n",
              "    <tr>\n",
              "      <th>0</th>\n",
              "      <td>Adelie</td>\n",
              "      <td>Torgersen</td>\n",
              "      <td>39.1</td>\n",
              "      <td>18.7</td>\n",
              "      <td>181.0</td>\n",
              "      <td>3750.0</td>\n",
              "      <td>Male</td>\n",
              "    </tr>\n",
              "    <tr>\n",
              "      <th>1</th>\n",
              "      <td>Adelie</td>\n",
              "      <td>Torgersen</td>\n",
              "      <td>39.5</td>\n",
              "      <td>17.4</td>\n",
              "      <td>186.0</td>\n",
              "      <td>3800.0</td>\n",
              "      <td>Female</td>\n",
              "    </tr>\n",
              "    <tr>\n",
              "      <th>2</th>\n",
              "      <td>Adelie</td>\n",
              "      <td>Torgersen</td>\n",
              "      <td>40.3</td>\n",
              "      <td>18.0</td>\n",
              "      <td>195.0</td>\n",
              "      <td>3250.0</td>\n",
              "      <td>Female</td>\n",
              "    </tr>\n",
              "    <tr>\n",
              "      <th>3</th>\n",
              "      <td>Adelie</td>\n",
              "      <td>Torgersen</td>\n",
              "      <td>NaN</td>\n",
              "      <td>NaN</td>\n",
              "      <td>NaN</td>\n",
              "      <td>NaN</td>\n",
              "      <td>NaN</td>\n",
              "    </tr>\n",
              "    <tr>\n",
              "      <th>4</th>\n",
              "      <td>Adelie</td>\n",
              "      <td>Torgersen</td>\n",
              "      <td>36.7</td>\n",
              "      <td>19.3</td>\n",
              "      <td>193.0</td>\n",
              "      <td>3450.0</td>\n",
              "      <td>Female</td>\n",
              "    </tr>\n",
              "  </tbody>\n",
              "</table>\n",
              "</div>\n",
              "      <button class=\"colab-df-convert\" onclick=\"convertToInteractive('df-30dda49b-ae5a-46a8-bf26-3d032f84e392')\"\n",
              "              title=\"Convert this dataframe to an interactive table.\"\n",
              "              style=\"display:none;\">\n",
              "        \n",
              "  <svg xmlns=\"http://www.w3.org/2000/svg\" height=\"24px\"viewBox=\"0 0 24 24\"\n",
              "       width=\"24px\">\n",
              "    <path d=\"M0 0h24v24H0V0z\" fill=\"none\"/>\n",
              "    <path d=\"M18.56 5.44l.94 2.06.94-2.06 2.06-.94-2.06-.94-.94-2.06-.94 2.06-2.06.94zm-11 1L8.5 8.5l.94-2.06 2.06-.94-2.06-.94L8.5 2.5l-.94 2.06-2.06.94zm10 10l.94 2.06.94-2.06 2.06-.94-2.06-.94-.94-2.06-.94 2.06-2.06.94z\"/><path d=\"M17.41 7.96l-1.37-1.37c-.4-.4-.92-.59-1.43-.59-.52 0-1.04.2-1.43.59L10.3 9.45l-7.72 7.72c-.78.78-.78 2.05 0 2.83L4 21.41c.39.39.9.59 1.41.59.51 0 1.02-.2 1.41-.59l7.78-7.78 2.81-2.81c.8-.78.8-2.07 0-2.86zM5.41 20L4 18.59l7.72-7.72 1.47 1.35L5.41 20z\"/>\n",
              "  </svg>\n",
              "      </button>\n",
              "      \n",
              "  <style>\n",
              "    .colab-df-container {\n",
              "      display:flex;\n",
              "      flex-wrap:wrap;\n",
              "      gap: 12px;\n",
              "    }\n",
              "\n",
              "    .colab-df-convert {\n",
              "      background-color: #E8F0FE;\n",
              "      border: none;\n",
              "      border-radius: 50%;\n",
              "      cursor: pointer;\n",
              "      display: none;\n",
              "      fill: #1967D2;\n",
              "      height: 32px;\n",
              "      padding: 0 0 0 0;\n",
              "      width: 32px;\n",
              "    }\n",
              "\n",
              "    .colab-df-convert:hover {\n",
              "      background-color: #E2EBFA;\n",
              "      box-shadow: 0px 1px 2px rgba(60, 64, 67, 0.3), 0px 1px 3px 1px rgba(60, 64, 67, 0.15);\n",
              "      fill: #174EA6;\n",
              "    }\n",
              "\n",
              "    [theme=dark] .colab-df-convert {\n",
              "      background-color: #3B4455;\n",
              "      fill: #D2E3FC;\n",
              "    }\n",
              "\n",
              "    [theme=dark] .colab-df-convert:hover {\n",
              "      background-color: #434B5C;\n",
              "      box-shadow: 0px 1px 3px 1px rgba(0, 0, 0, 0.15);\n",
              "      filter: drop-shadow(0px 1px 2px rgba(0, 0, 0, 0.3));\n",
              "      fill: #FFFFFF;\n",
              "    }\n",
              "  </style>\n",
              "\n",
              "      <script>\n",
              "        const buttonEl =\n",
              "          document.querySelector('#df-30dda49b-ae5a-46a8-bf26-3d032f84e392 button.colab-df-convert');\n",
              "        buttonEl.style.display =\n",
              "          google.colab.kernel.accessAllowed ? 'block' : 'none';\n",
              "\n",
              "        async function convertToInteractive(key) {\n",
              "          const element = document.querySelector('#df-30dda49b-ae5a-46a8-bf26-3d032f84e392');\n",
              "          const dataTable =\n",
              "            await google.colab.kernel.invokeFunction('convertToInteractive',\n",
              "                                                     [key], {});\n",
              "          if (!dataTable) return;\n",
              "\n",
              "          const docLinkHtml = 'Like what you see? Visit the ' +\n",
              "            '<a target=\"_blank\" href=https://colab.research.google.com/notebooks/data_table.ipynb>data table notebook</a>'\n",
              "            + ' to learn more about interactive tables.';\n",
              "          element.innerHTML = '';\n",
              "          dataTable['output_type'] = 'display_data';\n",
              "          await google.colab.output.renderOutput(dataTable, element);\n",
              "          const docLink = document.createElement('div');\n",
              "          docLink.innerHTML = docLinkHtml;\n",
              "          element.appendChild(docLink);\n",
              "        }\n",
              "      </script>\n",
              "    </div>\n",
              "  </div>\n",
              "  "
            ]
          },
          "metadata": {},
          "execution_count": 5
        }
      ]
    },
    {
      "cell_type": "code",
      "source": [
        "data.tail()"
      ],
      "metadata": {
        "colab": {
          "base_uri": "https://localhost:8080/",
          "height": 206
        },
        "id": "TqnNwvHiBYSd",
        "outputId": "87acbf2c-882c-49dc-9c70-a9a83f2db084"
      },
      "execution_count": 6,
      "outputs": [
        {
          "output_type": "execute_result",
          "data": {
            "text/plain": [
              "    species  island  bill_length_mm  bill_depth_mm  flipper_length_mm  \\\n",
              "339  Gentoo  Biscoe             NaN            NaN                NaN   \n",
              "340  Gentoo  Biscoe            46.8           14.3              215.0   \n",
              "341  Gentoo  Biscoe            50.4           15.7              222.0   \n",
              "342  Gentoo  Biscoe            45.2           14.8              212.0   \n",
              "343  Gentoo  Biscoe            49.9           16.1              213.0   \n",
              "\n",
              "     body_mass_g     sex  \n",
              "339          NaN     NaN  \n",
              "340       4850.0  Female  \n",
              "341       5750.0    Male  \n",
              "342       5200.0  Female  \n",
              "343       5400.0    Male  "
            ],
            "text/html": [
              "\n",
              "  <div id=\"df-d5303e49-1b3a-417d-a79c-b2b60c240dfc\">\n",
              "    <div class=\"colab-df-container\">\n",
              "      <div>\n",
              "<style scoped>\n",
              "    .dataframe tbody tr th:only-of-type {\n",
              "        vertical-align: middle;\n",
              "    }\n",
              "\n",
              "    .dataframe tbody tr th {\n",
              "        vertical-align: top;\n",
              "    }\n",
              "\n",
              "    .dataframe thead th {\n",
              "        text-align: right;\n",
              "    }\n",
              "</style>\n",
              "<table border=\"1\" class=\"dataframe\">\n",
              "  <thead>\n",
              "    <tr style=\"text-align: right;\">\n",
              "      <th></th>\n",
              "      <th>species</th>\n",
              "      <th>island</th>\n",
              "      <th>bill_length_mm</th>\n",
              "      <th>bill_depth_mm</th>\n",
              "      <th>flipper_length_mm</th>\n",
              "      <th>body_mass_g</th>\n",
              "      <th>sex</th>\n",
              "    </tr>\n",
              "  </thead>\n",
              "  <tbody>\n",
              "    <tr>\n",
              "      <th>339</th>\n",
              "      <td>Gentoo</td>\n",
              "      <td>Biscoe</td>\n",
              "      <td>NaN</td>\n",
              "      <td>NaN</td>\n",
              "      <td>NaN</td>\n",
              "      <td>NaN</td>\n",
              "      <td>NaN</td>\n",
              "    </tr>\n",
              "    <tr>\n",
              "      <th>340</th>\n",
              "      <td>Gentoo</td>\n",
              "      <td>Biscoe</td>\n",
              "      <td>46.8</td>\n",
              "      <td>14.3</td>\n",
              "      <td>215.0</td>\n",
              "      <td>4850.0</td>\n",
              "      <td>Female</td>\n",
              "    </tr>\n",
              "    <tr>\n",
              "      <th>341</th>\n",
              "      <td>Gentoo</td>\n",
              "      <td>Biscoe</td>\n",
              "      <td>50.4</td>\n",
              "      <td>15.7</td>\n",
              "      <td>222.0</td>\n",
              "      <td>5750.0</td>\n",
              "      <td>Male</td>\n",
              "    </tr>\n",
              "    <tr>\n",
              "      <th>342</th>\n",
              "      <td>Gentoo</td>\n",
              "      <td>Biscoe</td>\n",
              "      <td>45.2</td>\n",
              "      <td>14.8</td>\n",
              "      <td>212.0</td>\n",
              "      <td>5200.0</td>\n",
              "      <td>Female</td>\n",
              "    </tr>\n",
              "    <tr>\n",
              "      <th>343</th>\n",
              "      <td>Gentoo</td>\n",
              "      <td>Biscoe</td>\n",
              "      <td>49.9</td>\n",
              "      <td>16.1</td>\n",
              "      <td>213.0</td>\n",
              "      <td>5400.0</td>\n",
              "      <td>Male</td>\n",
              "    </tr>\n",
              "  </tbody>\n",
              "</table>\n",
              "</div>\n",
              "      <button class=\"colab-df-convert\" onclick=\"convertToInteractive('df-d5303e49-1b3a-417d-a79c-b2b60c240dfc')\"\n",
              "              title=\"Convert this dataframe to an interactive table.\"\n",
              "              style=\"display:none;\">\n",
              "        \n",
              "  <svg xmlns=\"http://www.w3.org/2000/svg\" height=\"24px\"viewBox=\"0 0 24 24\"\n",
              "       width=\"24px\">\n",
              "    <path d=\"M0 0h24v24H0V0z\" fill=\"none\"/>\n",
              "    <path d=\"M18.56 5.44l.94 2.06.94-2.06 2.06-.94-2.06-.94-.94-2.06-.94 2.06-2.06.94zm-11 1L8.5 8.5l.94-2.06 2.06-.94-2.06-.94L8.5 2.5l-.94 2.06-2.06.94zm10 10l.94 2.06.94-2.06 2.06-.94-2.06-.94-.94-2.06-.94 2.06-2.06.94z\"/><path d=\"M17.41 7.96l-1.37-1.37c-.4-.4-.92-.59-1.43-.59-.52 0-1.04.2-1.43.59L10.3 9.45l-7.72 7.72c-.78.78-.78 2.05 0 2.83L4 21.41c.39.39.9.59 1.41.59.51 0 1.02-.2 1.41-.59l7.78-7.78 2.81-2.81c.8-.78.8-2.07 0-2.86zM5.41 20L4 18.59l7.72-7.72 1.47 1.35L5.41 20z\"/>\n",
              "  </svg>\n",
              "      </button>\n",
              "      \n",
              "  <style>\n",
              "    .colab-df-container {\n",
              "      display:flex;\n",
              "      flex-wrap:wrap;\n",
              "      gap: 12px;\n",
              "    }\n",
              "\n",
              "    .colab-df-convert {\n",
              "      background-color: #E8F0FE;\n",
              "      border: none;\n",
              "      border-radius: 50%;\n",
              "      cursor: pointer;\n",
              "      display: none;\n",
              "      fill: #1967D2;\n",
              "      height: 32px;\n",
              "      padding: 0 0 0 0;\n",
              "      width: 32px;\n",
              "    }\n",
              "\n",
              "    .colab-df-convert:hover {\n",
              "      background-color: #E2EBFA;\n",
              "      box-shadow: 0px 1px 2px rgba(60, 64, 67, 0.3), 0px 1px 3px 1px rgba(60, 64, 67, 0.15);\n",
              "      fill: #174EA6;\n",
              "    }\n",
              "\n",
              "    [theme=dark] .colab-df-convert {\n",
              "      background-color: #3B4455;\n",
              "      fill: #D2E3FC;\n",
              "    }\n",
              "\n",
              "    [theme=dark] .colab-df-convert:hover {\n",
              "      background-color: #434B5C;\n",
              "      box-shadow: 0px 1px 3px 1px rgba(0, 0, 0, 0.15);\n",
              "      filter: drop-shadow(0px 1px 2px rgba(0, 0, 0, 0.3));\n",
              "      fill: #FFFFFF;\n",
              "    }\n",
              "  </style>\n",
              "\n",
              "      <script>\n",
              "        const buttonEl =\n",
              "          document.querySelector('#df-d5303e49-1b3a-417d-a79c-b2b60c240dfc button.colab-df-convert');\n",
              "        buttonEl.style.display =\n",
              "          google.colab.kernel.accessAllowed ? 'block' : 'none';\n",
              "\n",
              "        async function convertToInteractive(key) {\n",
              "          const element = document.querySelector('#df-d5303e49-1b3a-417d-a79c-b2b60c240dfc');\n",
              "          const dataTable =\n",
              "            await google.colab.kernel.invokeFunction('convertToInteractive',\n",
              "                                                     [key], {});\n",
              "          if (!dataTable) return;\n",
              "\n",
              "          const docLinkHtml = 'Like what you see? Visit the ' +\n",
              "            '<a target=\"_blank\" href=https://colab.research.google.com/notebooks/data_table.ipynb>data table notebook</a>'\n",
              "            + ' to learn more about interactive tables.';\n",
              "          element.innerHTML = '';\n",
              "          dataTable['output_type'] = 'display_data';\n",
              "          await google.colab.output.renderOutput(dataTable, element);\n",
              "          const docLink = document.createElement('div');\n",
              "          docLink.innerHTML = docLinkHtml;\n",
              "          element.appendChild(docLink);\n",
              "        }\n",
              "      </script>\n",
              "    </div>\n",
              "  </div>\n",
              "  "
            ]
          },
          "metadata": {},
          "execution_count": 6
        }
      ]
    },
    {
      "cell_type": "code",
      "source": [
        "#Measure of central tendency"
      ],
      "metadata": {
        "id": "SARRxKmcBdys"
      },
      "execution_count": null,
      "outputs": []
    },
    {
      "cell_type": "code",
      "source": [
        "data.describe()"
      ],
      "metadata": {
        "colab": {
          "base_uri": "https://localhost:8080/",
          "height": 300
        },
        "id": "O48SEmmaBkZ4",
        "outputId": "b0ab7ae3-f9db-436e-e293-b09e84b2a448"
      },
      "execution_count": 7,
      "outputs": [
        {
          "output_type": "execute_result",
          "data": {
            "text/plain": [
              "       bill_length_mm  bill_depth_mm  flipper_length_mm  body_mass_g\n",
              "count      342.000000     342.000000         342.000000   342.000000\n",
              "mean        43.921930      17.151170         200.915205  4201.754386\n",
              "std          5.459584       1.974793          14.061714   801.954536\n",
              "min         32.100000      13.100000         172.000000  2700.000000\n",
              "25%         39.225000      15.600000         190.000000  3550.000000\n",
              "50%         44.450000      17.300000         197.000000  4050.000000\n",
              "75%         48.500000      18.700000         213.000000  4750.000000\n",
              "max         59.600000      21.500000         231.000000  6300.000000"
            ],
            "text/html": [
              "\n",
              "  <div id=\"df-b6dfd3a0-c8a2-4b9d-8ce7-f1b75d5c018d\">\n",
              "    <div class=\"colab-df-container\">\n",
              "      <div>\n",
              "<style scoped>\n",
              "    .dataframe tbody tr th:only-of-type {\n",
              "        vertical-align: middle;\n",
              "    }\n",
              "\n",
              "    .dataframe tbody tr th {\n",
              "        vertical-align: top;\n",
              "    }\n",
              "\n",
              "    .dataframe thead th {\n",
              "        text-align: right;\n",
              "    }\n",
              "</style>\n",
              "<table border=\"1\" class=\"dataframe\">\n",
              "  <thead>\n",
              "    <tr style=\"text-align: right;\">\n",
              "      <th></th>\n",
              "      <th>bill_length_mm</th>\n",
              "      <th>bill_depth_mm</th>\n",
              "      <th>flipper_length_mm</th>\n",
              "      <th>body_mass_g</th>\n",
              "    </tr>\n",
              "  </thead>\n",
              "  <tbody>\n",
              "    <tr>\n",
              "      <th>count</th>\n",
              "      <td>342.000000</td>\n",
              "      <td>342.000000</td>\n",
              "      <td>342.000000</td>\n",
              "      <td>342.000000</td>\n",
              "    </tr>\n",
              "    <tr>\n",
              "      <th>mean</th>\n",
              "      <td>43.921930</td>\n",
              "      <td>17.151170</td>\n",
              "      <td>200.915205</td>\n",
              "      <td>4201.754386</td>\n",
              "    </tr>\n",
              "    <tr>\n",
              "      <th>std</th>\n",
              "      <td>5.459584</td>\n",
              "      <td>1.974793</td>\n",
              "      <td>14.061714</td>\n",
              "      <td>801.954536</td>\n",
              "    </tr>\n",
              "    <tr>\n",
              "      <th>min</th>\n",
              "      <td>32.100000</td>\n",
              "      <td>13.100000</td>\n",
              "      <td>172.000000</td>\n",
              "      <td>2700.000000</td>\n",
              "    </tr>\n",
              "    <tr>\n",
              "      <th>25%</th>\n",
              "      <td>39.225000</td>\n",
              "      <td>15.600000</td>\n",
              "      <td>190.000000</td>\n",
              "      <td>3550.000000</td>\n",
              "    </tr>\n",
              "    <tr>\n",
              "      <th>50%</th>\n",
              "      <td>44.450000</td>\n",
              "      <td>17.300000</td>\n",
              "      <td>197.000000</td>\n",
              "      <td>4050.000000</td>\n",
              "    </tr>\n",
              "    <tr>\n",
              "      <th>75%</th>\n",
              "      <td>48.500000</td>\n",
              "      <td>18.700000</td>\n",
              "      <td>213.000000</td>\n",
              "      <td>4750.000000</td>\n",
              "    </tr>\n",
              "    <tr>\n",
              "      <th>max</th>\n",
              "      <td>59.600000</td>\n",
              "      <td>21.500000</td>\n",
              "      <td>231.000000</td>\n",
              "      <td>6300.000000</td>\n",
              "    </tr>\n",
              "  </tbody>\n",
              "</table>\n",
              "</div>\n",
              "      <button class=\"colab-df-convert\" onclick=\"convertToInteractive('df-b6dfd3a0-c8a2-4b9d-8ce7-f1b75d5c018d')\"\n",
              "              title=\"Convert this dataframe to an interactive table.\"\n",
              "              style=\"display:none;\">\n",
              "        \n",
              "  <svg xmlns=\"http://www.w3.org/2000/svg\" height=\"24px\"viewBox=\"0 0 24 24\"\n",
              "       width=\"24px\">\n",
              "    <path d=\"M0 0h24v24H0V0z\" fill=\"none\"/>\n",
              "    <path d=\"M18.56 5.44l.94 2.06.94-2.06 2.06-.94-2.06-.94-.94-2.06-.94 2.06-2.06.94zm-11 1L8.5 8.5l.94-2.06 2.06-.94-2.06-.94L8.5 2.5l-.94 2.06-2.06.94zm10 10l.94 2.06.94-2.06 2.06-.94-2.06-.94-.94-2.06-.94 2.06-2.06.94z\"/><path d=\"M17.41 7.96l-1.37-1.37c-.4-.4-.92-.59-1.43-.59-.52 0-1.04.2-1.43.59L10.3 9.45l-7.72 7.72c-.78.78-.78 2.05 0 2.83L4 21.41c.39.39.9.59 1.41.59.51 0 1.02-.2 1.41-.59l7.78-7.78 2.81-2.81c.8-.78.8-2.07 0-2.86zM5.41 20L4 18.59l7.72-7.72 1.47 1.35L5.41 20z\"/>\n",
              "  </svg>\n",
              "      </button>\n",
              "      \n",
              "  <style>\n",
              "    .colab-df-container {\n",
              "      display:flex;\n",
              "      flex-wrap:wrap;\n",
              "      gap: 12px;\n",
              "    }\n",
              "\n",
              "    .colab-df-convert {\n",
              "      background-color: #E8F0FE;\n",
              "      border: none;\n",
              "      border-radius: 50%;\n",
              "      cursor: pointer;\n",
              "      display: none;\n",
              "      fill: #1967D2;\n",
              "      height: 32px;\n",
              "      padding: 0 0 0 0;\n",
              "      width: 32px;\n",
              "    }\n",
              "\n",
              "    .colab-df-convert:hover {\n",
              "      background-color: #E2EBFA;\n",
              "      box-shadow: 0px 1px 2px rgba(60, 64, 67, 0.3), 0px 1px 3px 1px rgba(60, 64, 67, 0.15);\n",
              "      fill: #174EA6;\n",
              "    }\n",
              "\n",
              "    [theme=dark] .colab-df-convert {\n",
              "      background-color: #3B4455;\n",
              "      fill: #D2E3FC;\n",
              "    }\n",
              "\n",
              "    [theme=dark] .colab-df-convert:hover {\n",
              "      background-color: #434B5C;\n",
              "      box-shadow: 0px 1px 3px 1px rgba(0, 0, 0, 0.15);\n",
              "      filter: drop-shadow(0px 1px 2px rgba(0, 0, 0, 0.3));\n",
              "      fill: #FFFFFF;\n",
              "    }\n",
              "  </style>\n",
              "\n",
              "      <script>\n",
              "        const buttonEl =\n",
              "          document.querySelector('#df-b6dfd3a0-c8a2-4b9d-8ce7-f1b75d5c018d button.colab-df-convert');\n",
              "        buttonEl.style.display =\n",
              "          google.colab.kernel.accessAllowed ? 'block' : 'none';\n",
              "\n",
              "        async function convertToInteractive(key) {\n",
              "          const element = document.querySelector('#df-b6dfd3a0-c8a2-4b9d-8ce7-f1b75d5c018d');\n",
              "          const dataTable =\n",
              "            await google.colab.kernel.invokeFunction('convertToInteractive',\n",
              "                                                     [key], {});\n",
              "          if (!dataTable) return;\n",
              "\n",
              "          const docLinkHtml = 'Like what you see? Visit the ' +\n",
              "            '<a target=\"_blank\" href=https://colab.research.google.com/notebooks/data_table.ipynb>data table notebook</a>'\n",
              "            + ' to learn more about interactive tables.';\n",
              "          element.innerHTML = '';\n",
              "          dataTable['output_type'] = 'display_data';\n",
              "          await google.colab.output.renderOutput(dataTable, element);\n",
              "          const docLink = document.createElement('div');\n",
              "          docLink.innerHTML = docLinkHtml;\n",
              "          element.appendChild(docLink);\n",
              "        }\n",
              "      </script>\n",
              "    </div>\n",
              "  </div>\n",
              "  "
            ]
          },
          "metadata": {},
          "execution_count": 7
        }
      ]
    },
    {
      "cell_type": "code",
      "source": [
        "data.describe()"
      ],
      "metadata": {
        "colab": {
          "base_uri": "https://localhost:8080/",
          "height": 300
        },
        "id": "bgmaiCNsBpg8",
        "outputId": "8766349f-03ab-4df0-b88d-70a6b48d0722"
      },
      "execution_count": 8,
      "outputs": [
        {
          "output_type": "execute_result",
          "data": {
            "text/plain": [
              "       bill_length_mm  bill_depth_mm  flipper_length_mm  body_mass_g\n",
              "count      342.000000     342.000000         342.000000   342.000000\n",
              "mean        43.921930      17.151170         200.915205  4201.754386\n",
              "std          5.459584       1.974793          14.061714   801.954536\n",
              "min         32.100000      13.100000         172.000000  2700.000000\n",
              "25%         39.225000      15.600000         190.000000  3550.000000\n",
              "50%         44.450000      17.300000         197.000000  4050.000000\n",
              "75%         48.500000      18.700000         213.000000  4750.000000\n",
              "max         59.600000      21.500000         231.000000  6300.000000"
            ],
            "text/html": [
              "\n",
              "  <div id=\"df-f90e2fb9-9aee-4fa6-851d-48b1f88e1c4b\">\n",
              "    <div class=\"colab-df-container\">\n",
              "      <div>\n",
              "<style scoped>\n",
              "    .dataframe tbody tr th:only-of-type {\n",
              "        vertical-align: middle;\n",
              "    }\n",
              "\n",
              "    .dataframe tbody tr th {\n",
              "        vertical-align: top;\n",
              "    }\n",
              "\n",
              "    .dataframe thead th {\n",
              "        text-align: right;\n",
              "    }\n",
              "</style>\n",
              "<table border=\"1\" class=\"dataframe\">\n",
              "  <thead>\n",
              "    <tr style=\"text-align: right;\">\n",
              "      <th></th>\n",
              "      <th>bill_length_mm</th>\n",
              "      <th>bill_depth_mm</th>\n",
              "      <th>flipper_length_mm</th>\n",
              "      <th>body_mass_g</th>\n",
              "    </tr>\n",
              "  </thead>\n",
              "  <tbody>\n",
              "    <tr>\n",
              "      <th>count</th>\n",
              "      <td>342.000000</td>\n",
              "      <td>342.000000</td>\n",
              "      <td>342.000000</td>\n",
              "      <td>342.000000</td>\n",
              "    </tr>\n",
              "    <tr>\n",
              "      <th>mean</th>\n",
              "      <td>43.921930</td>\n",
              "      <td>17.151170</td>\n",
              "      <td>200.915205</td>\n",
              "      <td>4201.754386</td>\n",
              "    </tr>\n",
              "    <tr>\n",
              "      <th>std</th>\n",
              "      <td>5.459584</td>\n",
              "      <td>1.974793</td>\n",
              "      <td>14.061714</td>\n",
              "      <td>801.954536</td>\n",
              "    </tr>\n",
              "    <tr>\n",
              "      <th>min</th>\n",
              "      <td>32.100000</td>\n",
              "      <td>13.100000</td>\n",
              "      <td>172.000000</td>\n",
              "      <td>2700.000000</td>\n",
              "    </tr>\n",
              "    <tr>\n",
              "      <th>25%</th>\n",
              "      <td>39.225000</td>\n",
              "      <td>15.600000</td>\n",
              "      <td>190.000000</td>\n",
              "      <td>3550.000000</td>\n",
              "    </tr>\n",
              "    <tr>\n",
              "      <th>50%</th>\n",
              "      <td>44.450000</td>\n",
              "      <td>17.300000</td>\n",
              "      <td>197.000000</td>\n",
              "      <td>4050.000000</td>\n",
              "    </tr>\n",
              "    <tr>\n",
              "      <th>75%</th>\n",
              "      <td>48.500000</td>\n",
              "      <td>18.700000</td>\n",
              "      <td>213.000000</td>\n",
              "      <td>4750.000000</td>\n",
              "    </tr>\n",
              "    <tr>\n",
              "      <th>max</th>\n",
              "      <td>59.600000</td>\n",
              "      <td>21.500000</td>\n",
              "      <td>231.000000</td>\n",
              "      <td>6300.000000</td>\n",
              "    </tr>\n",
              "  </tbody>\n",
              "</table>\n",
              "</div>\n",
              "      <button class=\"colab-df-convert\" onclick=\"convertToInteractive('df-f90e2fb9-9aee-4fa6-851d-48b1f88e1c4b')\"\n",
              "              title=\"Convert this dataframe to an interactive table.\"\n",
              "              style=\"display:none;\">\n",
              "        \n",
              "  <svg xmlns=\"http://www.w3.org/2000/svg\" height=\"24px\"viewBox=\"0 0 24 24\"\n",
              "       width=\"24px\">\n",
              "    <path d=\"M0 0h24v24H0V0z\" fill=\"none\"/>\n",
              "    <path d=\"M18.56 5.44l.94 2.06.94-2.06 2.06-.94-2.06-.94-.94-2.06-.94 2.06-2.06.94zm-11 1L8.5 8.5l.94-2.06 2.06-.94-2.06-.94L8.5 2.5l-.94 2.06-2.06.94zm10 10l.94 2.06.94-2.06 2.06-.94-2.06-.94-.94-2.06-.94 2.06-2.06.94z\"/><path d=\"M17.41 7.96l-1.37-1.37c-.4-.4-.92-.59-1.43-.59-.52 0-1.04.2-1.43.59L10.3 9.45l-7.72 7.72c-.78.78-.78 2.05 0 2.83L4 21.41c.39.39.9.59 1.41.59.51 0 1.02-.2 1.41-.59l7.78-7.78 2.81-2.81c.8-.78.8-2.07 0-2.86zM5.41 20L4 18.59l7.72-7.72 1.47 1.35L5.41 20z\"/>\n",
              "  </svg>\n",
              "      </button>\n",
              "      \n",
              "  <style>\n",
              "    .colab-df-container {\n",
              "      display:flex;\n",
              "      flex-wrap:wrap;\n",
              "      gap: 12px;\n",
              "    }\n",
              "\n",
              "    .colab-df-convert {\n",
              "      background-color: #E8F0FE;\n",
              "      border: none;\n",
              "      border-radius: 50%;\n",
              "      cursor: pointer;\n",
              "      display: none;\n",
              "      fill: #1967D2;\n",
              "      height: 32px;\n",
              "      padding: 0 0 0 0;\n",
              "      width: 32px;\n",
              "    }\n",
              "\n",
              "    .colab-df-convert:hover {\n",
              "      background-color: #E2EBFA;\n",
              "      box-shadow: 0px 1px 2px rgba(60, 64, 67, 0.3), 0px 1px 3px 1px rgba(60, 64, 67, 0.15);\n",
              "      fill: #174EA6;\n",
              "    }\n",
              "\n",
              "    [theme=dark] .colab-df-convert {\n",
              "      background-color: #3B4455;\n",
              "      fill: #D2E3FC;\n",
              "    }\n",
              "\n",
              "    [theme=dark] .colab-df-convert:hover {\n",
              "      background-color: #434B5C;\n",
              "      box-shadow: 0px 1px 3px 1px rgba(0, 0, 0, 0.15);\n",
              "      filter: drop-shadow(0px 1px 2px rgba(0, 0, 0, 0.3));\n",
              "      fill: #FFFFFF;\n",
              "    }\n",
              "  </style>\n",
              "\n",
              "      <script>\n",
              "        const buttonEl =\n",
              "          document.querySelector('#df-f90e2fb9-9aee-4fa6-851d-48b1f88e1c4b button.colab-df-convert');\n",
              "        buttonEl.style.display =\n",
              "          google.colab.kernel.accessAllowed ? 'block' : 'none';\n",
              "\n",
              "        async function convertToInteractive(key) {\n",
              "          const element = document.querySelector('#df-f90e2fb9-9aee-4fa6-851d-48b1f88e1c4b');\n",
              "          const dataTable =\n",
              "            await google.colab.kernel.invokeFunction('convertToInteractive',\n",
              "                                                     [key], {});\n",
              "          if (!dataTable) return;\n",
              "\n",
              "          const docLinkHtml = 'Like what you see? Visit the ' +\n",
              "            '<a target=\"_blank\" href=https://colab.research.google.com/notebooks/data_table.ipynb>data table notebook</a>'\n",
              "            + ' to learn more about interactive tables.';\n",
              "          element.innerHTML = '';\n",
              "          dataTable['output_type'] = 'display_data';\n",
              "          await google.colab.output.renderOutput(dataTable, element);\n",
              "          const docLink = document.createElement('div');\n",
              "          docLink.innerHTML = docLinkHtml;\n",
              "          element.appendChild(docLink);\n",
              "        }\n",
              "      </script>\n",
              "    </div>\n",
              "  </div>\n",
              "  "
            ]
          },
          "metadata": {},
          "execution_count": 8
        }
      ]
    },
    {
      "cell_type": "code",
      "source": [
        "data.mean()"
      ],
      "metadata": {
        "colab": {
          "base_uri": "https://localhost:8080/"
        },
        "id": "yyZCiPXqBx6A",
        "outputId": "4a9ab2dd-da90-4fc5-a2e8-1282df109ea8"
      },
      "execution_count": 9,
      "outputs": [
        {
          "output_type": "stream",
          "name": "stderr",
          "text": [
            "/usr/local/lib/python3.7/dist-packages/ipykernel_launcher.py:1: FutureWarning: Dropping of nuisance columns in DataFrame reductions (with 'numeric_only=None') is deprecated; in a future version this will raise TypeError.  Select only valid columns before calling the reduction.\n",
            "  \"\"\"Entry point for launching an IPython kernel.\n"
          ]
        },
        {
          "output_type": "execute_result",
          "data": {
            "text/plain": [
              "bill_length_mm         43.921930\n",
              "bill_depth_mm          17.151170\n",
              "flipper_length_mm     200.915205\n",
              "body_mass_g          4201.754386\n",
              "dtype: float64"
            ]
          },
          "metadata": {},
          "execution_count": 9
        }
      ]
    },
    {
      "cell_type": "code",
      "source": [
        "data.median()"
      ],
      "metadata": {
        "colab": {
          "base_uri": "https://localhost:8080/"
        },
        "id": "pAEKbcaoB2b1",
        "outputId": "84dd0af1-6d45-4e9f-a5d2-1595f5c0f9e9"
      },
      "execution_count": 10,
      "outputs": [
        {
          "output_type": "stream",
          "name": "stderr",
          "text": [
            "/usr/local/lib/python3.7/dist-packages/ipykernel_launcher.py:1: FutureWarning: Dropping of nuisance columns in DataFrame reductions (with 'numeric_only=None') is deprecated; in a future version this will raise TypeError.  Select only valid columns before calling the reduction.\n",
            "  \"\"\"Entry point for launching an IPython kernel.\n"
          ]
        },
        {
          "output_type": "execute_result",
          "data": {
            "text/plain": [
              "bill_length_mm         44.45\n",
              "bill_depth_mm          17.30\n",
              "flipper_length_mm     197.00\n",
              "body_mass_g          4050.00\n",
              "dtype: float64"
            ]
          },
          "metadata": {},
          "execution_count": 10
        }
      ]
    },
    {
      "cell_type": "code",
      "source": [
        "data.mode()"
      ],
      "metadata": {
        "colab": {
          "base_uri": "https://localhost:8080/",
          "height": 81
        },
        "id": "h5or4rUKB_Nz",
        "outputId": "f0af920d-8c37-4f35-b815-166a08b7cca6"
      },
      "execution_count": 11,
      "outputs": [
        {
          "output_type": "execute_result",
          "data": {
            "text/plain": [
              "  species  island  bill_length_mm  bill_depth_mm  flipper_length_mm  \\\n",
              "0  Adelie  Biscoe            41.1           17.0              190.0   \n",
              "\n",
              "   body_mass_g   sex  \n",
              "0       3800.0  Male  "
            ],
            "text/html": [
              "\n",
              "  <div id=\"df-f62853db-6bd6-4b89-8cb4-40b7d208033e\">\n",
              "    <div class=\"colab-df-container\">\n",
              "      <div>\n",
              "<style scoped>\n",
              "    .dataframe tbody tr th:only-of-type {\n",
              "        vertical-align: middle;\n",
              "    }\n",
              "\n",
              "    .dataframe tbody tr th {\n",
              "        vertical-align: top;\n",
              "    }\n",
              "\n",
              "    .dataframe thead th {\n",
              "        text-align: right;\n",
              "    }\n",
              "</style>\n",
              "<table border=\"1\" class=\"dataframe\">\n",
              "  <thead>\n",
              "    <tr style=\"text-align: right;\">\n",
              "      <th></th>\n",
              "      <th>species</th>\n",
              "      <th>island</th>\n",
              "      <th>bill_length_mm</th>\n",
              "      <th>bill_depth_mm</th>\n",
              "      <th>flipper_length_mm</th>\n",
              "      <th>body_mass_g</th>\n",
              "      <th>sex</th>\n",
              "    </tr>\n",
              "  </thead>\n",
              "  <tbody>\n",
              "    <tr>\n",
              "      <th>0</th>\n",
              "      <td>Adelie</td>\n",
              "      <td>Biscoe</td>\n",
              "      <td>41.1</td>\n",
              "      <td>17.0</td>\n",
              "      <td>190.0</td>\n",
              "      <td>3800.0</td>\n",
              "      <td>Male</td>\n",
              "    </tr>\n",
              "  </tbody>\n",
              "</table>\n",
              "</div>\n",
              "      <button class=\"colab-df-convert\" onclick=\"convertToInteractive('df-f62853db-6bd6-4b89-8cb4-40b7d208033e')\"\n",
              "              title=\"Convert this dataframe to an interactive table.\"\n",
              "              style=\"display:none;\">\n",
              "        \n",
              "  <svg xmlns=\"http://www.w3.org/2000/svg\" height=\"24px\"viewBox=\"0 0 24 24\"\n",
              "       width=\"24px\">\n",
              "    <path d=\"M0 0h24v24H0V0z\" fill=\"none\"/>\n",
              "    <path d=\"M18.56 5.44l.94 2.06.94-2.06 2.06-.94-2.06-.94-.94-2.06-.94 2.06-2.06.94zm-11 1L8.5 8.5l.94-2.06 2.06-.94-2.06-.94L8.5 2.5l-.94 2.06-2.06.94zm10 10l.94 2.06.94-2.06 2.06-.94-2.06-.94-.94-2.06-.94 2.06-2.06.94z\"/><path d=\"M17.41 7.96l-1.37-1.37c-.4-.4-.92-.59-1.43-.59-.52 0-1.04.2-1.43.59L10.3 9.45l-7.72 7.72c-.78.78-.78 2.05 0 2.83L4 21.41c.39.39.9.59 1.41.59.51 0 1.02-.2 1.41-.59l7.78-7.78 2.81-2.81c.8-.78.8-2.07 0-2.86zM5.41 20L4 18.59l7.72-7.72 1.47 1.35L5.41 20z\"/>\n",
              "  </svg>\n",
              "      </button>\n",
              "      \n",
              "  <style>\n",
              "    .colab-df-container {\n",
              "      display:flex;\n",
              "      flex-wrap:wrap;\n",
              "      gap: 12px;\n",
              "    }\n",
              "\n",
              "    .colab-df-convert {\n",
              "      background-color: #E8F0FE;\n",
              "      border: none;\n",
              "      border-radius: 50%;\n",
              "      cursor: pointer;\n",
              "      display: none;\n",
              "      fill: #1967D2;\n",
              "      height: 32px;\n",
              "      padding: 0 0 0 0;\n",
              "      width: 32px;\n",
              "    }\n",
              "\n",
              "    .colab-df-convert:hover {\n",
              "      background-color: #E2EBFA;\n",
              "      box-shadow: 0px 1px 2px rgba(60, 64, 67, 0.3), 0px 1px 3px 1px rgba(60, 64, 67, 0.15);\n",
              "      fill: #174EA6;\n",
              "    }\n",
              "\n",
              "    [theme=dark] .colab-df-convert {\n",
              "      background-color: #3B4455;\n",
              "      fill: #D2E3FC;\n",
              "    }\n",
              "\n",
              "    [theme=dark] .colab-df-convert:hover {\n",
              "      background-color: #434B5C;\n",
              "      box-shadow: 0px 1px 3px 1px rgba(0, 0, 0, 0.15);\n",
              "      filter: drop-shadow(0px 1px 2px rgba(0, 0, 0, 0.3));\n",
              "      fill: #FFFFFF;\n",
              "    }\n",
              "  </style>\n",
              "\n",
              "      <script>\n",
              "        const buttonEl =\n",
              "          document.querySelector('#df-f62853db-6bd6-4b89-8cb4-40b7d208033e button.colab-df-convert');\n",
              "        buttonEl.style.display =\n",
              "          google.colab.kernel.accessAllowed ? 'block' : 'none';\n",
              "\n",
              "        async function convertToInteractive(key) {\n",
              "          const element = document.querySelector('#df-f62853db-6bd6-4b89-8cb4-40b7d208033e');\n",
              "          const dataTable =\n",
              "            await google.colab.kernel.invokeFunction('convertToInteractive',\n",
              "                                                     [key], {});\n",
              "          if (!dataTable) return;\n",
              "\n",
              "          const docLinkHtml = 'Like what you see? Visit the ' +\n",
              "            '<a target=\"_blank\" href=https://colab.research.google.com/notebooks/data_table.ipynb>data table notebook</a>'\n",
              "            + ' to learn more about interactive tables.';\n",
              "          element.innerHTML = '';\n",
              "          dataTable['output_type'] = 'display_data';\n",
              "          await google.colab.output.renderOutput(dataTable, element);\n",
              "          const docLink = document.createElement('div');\n",
              "          docLink.innerHTML = docLinkHtml;\n",
              "          element.appendChild(docLink);\n",
              "        }\n",
              "      </script>\n",
              "    </div>\n",
              "  </div>\n",
              "  "
            ]
          },
          "metadata": {},
          "execution_count": 11
        }
      ]
    },
    {
      "cell_type": "code",
      "source": [
        "data.skew()"
      ],
      "metadata": {
        "colab": {
          "base_uri": "https://localhost:8080/"
        },
        "id": "HSOXkDMSCDUl",
        "outputId": "8dcf2edc-3d9f-4710-b70d-3f55533c0a8d"
      },
      "execution_count": 12,
      "outputs": [
        {
          "output_type": "stream",
          "name": "stderr",
          "text": [
            "/usr/local/lib/python3.7/dist-packages/ipykernel_launcher.py:1: FutureWarning: Dropping of nuisance columns in DataFrame reductions (with 'numeric_only=None') is deprecated; in a future version this will raise TypeError.  Select only valid columns before calling the reduction.\n",
            "  \"\"\"Entry point for launching an IPython kernel.\n"
          ]
        },
        {
          "output_type": "execute_result",
          "data": {
            "text/plain": [
              "bill_length_mm       0.053118\n",
              "bill_depth_mm       -0.143465\n",
              "flipper_length_mm    0.345682\n",
              "body_mass_g          0.470329\n",
              "dtype: float64"
            ]
          },
          "metadata": {},
          "execution_count": 12
        }
      ]
    },
    {
      "cell_type": "code",
      "source": [
        "data.kurtosis()"
      ],
      "metadata": {
        "colab": {
          "base_uri": "https://localhost:8080/"
        },
        "id": "mDuytYtXCLq4",
        "outputId": "4d4801a1-84a4-4f36-81b2-9d3f2343d075"
      },
      "execution_count": 13,
      "outputs": [
        {
          "output_type": "stream",
          "name": "stderr",
          "text": [
            "/usr/local/lib/python3.7/dist-packages/ipykernel_launcher.py:1: FutureWarning: Dropping of nuisance columns in DataFrame reductions (with 'numeric_only=None') is deprecated; in a future version this will raise TypeError.  Select only valid columns before calling the reduction.\n",
            "  \"\"\"Entry point for launching an IPython kernel.\n"
          ]
        },
        {
          "output_type": "execute_result",
          "data": {
            "text/plain": [
              "bill_length_mm      -0.876027\n",
              "bill_depth_mm       -0.906866\n",
              "flipper_length_mm   -0.984273\n",
              "body_mass_g         -0.719222\n",
              "dtype: float64"
            ]
          },
          "metadata": {},
          "execution_count": 13
        }
      ]
    },
    {
      "cell_type": "code",
      "source": [
        "print(sns.displot(data['island']))"
      ],
      "metadata": {
        "colab": {
          "base_uri": "https://localhost:8080/",
          "height": 386
        },
        "id": "LYysZNOsCRvP",
        "outputId": "b9342141-0b97-404a-b9fc-6563ae27e005"
      },
      "execution_count": 14,
      "outputs": [
        {
          "output_type": "stream",
          "name": "stdout",
          "text": [
            "<seaborn.axisgrid.FacetGrid object at 0x7f542d0cec10>\n"
          ]
        },
        {
          "output_type": "display_data",
          "data": {
            "text/plain": [
              "<Figure size 360x360 with 1 Axes>"
            ],
            "image/png": "[encoded data removed]"
          },
          "metadata": {
            "needs_background": "light"
          }
        }
      ]
    },
    {
      "cell_type": "code",
      "source": [
        "#Range"
      ],
      "metadata": {
        "id": "RFVHblGTCXwg"
      },
      "execution_count": null,
      "outputs": []
    },
    {
      "cell_type": "code",
      "source": [
        "data.max()"
      ],
      "metadata": {
        "colab": {
          "base_uri": "https://localhost:8080/"
        },
        "id": "M5d5o7HTCfg9",
        "outputId": "3ccf5672-5da6-4b06-97ee-fc295e2175a4"
      },
      "execution_count": 15,
      "outputs": [
        {
          "output_type": "stream",
          "name": "stderr",
          "text": [
            "/usr/local/lib/python3.7/dist-packages/ipykernel_launcher.py:1: FutureWarning: Dropping of nuisance columns in DataFrame reductions (with 'numeric_only=None') is deprecated; in a future version this will raise TypeError.  Select only valid columns before calling the reduction.\n",
            "  \"\"\"Entry point for launching an IPython kernel.\n"
          ]
        },
        {
          "output_type": "execute_result",
          "data": {
            "text/plain": [
              "species                 Gentoo\n",
              "island               Torgersen\n",
              "bill_length_mm            59.6\n",
              "bill_depth_mm             21.5\n",
              "flipper_length_mm        231.0\n",
              "body_mass_g             6300.0\n",
              "dtype: object"
            ]
          },
          "metadata": {},
          "execution_count": 15
        }
      ]
    },
    {
      "cell_type": "code",
      "source": [
        "data['island'].max()"
      ],
      "metadata": {
        "colab": {
          "base_uri": "https://localhost:8080/",
          "height": 35
        },
        "id": "f-InhtfhCjfu",
        "outputId": "5588488e-1324-4a66-8358-ab7826fbede3"
      },
      "execution_count": 16,
      "outputs": [
        {
          "output_type": "execute_result",
          "data": {
            "text/plain": [
              "'Torgersen'"
            ],
            "application/vnd.google.colaboratory.intrinsic+json": {
              "type": "string"
            }
          },
          "metadata": {},
          "execution_count": 16
        }
      ]
    },
    {
      "cell_type": "code",
      "source": [
        "data['island'].min()"
      ],
      "metadata": {
        "colab": {
          "base_uri": "https://localhost:8080/",
          "height": 35
        },
        "id": "wbfDTCwiCvsa",
        "outputId": "67588d51-7131-464b-83ac-c14d54076c0a"
      },
      "execution_count": 17,
      "outputs": [
        {
          "output_type": "execute_result",
          "data": {
            "text/plain": [
              "'Biscoe'"
            ],
            "application/vnd.google.colaboratory.intrinsic+json": {
              "type": "string"
            }
          },
          "metadata": {},
          "execution_count": 17
        }
      ]
    },
    {
      "cell_type": "code",
      "source": [
        "# range is the max value - min value of the data\n",
        "data['bill_length_mm'].max()-data['bill_depth_mm'].min()"
      ],
      "metadata": {
        "colab": {
          "base_uri": "https://localhost:8080/"
        },
        "id": "SNwIXw4vC4te",
        "outputId": "2e162d94-f25b-4548-df58-01ec54222161"
      },
      "execution_count": 18,
      "outputs": [
        {
          "output_type": "execute_result",
          "data": {
            "text/plain": [
              "46.5"
            ]
          },
          "metadata": {},
          "execution_count": 18
        }
      ]
    },
    {
      "cell_type": "code",
      "source": [
        "sns.pairplot(data)"
      ],
      "metadata": {
        "colab": {
          "base_uri": "https://localhost:8080/",
          "height": 743
        },
        "id": "adNuV_CSC7_O",
        "outputId": "32e1a75e-3e32-4ce7-bf11-fbc8169cc4a3"
      },
      "execution_count": 19,
      "outputs": [
        {
          "output_type": "execute_result",
          "data": {
            "text/plain": [
              "<seaborn.axisgrid.PairGrid at 0x7f542a6df210>"
            ]
          },
          "metadata": {},
          "execution_count": 19
        },
        {
          "output_type": "display_data",
          "data": {
            "text/plain": [
              "<Figure size 720x720 with 20 Axes>"
            ],
            "image/png": "[encoded data removed]"
          },
          "metadata": {
            "needs_background": "light"
          }
        }
      ]
    },
    {
      "cell_type": "code",
      "source": [
        "#IQR - Inter Quartile Range\n",
        "#The IQR describes the middle 50% of values when ordered from lowest to highest. To find the interquartile range (IQR), ​first find the median (middle value) of the lower and upper half of the data. \n",
        "#These values are quartile 1 (Q1) and quartile 3 (Q3). The IQR is the difference between Q3 and Q1."
      ],
      "metadata": {
        "id": "Wz1aKOKxDBkf"
      },
      "execution_count": null,
      "outputs": []
    },
    {
      "cell_type": "code",
      "source": [
        "# IQR = q3-q1\n",
        "\n",
        "quantile = data.quantile(q = [0.75,0.25])\n",
        "df = pd.DataFrame(np.array([[2, 2], [3, 20], [4, 200], [5, 200]]),\n",
        "                  columns=['p', 'q'])\n",
        "df.quantile(.1)"
      ],
      "metadata": {
        "colab": {
          "base_uri": "https://localhost:8080/"
        },
        "id": "Qf8geJg0DNZP",
        "outputId": "2ad2b103-d45b-4a62-8bb4-c28ea03cd254"
      },
      "execution_count": 20,
      "outputs": [
        {
          "output_type": "execute_result",
          "data": {
            "text/plain": [
              "p    2.3\n",
              "q    7.4\n",
              "Name: 0.1, dtype: float64"
            ]
          },
          "metadata": {},
          "execution_count": 20
        }
      ]
    },
    {
      "cell_type": "code",
      "source": [
        "quantile.iloc[0]"
      ],
      "metadata": {
        "colab": {
          "base_uri": "https://localhost:8080/"
        },
        "id": "RPVBq8zIDTXd",
        "outputId": "0644f248-6060-4b0e-9dc5-cc161ae11855"
      },
      "execution_count": 21,
      "outputs": [
        {
          "output_type": "execute_result",
          "data": {
            "text/plain": [
              "bill_length_mm         48.5\n",
              "bill_depth_mm          18.7\n",
              "flipper_length_mm     213.0\n",
              "body_mass_g          4750.0\n",
              "Name: 0.75, dtype: float64"
            ]
          },
          "metadata": {},
          "execution_count": 21
        }
      ]
    },
    {
      "cell_type": "code",
      "source": [
        "IQR = quantile.iloc[0]-quantile.iloc[1]\n",
        "IQR"
      ],
      "metadata": {
        "colab": {
          "base_uri": "https://localhost:8080/"
        },
        "id": "HQAA_vU5DYFL",
        "outputId": "32bf9269-8e1f-45d4-d650-b9bb1c4734eb"
      },
      "execution_count": 22,
      "outputs": [
        {
          "output_type": "execute_result",
          "data": {
            "text/plain": [
              "bill_length_mm          9.275\n",
              "bill_depth_mm           3.100\n",
              "flipper_length_mm      23.000\n",
              "body_mass_g          1200.000\n",
              "dtype: float64"
            ]
          },
          "metadata": {},
          "execution_count": 22
        }
      ]
    },
    {
      "cell_type": "code",
      "source": [
        "# q3 + 1.5 *IQR\n",
        "Upper_extreme = quantile.iloc[0] + (1.5*IQR)\n",
        "Upper_extreme"
      ],
      "metadata": {
        "colab": {
          "base_uri": "https://localhost:8080/"
        },
        "id": "X_TG9ihTDeAM",
        "outputId": "0c0113e1-6011-4ef6-930c-7e411e1b79d6"
      },
      "execution_count": 23,
      "outputs": [
        {
          "output_type": "execute_result",
          "data": {
            "text/plain": [
              "bill_length_mm         62.4125\n",
              "bill_depth_mm          23.3500\n",
              "flipper_length_mm     247.5000\n",
              "body_mass_g          6550.0000\n",
              "dtype: float64"
            ]
          },
          "metadata": {},
          "execution_count": 23
        }
      ]
    },
    {
      "cell_type": "code",
      "source": [
        "# q1- 1.5*IQR\n",
        "lower_extreme = quantile.iloc[1] - (1.5*IQR)\n",
        "lower_extreme"
      ],
      "metadata": {
        "colab": {
          "base_uri": "https://localhost:8080/"
        },
        "id": "FjxzSyPVDkDk",
        "outputId": "0caeaa62-50cc-4ec2-9ed4-5cc971fce24b"
      },
      "execution_count": 24,
      "outputs": [
        {
          "output_type": "execute_result",
          "data": {
            "text/plain": [
              "bill_length_mm         25.3125\n",
              "bill_depth_mm          10.9500\n",
              "flipper_length_mm     155.5000\n",
              "body_mass_g          1750.0000\n",
              "dtype: float64"
            ]
          },
          "metadata": {},
          "execution_count": 24
        }
      ]
    },
    {
      "cell_type": "code",
      "source": [
        "sns.boxplot(data.flipper_length_mm)"
      ],
      "metadata": {
        "colab": {
          "base_uri": "https://localhost:8080/",
          "height": 352
        },
        "id": "8V9eJcBFDqxm",
        "outputId": "3267652b-f151-4f59-c33e-8c5201aff473"
      },
      "execution_count": 25,
      "outputs": [
        {
          "output_type": "stream",
          "name": "stderr",
          "text": [
            "/usr/local/lib/python3.7/dist-packages/seaborn/_decorators.py:43: FutureWarning: Pass the following variable as a keyword arg: x. From version 0.12, the only valid positional argument will be `data`, and passing other arguments without an explicit keyword will result in an error or misinterpretation.\n",
            "  FutureWarning\n"
          ]
        },
        {
          "output_type": "execute_result",
          "data": {
            "text/plain": [
              "<matplotlib.axes._subplots.AxesSubplot at 0x7f5429fa1c50>"
            ]
          },
          "metadata": {},
          "execution_count": 25
        },
        {
          "output_type": "display_data",
          "data": {
            "text/plain": [
              "<Figure size 432x288 with 1 Axes>"
            ],
            "image/png": "[encoded data removed]"
          },
          "metadata": {
            "needs_background": "light"
          }
        }
      ]
    },
    {
      "cell_type": "code",
      "source": [
        "sns.boxplot(data.body_mass_g)"
      ],
      "metadata": {
        "colab": {
          "base_uri": "https://localhost:8080/",
          "height": 352
        },
        "id": "R5UeZsPkDxLu",
        "outputId": "56ffc8fe-451d-4638-d55a-f93e343d2fb7"
      },
      "execution_count": 26,
      "outputs": [
        {
          "output_type": "stream",
          "name": "stderr",
          "text": [
            "/usr/local/lib/python3.7/dist-packages/seaborn/_decorators.py:43: FutureWarning: Pass the following variable as a keyword arg: x. From version 0.12, the only valid positional argument will be `data`, and passing other arguments without an explicit keyword will result in an error or misinterpretation.\n",
            "  FutureWarning\n"
          ]
        },
        {
          "output_type": "execute_result",
          "data": {
            "text/plain": [
              "<matplotlib.axes._subplots.AxesSubplot at 0x7f54287840d0>"
            ]
          },
          "metadata": {},
          "execution_count": 26
        },
        {
          "output_type": "display_data",
          "data": {
            "text/plain": [
              "<Figure size 432x288 with 1 Axes>"
            ],
            "image/png": "[encoded data removed]"
          },
          "metadata": {
            "needs_background": "light"
          }
        }
      ]
    },
    {
      "cell_type": "code",
      "source": [
        "#Population and sample\n",
        "import cv2\n",
        "a = cv2.imread(\"sp.jpg\")\n",
        "import matplotlib.pyplot as plt\n",
        "plt.imshow(a)"
      ],
      "metadata": {
        "colab": {
          "base_uri": "https://localhost:8080/",
          "height": 597
        },
        "id": "yAvvyiKRD2OW",
        "outputId": "76ecbb1c-1f27-479b-c979-a424a42cea74"
      },
      "execution_count": 27,
      "outputs": [
        {
          "output_type": "error",
          "ename": "TypeError",
          "evalue": "ignored",
          "traceback": [
            "\u001b[0;31m---------------------------------------------------------------------------\u001b[0m",
            "\u001b[0;31mTypeError\u001b[0m                                 Traceback (most recent call last)",
            "\u001b[0;32m<ipython-input-27-22f96d82ee3a>\u001b[0m in \u001b[0;36m<module>\u001b[0;34m\u001b[0m\n\u001b[1;32m      3\u001b[0m \u001b[0ma\u001b[0m \u001b[0;34m=\u001b[0m \u001b[0mcv2\u001b[0m\u001b[0;34m.\u001b[0m\u001b[0mimread\u001b[0m\u001b[0;34m(\u001b[0m\u001b[0;34m\"sp.jpg\"\u001b[0m\u001b[0;34m)\u001b[0m\u001b[0;34m\u001b[0m\u001b[0;34m\u001b[0m\u001b[0m\n\u001b[1;32m      4\u001b[0m \u001b[0;32mimport\u001b[0m \u001b[0mmatplotlib\u001b[0m\u001b[0;34m.\u001b[0m\u001b[0mpyplot\u001b[0m \u001b[0;32mas\u001b[0m \u001b[0mplt\u001b[0m\u001b[0;34m\u001b[0m\u001b[0;34m\u001b[0m\u001b[0m\n\u001b[0;32m----> 5\u001b[0;31m \u001b[0mplt\u001b[0m\u001b[0;34m.\u001b[0m\u001b[0mimshow\u001b[0m\u001b[0;34m(\u001b[0m\u001b[0ma\u001b[0m\u001b[0;34m)\u001b[0m\u001b[0;34m\u001b[0m\u001b[0;34m\u001b[0m\u001b[0m\n\u001b[0m",
            "\u001b[0;32m/usr/local/lib/python3.7/dist-packages/matplotlib/pyplot.py\u001b[0m in \u001b[0;36mimshow\u001b[0;34m(X, cmap, norm, aspect, interpolation, alpha, vmin, vmax, origin, extent, shape, filternorm, filterrad, imlim, resample, url, data, **kwargs)\u001b[0m\n\u001b[1;32m   2649\u001b[0m         \u001b[0mfilternorm\u001b[0m\u001b[0;34m=\u001b[0m\u001b[0mfilternorm\u001b[0m\u001b[0;34m,\u001b[0m \u001b[0mfilterrad\u001b[0m\u001b[0;34m=\u001b[0m\u001b[0mfilterrad\u001b[0m\u001b[0;34m,\u001b[0m \u001b[0mimlim\u001b[0m\u001b[0;34m=\u001b[0m\u001b[0mimlim\u001b[0m\u001b[0;34m,\u001b[0m\u001b[0;34m\u001b[0m\u001b[0;34m\u001b[0m\u001b[0m\n\u001b[1;32m   2650\u001b[0m         resample=resample, url=url, **({\"data\": data} if data is not\n\u001b[0;32m-> 2651\u001b[0;31m         None else {}), **kwargs)\n\u001b[0m\u001b[1;32m   2652\u001b[0m     \u001b[0msci\u001b[0m\u001b[0;34m(\u001b[0m\u001b[0m__ret\u001b[0m\u001b[0;34m)\u001b[0m\u001b[0;34m\u001b[0m\u001b[0;34m\u001b[0m\u001b[0m\n\u001b[1;32m   2653\u001b[0m     \u001b[0;32mreturn\u001b[0m \u001b[0m__ret\u001b[0m\u001b[0;34m\u001b[0m\u001b[0;34m\u001b[0m\u001b[0m\n",
            "\u001b[0;32m/usr/local/lib/python3.7/dist-packages/matplotlib/__init__.py\u001b[0m in \u001b[0;36minner\u001b[0;34m(ax, data, *args, **kwargs)\u001b[0m\n\u001b[1;32m   1563\u001b[0m     \u001b[0;32mdef\u001b[0m \u001b[0minner\u001b[0m\u001b[0;34m(\u001b[0m\u001b[0max\u001b[0m\u001b[0;34m,\u001b[0m \u001b[0;34m*\u001b[0m\u001b[0margs\u001b[0m\u001b[0;34m,\u001b[0m \u001b[0mdata\u001b[0m\u001b[0;34m=\u001b[0m\u001b[0;32mNone\u001b[0m\u001b[0;34m,\u001b[0m \u001b[0;34m**\u001b[0m\u001b[0mkwargs\u001b[0m\u001b[0;34m)\u001b[0m\u001b[0;34m:\u001b[0m\u001b[0;34m\u001b[0m\u001b[0;34m\u001b[0m\u001b[0m\n\u001b[1;32m   1564\u001b[0m         \u001b[0;32mif\u001b[0m \u001b[0mdata\u001b[0m \u001b[0;32mis\u001b[0m \u001b[0;32mNone\u001b[0m\u001b[0;34m:\u001b[0m\u001b[0;34m\u001b[0m\u001b[0;34m\u001b[0m\u001b[0m\n\u001b[0;32m-> 1565\u001b[0;31m             \u001b[0;32mreturn\u001b[0m \u001b[0mfunc\u001b[0m\u001b[0;34m(\u001b[0m\u001b[0max\u001b[0m\u001b[0;34m,\u001b[0m \u001b[0;34m*\u001b[0m\u001b[0mmap\u001b[0m\u001b[0;34m(\u001b[0m\u001b[0msanitize_sequence\u001b[0m\u001b[0;34m,\u001b[0m \u001b[0margs\u001b[0m\u001b[0;34m)\u001b[0m\u001b[0;34m,\u001b[0m \u001b[0;34m**\u001b[0m\u001b[0mkwargs\u001b[0m\u001b[0;34m)\u001b[0m\u001b[0;34m\u001b[0m\u001b[0;34m\u001b[0m\u001b[0m\n\u001b[0m\u001b[1;32m   1566\u001b[0m \u001b[0;34m\u001b[0m\u001b[0m\n\u001b[1;32m   1567\u001b[0m         \u001b[0mbound\u001b[0m \u001b[0;34m=\u001b[0m \u001b[0mnew_sig\u001b[0m\u001b[0;34m.\u001b[0m\u001b[0mbind\u001b[0m\u001b[0;34m(\u001b[0m\u001b[0max\u001b[0m\u001b[0;34m,\u001b[0m \u001b[0;34m*\u001b[0m\u001b[0margs\u001b[0m\u001b[0;34m,\u001b[0m \u001b[0;34m**\u001b[0m\u001b[0mkwargs\u001b[0m\u001b[0;34m)\u001b[0m\u001b[0;34m\u001b[0m\u001b[0;34m\u001b[0m\u001b[0m\n",
            "\u001b[0;32m/usr/local/lib/python3.7/dist-packages/matplotlib/cbook/deprecation.py\u001b[0m in \u001b[0;36mwrapper\u001b[0;34m(*args, **kwargs)\u001b[0m\n\u001b[1;32m    356\u001b[0m                 \u001b[0;34mf\"%(removal)s.  If any parameter follows {name!r}, they \"\u001b[0m\u001b[0;34m\u001b[0m\u001b[0;34m\u001b[0m\u001b[0m\n\u001b[1;32m    357\u001b[0m                 f\"should be pass as keyword, not positionally.\")\n\u001b[0;32m--> 358\u001b[0;31m         \u001b[0;32mreturn\u001b[0m \u001b[0mfunc\u001b[0m\u001b[0;34m(\u001b[0m\u001b[0;34m*\u001b[0m\u001b[0margs\u001b[0m\u001b[0;34m,\u001b[0m \u001b[0;34m**\u001b[0m\u001b[0mkwargs\u001b[0m\u001b[0;34m)\u001b[0m\u001b[0;34m\u001b[0m\u001b[0;34m\u001b[0m\u001b[0m\n\u001b[0m\u001b[1;32m    359\u001b[0m \u001b[0;34m\u001b[0m\u001b[0m\n\u001b[1;32m    360\u001b[0m     \u001b[0;32mreturn\u001b[0m \u001b[0mwrapper\u001b[0m\u001b[0;34m\u001b[0m\u001b[0;34m\u001b[0m\u001b[0m\n",
            "\u001b[0;32m/usr/local/lib/python3.7/dist-packages/matplotlib/cbook/deprecation.py\u001b[0m in \u001b[0;36mwrapper\u001b[0;34m(*args, **kwargs)\u001b[0m\n\u001b[1;32m    356\u001b[0m                 \u001b[0;34mf\"%(removal)s.  If any parameter follows {name!r}, they \"\u001b[0m\u001b[0;34m\u001b[0m\u001b[0;34m\u001b[0m\u001b[0m\n\u001b[1;32m    357\u001b[0m                 f\"should be pass as keyword, not positionally.\")\n\u001b[0;32m--> 358\u001b[0;31m         \u001b[0;32mreturn\u001b[0m \u001b[0mfunc\u001b[0m\u001b[0;34m(\u001b[0m\u001b[0;34m*\u001b[0m\u001b[0margs\u001b[0m\u001b[0;34m,\u001b[0m \u001b[0;34m**\u001b[0m\u001b[0mkwargs\u001b[0m\u001b[0;34m)\u001b[0m\u001b[0;34m\u001b[0m\u001b[0;34m\u001b[0m\u001b[0m\n\u001b[0m\u001b[1;32m    359\u001b[0m \u001b[0;34m\u001b[0m\u001b[0m\n\u001b[1;32m    360\u001b[0m     \u001b[0;32mreturn\u001b[0m \u001b[0mwrapper\u001b[0m\u001b[0;34m\u001b[0m\u001b[0;34m\u001b[0m\u001b[0m\n",
            "\u001b[0;32m/usr/local/lib/python3.7/dist-packages/matplotlib/axes/_axes.py\u001b[0m in \u001b[0;36mimshow\u001b[0;34m(self, X, cmap, norm, aspect, interpolation, alpha, vmin, vmax, origin, extent, shape, filternorm, filterrad, imlim, resample, url, **kwargs)\u001b[0m\n\u001b[1;32m   5624\u001b[0m                               resample=resample, **kwargs)\n\u001b[1;32m   5625\u001b[0m \u001b[0;34m\u001b[0m\u001b[0m\n\u001b[0;32m-> 5626\u001b[0;31m         \u001b[0mim\u001b[0m\u001b[0;34m.\u001b[0m\u001b[0mset_data\u001b[0m\u001b[0;34m(\u001b[0m\u001b[0mX\u001b[0m\u001b[0;34m)\u001b[0m\u001b[0;34m\u001b[0m\u001b[0;34m\u001b[0m\u001b[0m\n\u001b[0m\u001b[1;32m   5627\u001b[0m         \u001b[0mim\u001b[0m\u001b[0;34m.\u001b[0m\u001b[0mset_alpha\u001b[0m\u001b[0;34m(\u001b[0m\u001b[0malpha\u001b[0m\u001b[0;34m)\u001b[0m\u001b[0;34m\u001b[0m\u001b[0;34m\u001b[0m\u001b[0m\n\u001b[1;32m   5628\u001b[0m         \u001b[0;32mif\u001b[0m \u001b[0mim\u001b[0m\u001b[0;34m.\u001b[0m\u001b[0mget_clip_path\u001b[0m\u001b[0;34m(\u001b[0m\u001b[0;34m)\u001b[0m \u001b[0;32mis\u001b[0m \u001b[0;32mNone\u001b[0m\u001b[0;34m:\u001b[0m\u001b[0;34m\u001b[0m\u001b[0;34m\u001b[0m\u001b[0m\n",
            "\u001b[0;32m/usr/local/lib/python3.7/dist-packages/matplotlib/image.py\u001b[0m in \u001b[0;36mset_data\u001b[0;34m(self, A)\u001b[0m\n\u001b[1;32m    692\u001b[0m                 not np.can_cast(self._A.dtype, float, \"same_kind\")):\n\u001b[1;32m    693\u001b[0m             raise TypeError(\"Image data of dtype {} cannot be converted to \"\n\u001b[0;32m--> 694\u001b[0;31m                             \"float\".format(self._A.dtype))\n\u001b[0m\u001b[1;32m    695\u001b[0m \u001b[0;34m\u001b[0m\u001b[0m\n\u001b[1;32m    696\u001b[0m         if not (self._A.ndim == 2\n",
            "\u001b[0;31mTypeError\u001b[0m: Image data of dtype object cannot be converted to float"
          ]
        },
        {
          "output_type": "display_data",
          "data": {
            "text/plain": [
              "<Figure size 432x288 with 1 Axes>"
            ],
            "image/png": "[encoded data removed]"
          },
          "metadata": {
            "needs_background": "light"
          }
        }
      ]
    },
    {
      "cell_type": "code",
      "source": [
        "import numpy as np\n",
        "# generating population data following Normal Distribution\n",
        "N = 10000\n",
        "mu = 10\n",
        "std = 2\n",
        "population_df = np.random.normal(mu,std,N)\n",
        "population_df"
      ],
      "metadata": {
        "colab": {
          "base_uri": "https://localhost:8080/"
        },
        "id": "JhDeN05aEBcn",
        "outputId": "855b6c5f-791c-4cd4-8620-ab60dfa69096"
      },
      "execution_count": 28,
      "outputs": [
        {
          "output_type": "execute_result",
          "data": {
            "text/plain": [
              "array([12.36286784,  9.77101444, 10.58159193, ..., 10.45900558,\n",
              "       10.89819486,  7.39235125])"
            ]
          },
          "metadata": {},
          "execution_count": 28
        }
      ]
    },
    {
      "cell_type": "code",
      "source": [
        "import seaborn as sns\n",
        "sns.displot(population_df)"
      ],
      "metadata": {
        "colab": {
          "base_uri": "https://localhost:8080/",
          "height": 386
        },
        "id": "h5FtBxtDEKEC",
        "outputId": "a997a53d-7aea-437a-c3a8-4fb672e3b749"
      },
      "execution_count": 29,
      "outputs": [
        {
          "output_type": "execute_result",
          "data": {
            "text/plain": [
              "<seaborn.axisgrid.FacetGrid at 0x7f54286f7f10>"
            ]
          },
          "metadata": {},
          "execution_count": 29
        },
        {
          "output_type": "display_data",
          "data": {
            "text/plain": [
              "<Figure size 360x360 with 1 Axes>"
            ],
            "image/png": "[encoded data removed]"
          },
          "metadata": {
            "needs_background": "light"
          }
        }
      ]
    },
    {
      "cell_type": "code",
      "source": [
        "# function that creates random sample \n",
        "def random_sampling(df, n):\n",
        "    random_sample = np.random.choice(df,replace = False, size = n)\n",
        "    return(random_sample)\n",
        "randomSample = random_sampling(population_df, 1000)\n",
        "randomSample"
      ],
      "metadata": {
        "colab": {
          "base_uri": "https://localhost:8080/"
        },
        "id": "2CCvbHXsEPne",
        "outputId": "6c43a773-f19e-4257-aedb-596bd353bb8b"
      },
      "execution_count": 30,
      "outputs": [
        {
          "output_type": "execute_result",
          "data": {
            "text/plain": [
              "array([12.6161976 ,  6.07618921, 10.96737456,  7.08974295, 11.13052413,\n",
              "        9.38611515,  9.55661694, 11.08858462, 10.70658389, 12.98983802,\n",
              "       13.72521737, 10.52452479, 12.72230489,  8.75989875,  8.75404174,\n",
              "       10.00361945,  7.5128799 , 10.19013444, 10.19977446, 11.46405454,\n",
              "        7.35957502,  9.96234398,  6.76180285,  7.86193161,  8.92208297,\n",
              "       12.95571928,  9.6158369 , 11.48127708, 10.90119857, 11.35243489,\n",
              "        8.40682538,  8.64039655,  9.49109511,  9.00022198,  5.75525211,\n",
              "        9.99978166,  9.51825443, 11.25179176, 11.29640395,  6.6342215 ,\n",
              "       11.00709927, 11.24062658, 10.39724636,  4.98545165, 10.86205559,\n",
              "       12.2310515 , 11.49253504,  6.61660861,  8.41741013,  9.31859937,\n",
              "        8.12284052,  7.42007879,  9.07258188, 11.02649204, 11.28906776,\n",
              "       13.53716065,  9.09217055, 12.34720823,  8.60466201,  9.47637856,\n",
              "       11.30596703, 13.93958632,  9.01996371,  7.90166035, 10.62691874,\n",
              "       11.99478533, 11.5782131 , 13.0608517 ,  8.71873774, 13.18811655,\n",
              "       10.45052095, 11.7362962 , 10.56368268, 12.59977637, 14.34193992,\n",
              "       10.51799211,  8.45669031,  9.41275125, 13.2470501 , 11.76404035,\n",
              "       10.54370263,  8.73977277, 10.55020361,  6.57101891,  8.78868879,\n",
              "       12.08032581,  7.60733533, 11.95692442, 10.29849424, 10.03517978,\n",
              "        8.1765194 ,  5.90688107,  7.05220235,  8.05210694, 12.06601288,\n",
              "       10.85925765, 11.55928493, 10.90362565,  8.94414005, 10.83967531,\n",
              "        9.18447915,  9.6638777 , 12.50290663,  8.25964957, 13.30049236,\n",
              "        8.94114779,  9.416257  , 10.33870318,  9.11713093, 10.36222006,\n",
              "        9.92046186, 13.91836675, 10.85356414,  9.45147929, 12.24861866,\n",
              "        9.70977647,  9.69859972,  8.28519014, 10.64848319, 11.65507577,\n",
              "        8.52657193,  9.48564959,  8.95153888,  8.15701936,  9.22381335,\n",
              "        9.76581769,  9.67769125, 10.36631031,  6.1691665 , 10.81049402,\n",
              "       13.35723208,  8.1535164 ,  9.28364968, 10.52543567,  8.76191908,\n",
              "        9.07956309,  7.22551982, 11.2307068 , 11.08499845, 10.79059718,\n",
              "        9.24221428,  9.38060843,  7.58950879,  7.43434479,  6.80920364,\n",
              "        8.67188256, 11.66163508, 12.17809319,  9.61120573, 11.53039679,\n",
              "       13.0807111 ,  9.24923912,  9.56447676,  9.16999619, 12.57135934,\n",
              "        8.69583868, 10.17279911,  8.64798581, 10.81457777,  5.34901407,\n",
              "        9.93776363,  9.00095031, 10.86808794,  5.95538454, 11.43967066,\n",
              "       12.24197173,  7.24710351, 12.64497054, 13.25533709,  9.27097836,\n",
              "       12.39719666,  8.12801061,  7.20488316,  7.50858032,  8.36111493,\n",
              "       13.03481602, 10.69065862,  7.98307168,  9.00247473, 11.72933582,\n",
              "       14.3585272 , 11.75641415,  9.96518531,  9.64655273, 11.18649374,\n",
              "       10.56661786, 12.18591604, 13.34862769,  9.73678757, 10.44199413,\n",
              "       12.5077732 ,  9.87941232,  6.51470149,  8.84838765, 10.54860026,\n",
              "        9.72237641,  6.58643454, 10.21253885, 12.24166469, 10.46132392,\n",
              "       13.4956536 , 10.99738443,  7.44384901, 10.72420414, 10.29858655,\n",
              "       11.93862667,  7.76566801,  7.49525808, 12.62065576,  9.59567795,\n",
              "       12.11219391,  8.91252006,  8.94248608, 10.1454252 ,  9.12511748,\n",
              "       10.45734769, 11.86527305,  9.18195132,  8.73536744, 10.728523  ,\n",
              "        9.01238381, 11.81811727,  8.09716665, 12.81784434, 11.37620336,\n",
              "        8.57097171, 10.53383524,  9.3058492 , 11.4716002 ,  7.27113502,\n",
              "        8.67826601,  8.5791339 ,  9.12376134,  7.78401428, 12.22638928,\n",
              "       11.76856633, 10.82809786, 10.45679909, 12.20749647, 10.45949545,\n",
              "       11.21838355,  6.8159943 ,  8.91742698,  9.87755788, 12.98202425,\n",
              "        8.64113843,  9.43633349,  9.85326677, 11.03657517,  7.91538212,\n",
              "        8.09295438,  8.99312835,  9.95965676, 10.89791929, 13.49010611,\n",
              "        7.09061557, 10.4657768 ,  8.68552899,  4.66353294, 13.47854216,\n",
              "       11.43515144, 11.95219497,  6.59505663,  8.69068677, 11.17846253,\n",
              "       10.23236241, 10.6815835 , 11.17036335, 11.47970648, 14.21954326,\n",
              "        9.20367705, 11.13847089, 11.52826833, 12.29812831,  9.01848733,\n",
              "        8.66036071,  9.2744334 ,  6.87194304, 11.17585961,  9.45078179,\n",
              "        9.40568595,  5.8925718 , 10.89492939,  9.789789  , 11.64359393,\n",
              "        7.88067405,  9.51748372, 11.03897503,  8.76145477, 12.98576519,\n",
              "        8.5414497 ,  9.0521161 ,  5.83918939, 11.31720306, 10.02972182,\n",
              "       11.12255382,  9.81734449,  9.73560713, 11.71638511, 10.72352798,\n",
              "        9.25273585, 12.91214486, 11.25989596, 12.26158812, 13.76387633,\n",
              "        7.98931393,  5.92759599,  6.68861689, 10.35159193,  9.98734054,\n",
              "       12.3944777 , 11.54536273, 11.63282048, 10.93915113,  9.82618552,\n",
              "        9.66241001, 10.61532133,  9.8363482 ,  8.75850278, 11.01564303,\n",
              "       10.3589291 , 11.07912163, 10.08140776, 10.32521049, 11.47544897,\n",
              "        7.20460368, 10.94747512,  4.06734964,  9.29335782,  8.31996303,\n",
              "        8.77375881, 11.2523233 , 12.16727131, 11.28830482, 12.500968  ,\n",
              "        8.07019736,  8.8256664 ,  7.44387088,  9.39943192, 12.66754287,\n",
              "        8.39490963, 14.29788425, 11.27586633, 10.29729448, 15.18185206,\n",
              "        9.74579589, 10.60058765, 10.77794506, 14.42351106, 12.41037172,\n",
              "       10.01222009, 10.25060953,  8.36751083, 11.87817128, 11.79665399,\n",
              "        7.79122223,  5.08464701,  8.44906078,  9.65101891,  8.123243  ,\n",
              "        7.99213123, 13.60770223, 13.3847323 ,  8.86113222,  9.3640378 ,\n",
              "       11.13933807,  7.95043371, 12.94245084,  8.26081372,  8.04051085,\n",
              "       10.5746371 , 10.21620623,  8.83548513, 10.62041673,  8.2885313 ,\n",
              "       12.14155607, 10.75508879,  7.54439162,  9.53357729, 10.53646838,\n",
              "       11.42094775,  8.30770839, 11.5552086 , 12.43215046,  9.31336217,\n",
              "        8.63702178, 11.17935564,  9.80214303,  8.25731516, 10.9043376 ,\n",
              "       10.23890936,  8.96795594, 10.24424233, 12.33516698, 11.36799124,\n",
              "        5.64436672, 11.57990543, 10.73080459,  7.4248709 , 10.19735273,\n",
              "        9.64841845,  8.91329344, 11.99470389,  8.36193348,  9.47312102,\n",
              "        9.28233124, 12.70885445, 12.74322223,  9.77674621,  8.59280939,\n",
              "        9.07962466, 11.04305034, 13.14599284,  6.34509699,  7.51498781,\n",
              "        8.07806704,  8.93407427, 11.92607279,  9.51033917,  6.85478314,\n",
              "        9.1602869 , 10.15496925, 11.18215171, 10.74931577,  9.0162017 ,\n",
              "       12.43147797, 11.88137352, 13.91636401,  8.63578795,  8.05623845,\n",
              "        9.25189412,  9.90357212, 11.75197812, 14.04251809, 11.36379834,\n",
              "       11.17812789, 10.0370907 , 10.77590101,  9.38716745,  8.20028578,\n",
              "        8.40578811, 10.29952799, 10.91976422, 13.17961083,  8.10241601,\n",
              "        8.9055584 , 10.69669606,  8.55438325,  8.81184148, 10.29724201,\n",
              "        6.82789128, 10.24587805, 12.10043557, 12.30274158, 12.18995053,\n",
              "       11.42566267,  8.50309121,  8.36690043,  5.49391816,  9.65647048,\n",
              "        7.47246733, 14.42347503, 11.5098882 , 13.12098979, 10.22022721,\n",
              "        7.92520917,  8.48903385,  8.88805894, 10.29420597,  9.18467493,\n",
              "       11.37134504, 13.89644075,  7.02378358, 12.10184886,  9.95706   ,\n",
              "        8.51151979, 11.02055705,  9.32242813,  4.78209402, 11.8801689 ,\n",
              "        8.39275483, 11.16716917,  9.73766723, 11.15009103,  7.27012367,\n",
              "       12.430736  , 12.2403298 , 11.08345245, 11.91291008, 10.06473267,\n",
              "        9.26043305,  7.78602286, 12.63505719, 11.51067399,  6.31633298,\n",
              "        8.02197111, 10.85291948, 10.002989  ,  9.4746194 ,  9.91834987,\n",
              "       10.11164399,  9.30152379, 12.93926871, 10.83855668,  9.59855297,\n",
              "        9.00595591,  6.81848452, 12.51302826,  8.35831342,  6.79882944,\n",
              "       11.5547504 , 12.37247749,  8.35644192, 10.46262821,  7.42994851,\n",
              "        8.94333768,  9.40533012, 10.36194551,  8.9596367 , 10.27875973,\n",
              "       11.20247765, 11.40710047, 10.60827221, 11.58165434, 11.36636232,\n",
              "        9.67246624,  8.40306348,  5.93693019, 10.03896284,  8.76915922,\n",
              "        8.19397753, 10.78084755, 10.06708791,  8.10304835,  8.76883121,\n",
              "       11.18732335,  8.39440176, 10.26255843, 10.72936908,  8.76258644,\n",
              "        9.86208168, 10.57743658,  9.91233546, 12.11393889,  7.27384579,\n",
              "        9.86142236, 13.65710164,  8.07067249, 11.65391208, 14.03867953,\n",
              "       12.21196143,  8.41278335,  9.08577929, 10.06544388,  6.1682408 ,\n",
              "       11.99424762,  6.73863309,  9.08590815,  6.66618107,  7.9803181 ,\n",
              "        9.42362969,  6.14648972,  7.34250723, 13.90432273,  9.85407562,\n",
              "       10.72369066, 11.72346017,  9.15151462, 11.07167598,  9.09726727,\n",
              "        8.11143968,  8.04946193,  9.60633561, 14.69974462,  9.96674669,\n",
              "        9.33385101,  9.81590759,  8.93669789,  8.25625317,  9.00579811,\n",
              "        9.11757862,  7.4901541 ,  6.35558294, 12.10562774,  7.30094292,\n",
              "        9.47695909, 10.55679605,  8.68778883, 11.23032097,  8.52937097,\n",
              "       10.13471318, 11.45392433, 12.02933538,  9.28683353, 10.98588273,\n",
              "        7.9408762 ,  8.28680664,  8.24678356,  8.64793266,  9.15518444,\n",
              "        7.85304243, 10.23217168, 10.62132514,  5.9884336 ,  7.88883968,\n",
              "        8.89261828, 10.91464476, 14.01002439,  9.33611212, 11.2809627 ,\n",
              "        7.8254611 ,  9.78917653,  9.83075368, 10.97374089,  6.67963875,\n",
              "       12.33860061,  7.16011245,  8.76690456,  6.73600673, 10.46873908,\n",
              "        7.29810116, 15.61499833,  9.64663354, 10.08677572, 10.43123466,\n",
              "        9.45322725, 11.60644205,  8.10416448,  8.33383709,  7.54607412,\n",
              "        9.62195548, 12.66130463, 12.0080616 , 10.19827159, 10.07593613,\n",
              "       14.08504828,  6.93330329, 13.78083259, 10.93981042, 14.47993839,\n",
              "        9.53300127, 12.49068015, 14.89699295,  6.28674776, 10.64338567,\n",
              "        9.32239304,  8.34542721,  5.3583776 , 13.94105953, 10.37985046,\n",
              "       10.7018751 , 12.71033216, 10.48510201,  9.55899736,  7.58482192,\n",
              "       10.05147696, 11.28214377, 12.97194885,  8.23167705,  7.47442236,\n",
              "        8.11306961,  9.71793051,  9.09410209,  6.16710927, 10.68467255,\n",
              "        9.13682713, 11.71938929,  8.20079978, 13.3093823 , 10.61346481,\n",
              "        8.48210564, 10.67138198,  9.78748732, 12.72749702, 10.38390272,\n",
              "       10.95711461, 11.23356843,  8.28483979, 11.57904873, 14.44095454,\n",
              "        8.79871687,  9.13390265, 10.73084393, 10.0053378 , 11.08894048,\n",
              "       12.29027342, 13.17429496,  7.3336207 , 12.30342719, 10.59247424,\n",
              "        9.13725526, 10.03870328,  8.00148701, 13.2215258 ,  8.49794321,\n",
              "       10.52448858, 11.78194428,  9.64440259,  8.07771693, 14.15255439,\n",
              "       13.67243611, 14.78672487, 11.6321395 , 11.14922067,  6.12685448,\n",
              "       11.44792204, 10.46296849,  9.75258243, 13.19257206,  6.98156426,\n",
              "        9.53661129, 10.02090981,  7.24507152, 11.55626477, 11.95708691,\n",
              "        8.45053364, 12.011077  , 10.79375424,  6.86507735,  8.80218906,\n",
              "        9.34926224, 11.86490715, 12.12375461,  5.72087659, 13.38880132,\n",
              "       11.30652851,  8.40440263, 10.10461228,  8.15628246,  5.31228105,\n",
              "       12.13391028, 11.19397449,  9.85909617, 13.90429961, 10.73246638,\n",
              "       10.08124051,  9.06701002,  7.43404151,  8.71062837,  8.51104109,\n",
              "       12.06031587,  9.6889103 , 11.42677306,  7.30396119, 10.53040098,\n",
              "        7.42049991, 14.61416385, 12.42605237, 10.4315357 ,  9.33463888,\n",
              "       10.21198105,  9.71205589, 11.56514774, 10.04325306,  9.43157615,\n",
              "        8.83287058, 13.26673428,  9.57274508,  9.32354109,  9.25238306,\n",
              "        9.51560106, 14.49225057, 11.28891755,  8.39822909,  6.06587219,\n",
              "        7.89520323,  8.27190817, 10.32509745, 14.69292631, 11.74225092,\n",
              "       11.75420088, 10.08514788,  6.39946962, 11.38765972, 12.83161738,\n",
              "       10.52738949, 10.60399059,  8.8875664 , 10.0925562 ,  8.95547966,\n",
              "       10.2012783 , 11.08362144,  5.71413161, 11.17211445,  7.68816253,\n",
              "       10.89932759,  7.33188245,  9.16073274,  7.17964672, 11.74878693,\n",
              "        9.4406897 ,  5.84013778, 11.8040026 , 12.04457147, 10.0224002 ,\n",
              "       10.19173474, 11.28290726, 12.83809067,  7.52951751,  4.74685661,\n",
              "        9.10986841, 11.78532702, 10.53189001,  8.80592852,  9.07105492,\n",
              "        8.85652903, 11.33898729,  8.62052488, 10.10708706,  7.36885021,\n",
              "        9.04773632,  7.8514754 ,  9.59234216, 11.76419982,  9.68645732,\n",
              "        9.98143696,  9.32397271, 11.07563109,  9.88832167, 10.15603513,\n",
              "       10.93038578,  9.35445207, 13.68542547, 11.01143458,  9.07388473,\n",
              "       10.42834268,  6.28871774, 10.62438264, 11.18883581,  8.72299119,\n",
              "       11.22569343, 10.85137684,  9.78690338, 10.12897561,  9.90952565,\n",
              "        9.20924881,  8.77144589, 11.90761453, 10.69790798,  7.20975061,\n",
              "       10.03104667,  4.9052895 ,  7.95947588,  7.98144189, 11.85503927,\n",
              "       11.7052997 , 10.00856793,  9.81535963, 10.6937171 , 11.14641939,\n",
              "       11.44196881, 14.31749906, 10.10065996,  6.46566287, 11.58690555,\n",
              "        9.66439157, 11.03328847, 10.09912807,  8.5903609 ,  8.79018171,\n",
              "       11.39696088,  9.36393958,  7.65595582, 10.97302823,  9.92587364,\n",
              "        8.07266065,  7.29454258, 13.82488604, 10.10975879,  9.60321052,\n",
              "        9.21468794, 12.54601827,  9.26299206,  9.25771439,  9.82982042,\n",
              "        9.13173811,  7.41832803,  9.85765374, 12.38430706, 13.61458323,\n",
              "        8.53314784,  8.21291244, 11.21117227,  9.95362553,  9.40635434,\n",
              "       11.08186128, 11.68248037, 10.52936202,  9.52718443, 11.68875428,\n",
              "       11.00084492,  6.6474822 ,  8.60075414, 11.56304555, 11.5159021 ,\n",
              "        5.75657682, 13.16256458,  6.69353104,  8.24901089,  9.79145468,\n",
              "        7.19261554, 10.37763134, 10.96064124, 11.00755738,  6.29184639,\n",
              "       15.60415802, 10.83647467, 10.35406914,  7.37937462, 10.39777588,\n",
              "       11.41958551, 12.12078568, 10.71347016,  8.86966774,  5.42725485,\n",
              "       11.53251181, 11.64170531,  7.44164475, 10.68233912, 10.88037627,\n",
              "        8.43067124, 10.31322098,  9.92400259, 11.30141439,  5.62809465,\n",
              "        6.97786861, 10.29480954, 12.06678335, 12.43852997,  7.91426836,\n",
              "       10.08992192, 11.61933276,  9.19096998,  8.20398292,  7.86679187,\n",
              "       10.83761802,  8.90332152, 10.67324024,  5.2746587 ,  8.80929215,\n",
              "       10.95358158,  9.35651467, 15.17661983, 12.02801133, 10.06473136,\n",
              "       13.82045951,  7.72748221,  8.32239515, 10.84513438,  9.48784912,\n",
              "        9.58409335, 12.28301734, 12.26443049,  8.85987862, 10.89682446,\n",
              "        9.71697542,  9.93750795, 10.12966477,  8.75479202, 10.48134712,\n",
              "       11.80194922,  8.23072368,  6.60503272,  8.02695477,  9.68158589,\n",
              "       15.86128125, 10.58361536,  8.70343895,  7.95660135, 12.37828297,\n",
              "       11.91052733,  6.1691319 ,  9.66098412, 12.78680799, 10.16956507,\n",
              "       11.1875156 ,  8.07218579,  7.30257216, 12.03994157, 10.22632974,\n",
              "        8.21353033, 10.74094894,  9.45489527,  8.37260257,  7.44242451,\n",
              "        8.86458248, 11.20446861,  9.50384918, 10.3204452 ,  9.56470552,\n",
              "       14.17703251,  8.99552985, 12.67274255,  9.56119964,  7.61340594,\n",
              "        8.91357749, 11.90131511,  9.48644861,  9.67170333,  7.064255  ])"
            ]
          },
          "metadata": {},
          "execution_count": 30
        }
      ]
    },
    {
      "cell_type": "code",
      "source": [
        "sns.displot(randomSample)"
      ],
      "metadata": {
        "colab": {
          "base_uri": "https://localhost:8080/",
          "height": 386
        },
        "id": "cZj0E3H7EaLg",
        "outputId": "66199d77-268e-46f4-f563-83e682809d62"
      },
      "execution_count": 31,
      "outputs": [
        {
          "output_type": "execute_result",
          "data": {
            "text/plain": [
              "<seaborn.axisgrid.FacetGrid at 0x7f54287109d0>"
            ]
          },
          "metadata": {},
          "execution_count": 31
        },
        {
          "output_type": "display_data",
          "data": {
            "text/plain": [
              "<Figure size 360x360 with 1 Axes>"
            ],
            "image/png": "[encoded data removed]"
          },
          "metadata": {
            "needs_background": "light"
          }
        }
      ]
    },
    {
      "cell_type": "code",
      "source": [
        "data = sns.load_dataset(\"penguins\")"
      ],
      "metadata": {
        "id": "sym6S0A5EiT1"
      },
      "execution_count": 32,
      "outputs": []
    },
    {
      "cell_type": "code",
      "source": [
        "data.var()"
      ],
      "metadata": {
        "colab": {
          "base_uri": "https://localhost:8080/"
        },
        "id": "gI87dsr5EpCB",
        "outputId": "5ba92788-4df7-475b-a654-19db7f04adbb"
      },
      "execution_count": 33,
      "outputs": [
        {
          "output_type": "stream",
          "name": "stderr",
          "text": [
            "/usr/local/lib/python3.7/dist-packages/ipykernel_launcher.py:1: FutureWarning: Dropping of nuisance columns in DataFrame reductions (with 'numeric_only=None') is deprecated; in a future version this will raise TypeError.  Select only valid columns before calling the reduction.\n",
            "  \"\"\"Entry point for launching an IPython kernel.\n"
          ]
        },
        {
          "output_type": "execute_result",
          "data": {
            "text/plain": [
              "bill_length_mm           29.807054\n",
              "bill_depth_mm             3.899808\n",
              "flipper_length_mm       197.731792\n",
              "body_mass_g          643131.077327\n",
              "dtype: float64"
            ]
          },
          "metadata": {},
          "execution_count": 33
        }
      ]
    },
    {
      "cell_type": "code",
      "source": [
        "data.std()"
      ],
      "metadata": {
        "colab": {
          "base_uri": "https://localhost:8080/"
        },
        "id": "ra0NceQ2Et80",
        "outputId": "9a8ce65a-897c-4252-f6d3-1a88ff6309a9"
      },
      "execution_count": 34,
      "outputs": [
        {
          "output_type": "stream",
          "name": "stderr",
          "text": [
            "/usr/local/lib/python3.7/dist-packages/ipykernel_launcher.py:1: FutureWarning: Dropping of nuisance columns in DataFrame reductions (with 'numeric_only=None') is deprecated; in a future version this will raise TypeError.  Select only valid columns before calling the reduction.\n",
            "  \"\"\"Entry point for launching an IPython kernel.\n"
          ]
        },
        {
          "output_type": "execute_result",
          "data": {
            "text/plain": [
              "bill_length_mm         5.459584\n",
              "bill_depth_mm          1.974793\n",
              "flipper_length_mm     14.061714\n",
              "body_mass_g          801.954536\n",
              "dtype: float64"
            ]
          },
          "metadata": {},
          "execution_count": 34
        }
      ]
    },
    {
      "cell_type": "code",
      "source": [
        "data['body_mass_g'].value_counts()"
      ],
      "metadata": {
        "colab": {
          "base_uri": "https://localhost:8080/"
        },
        "id": "TYATGa2eE2Tv",
        "outputId": "9f1b6f31-7507-4566-c48e-296e319ebb38"
      },
      "execution_count": 35,
      "outputs": [
        {
          "output_type": "execute_result",
          "data": {
            "text/plain": [
              "3800.0    12\n",
              "3700.0    11\n",
              "3900.0    10\n",
              "3950.0    10\n",
              "3550.0     9\n",
              "          ..\n",
              "4475.0     1\n",
              "3975.0     1\n",
              "3575.0     1\n",
              "3850.0     1\n",
              "5750.0     1\n",
              "Name: body_mass_g, Length: 94, dtype: int64"
            ]
          },
          "metadata": {},
          "execution_count": 35
        }
      ]
    },
    {
      "cell_type": "code",
      "source": [
        "data.head()"
      ],
      "metadata": {
        "colab": {
          "base_uri": "https://localhost:8080/",
          "height": 206
        },
        "id": "93eauLHyE4qT",
        "outputId": "cd2eca8f-2571-46ce-be16-0ab450213ae6"
      },
      "execution_count": 36,
      "outputs": [
        {
          "output_type": "execute_result",
          "data": {
            "text/plain": [
              "  species     island  bill_length_mm  bill_depth_mm  flipper_length_mm  \\\n",
              "0  Adelie  Torgersen            39.1           18.7              181.0   \n",
              "1  Adelie  Torgersen            39.5           17.4              186.0   \n",
              "2  Adelie  Torgersen            40.3           18.0              195.0   \n",
              "3  Adelie  Torgersen             NaN            NaN                NaN   \n",
              "4  Adelie  Torgersen            36.7           19.3              193.0   \n",
              "\n",
              "   body_mass_g     sex  \n",
              "0       3750.0    Male  \n",
              "1       3800.0  Female  \n",
              "2       3250.0  Female  \n",
              "3          NaN     NaN  \n",
              "4       3450.0  Female  "
            ],
            "text/html": [
              "\n",
              "  <div id=\"df-c80cc656-28cf-4184-8880-3f99cc5e3dae\">\n",
              "    <div class=\"colab-df-container\">\n",
              "      <div>\n",
              "<style scoped>\n",
              "    .dataframe tbody tr th:only-of-type {\n",
              "        vertical-align: middle;\n",
              "    }\n",
              "\n",
              "    .dataframe tbody tr th {\n",
              "        vertical-align: top;\n",
              "    }\n",
              "\n",
              "    .dataframe thead th {\n",
              "        text-align: right;\n",
              "    }\n",
              "</style>\n",
              "<table border=\"1\" class=\"dataframe\">\n",
              "  <thead>\n",
              "    <tr style=\"text-align: right;\">\n",
              "      <th></th>\n",
              "      <th>species</th>\n",
              "      <th>island</th>\n",
              "      <th>bill_length_mm</th>\n",
              "      <th>bill_depth_mm</th>\n",
              "      <th>flipper_length_mm</th>\n",
              "      <th>body_mass_g</th>\n",
              "      <th>sex</th>\n",
              "    </tr>\n",
              "  </thead>\n",
              "  <tbody>\n",
              "    <tr>\n",
              "      <th>0</th>\n",
              "      <td>Adelie</td>\n",
              "      <td>Torgersen</td>\n",
              "      <td>39.1</td>\n",
              "      <td>18.7</td>\n",
              "      <td>181.0</td>\n",
              "      <td>3750.0</td>\n",
              "      <td>Male</td>\n",
              "    </tr>\n",
              "    <tr>\n",
              "      <th>1</th>\n",
              "      <td>Adelie</td>\n",
              "      <td>Torgersen</td>\n",
              "      <td>39.5</td>\n",
              "      <td>17.4</td>\n",
              "      <td>186.0</td>\n",
              "      <td>3800.0</td>\n",
              "      <td>Female</td>\n",
              "    </tr>\n",
              "    <tr>\n",
              "      <th>2</th>\n",
              "      <td>Adelie</td>\n",
              "      <td>Torgersen</td>\n",
              "      <td>40.3</td>\n",
              "      <td>18.0</td>\n",
              "      <td>195.0</td>\n",
              "      <td>3250.0</td>\n",
              "      <td>Female</td>\n",
              "    </tr>\n",
              "    <tr>\n",
              "      <th>3</th>\n",
              "      <td>Adelie</td>\n",
              "      <td>Torgersen</td>\n",
              "      <td>NaN</td>\n",
              "      <td>NaN</td>\n",
              "      <td>NaN</td>\n",
              "      <td>NaN</td>\n",
              "      <td>NaN</td>\n",
              "    </tr>\n",
              "    <tr>\n",
              "      <th>4</th>\n",
              "      <td>Adelie</td>\n",
              "      <td>Torgersen</td>\n",
              "      <td>36.7</td>\n",
              "      <td>19.3</td>\n",
              "      <td>193.0</td>\n",
              "      <td>3450.0</td>\n",
              "      <td>Female</td>\n",
              "    </tr>\n",
              "  </tbody>\n",
              "</table>\n",
              "</div>\n",
              "      <button class=\"colab-df-convert\" onclick=\"convertToInteractive('df-c80cc656-28cf-4184-8880-3f99cc5e3dae')\"\n",
              "              title=\"Convert this dataframe to an interactive table.\"\n",
              "              style=\"display:none;\">\n",
              "        \n",
              "  <svg xmlns=\"http://www.w3.org/2000/svg\" height=\"24px\"viewBox=\"0 0 24 24\"\n",
              "       width=\"24px\">\n",
              "    <path d=\"M0 0h24v24H0V0z\" fill=\"none\"/>\n",
              "    <path d=\"M18.56 5.44l.94 2.06.94-2.06 2.06-.94-2.06-.94-.94-2.06-.94 2.06-2.06.94zm-11 1L8.5 8.5l.94-2.06 2.06-.94-2.06-.94L8.5 2.5l-.94 2.06-2.06.94zm10 10l.94 2.06.94-2.06 2.06-.94-2.06-.94-.94-2.06-.94 2.06-2.06.94z\"/><path d=\"M17.41 7.96l-1.37-1.37c-.4-.4-.92-.59-1.43-.59-.52 0-1.04.2-1.43.59L10.3 9.45l-7.72 7.72c-.78.78-.78 2.05 0 2.83L4 21.41c.39.39.9.59 1.41.59.51 0 1.02-.2 1.41-.59l7.78-7.78 2.81-2.81c.8-.78.8-2.07 0-2.86zM5.41 20L4 18.59l7.72-7.72 1.47 1.35L5.41 20z\"/>\n",
              "  </svg>\n",
              "      </button>\n",
              "      \n",
              "  <style>\n",
              "    .colab-df-container {\n",
              "      display:flex;\n",
              "      flex-wrap:wrap;\n",
              "      gap: 12px;\n",
              "    }\n",
              "\n",
              "    .colab-df-convert {\n",
              "      background-color: #E8F0FE;\n",
              "      border: none;\n",
              "      border-radius: 50%;\n",
              "      cursor: pointer;\n",
              "      display: none;\n",
              "      fill: #1967D2;\n",
              "      height: 32px;\n",
              "      padding: 0 0 0 0;\n",
              "      width: 32px;\n",
              "    }\n",
              "\n",
              "    .colab-df-convert:hover {\n",
              "      background-color: #E2EBFA;\n",
              "      box-shadow: 0px 1px 2px rgba(60, 64, 67, 0.3), 0px 1px 3px 1px rgba(60, 64, 67, 0.15);\n",
              "      fill: #174EA6;\n",
              "    }\n",
              "\n",
              "    [theme=dark] .colab-df-convert {\n",
              "      background-color: #3B4455;\n",
              "      fill: #D2E3FC;\n",
              "    }\n",
              "\n",
              "    [theme=dark] .colab-df-convert:hover {\n",
              "      background-color: #434B5C;\n",
              "      box-shadow: 0px 1px 3px 1px rgba(0, 0, 0, 0.15);\n",
              "      filter: drop-shadow(0px 1px 2px rgba(0, 0, 0, 0.3));\n",
              "      fill: #FFFFFF;\n",
              "    }\n",
              "  </style>\n",
              "\n",
              "      <script>\n",
              "        const buttonEl =\n",
              "          document.querySelector('#df-c80cc656-28cf-4184-8880-3f99cc5e3dae button.colab-df-convert');\n",
              "        buttonEl.style.display =\n",
              "          google.colab.kernel.accessAllowed ? 'block' : 'none';\n",
              "\n",
              "        async function convertToInteractive(key) {\n",
              "          const element = document.querySelector('#df-c80cc656-28cf-4184-8880-3f99cc5e3dae');\n",
              "          const dataTable =\n",
              "            await google.colab.kernel.invokeFunction('convertToInteractive',\n",
              "                                                     [key], {});\n",
              "          if (!dataTable) return;\n",
              "\n",
              "          const docLinkHtml = 'Like what you see? Visit the ' +\n",
              "            '<a target=\"_blank\" href=https://colab.research.google.com/notebooks/data_table.ipynb>data table notebook</a>'\n",
              "            + ' to learn more about interactive tables.';\n",
              "          element.innerHTML = '';\n",
              "          dataTable['output_type'] = 'display_data';\n",
              "          await google.colab.output.renderOutput(dataTable, element);\n",
              "          const docLink = document.createElement('div');\n",
              "          docLink.innerHTML = docLinkHtml;\n",
              "          element.appendChild(docLink);\n",
              "        }\n",
              "      </script>\n",
              "    </div>\n",
              "  </div>\n",
              "  "
            ]
          },
          "metadata": {},
          "execution_count": 36
        }
      ]
    },
    {
      "cell_type": "code",
      "source": [
        "#Scaling Methods\n",
        "#Standardization\n",
        "#standard score is the number of standard deviations by which the value of a raw score is above or below the mean value of what is being observed or measured. Raw scores above the mean have positive standard scores, while those below the mean have negative standard scores\n",
        "\n",
        "data = sns.load_dataset(\"penguins\")\n",
        "data.columns"
      ],
      "metadata": {
        "colab": {
          "base_uri": "https://localhost:8080/"
        },
        "id": "T2fjByLLFI8k",
        "outputId": "59a855a1-2040-4b2e-d071-84d3c753d0b1"
      },
      "execution_count": 37,
      "outputs": [
        {
          "output_type": "execute_result",
          "data": {
            "text/plain": [
              "Index(['species', 'island', 'bill_length_mm', 'bill_depth_mm',\n",
              "       'flipper_length_mm', 'body_mass_g', 'sex'],\n",
              "      dtype='object')"
            ]
          },
          "metadata": {},
          "execution_count": 37
        }
      ]
    },
    {
      "cell_type": "code",
      "source": [
        "data = sns.load_dataset(\"penguins\")\n",
        "x = data[['bill_length_mm','bill_depth_mm']]\n",
        "x.head()"
      ],
      "metadata": {
        "colab": {
          "base_uri": "https://localhost:8080/",
          "height": 206
        },
        "id": "noZK8FS3FNuG",
        "outputId": "30489711-6816-418f-b7a2-2b7cdb1f0106"
      },
      "execution_count": 38,
      "outputs": [
        {
          "output_type": "execute_result",
          "data": {
            "text/plain": [
              "   bill_length_mm  bill_depth_mm\n",
              "0            39.1           18.7\n",
              "1            39.5           17.4\n",
              "2            40.3           18.0\n",
              "3             NaN            NaN\n",
              "4            36.7           19.3"
            ],
            "text/html": [
              "\n",
              "  <div id=\"df-655684e9-137c-4b2c-b6a5-bbae3c12c787\">\n",
              "    <div class=\"colab-df-container\">\n",
              "      <div>\n",
              "<style scoped>\n",
              "    .dataframe tbody tr th:only-of-type {\n",
              "        vertical-align: middle;\n",
              "    }\n",
              "\n",
              "    .dataframe tbody tr th {\n",
              "        vertical-align: top;\n",
              "    }\n",
              "\n",
              "    .dataframe thead th {\n",
              "        text-align: right;\n",
              "    }\n",
              "</style>\n",
              "<table border=\"1\" class=\"dataframe\">\n",
              "  <thead>\n",
              "    <tr style=\"text-align: right;\">\n",
              "      <th></th>\n",
              "      <th>bill_length_mm</th>\n",
              "      <th>bill_depth_mm</th>\n",
              "    </tr>\n",
              "  </thead>\n",
              "  <tbody>\n",
              "    <tr>\n",
              "      <th>0</th>\n",
              "      <td>39.1</td>\n",
              "      <td>18.7</td>\n",
              "    </tr>\n",
              "    <tr>\n",
              "      <th>1</th>\n",
              "      <td>39.5</td>\n",
              "      <td>17.4</td>\n",
              "    </tr>\n",
              "    <tr>\n",
              "      <th>2</th>\n",
              "      <td>40.3</td>\n",
              "      <td>18.0</td>\n",
              "    </tr>\n",
              "    <tr>\n",
              "      <th>3</th>\n",
              "      <td>NaN</td>\n",
              "      <td>NaN</td>\n",
              "    </tr>\n",
              "    <tr>\n",
              "      <th>4</th>\n",
              "      <td>36.7</td>\n",
              "      <td>19.3</td>\n",
              "    </tr>\n",
              "  </tbody>\n",
              "</table>\n",
              "</div>\n",
              "      <button class=\"colab-df-convert\" onclick=\"convertToInteractive('df-655684e9-137c-4b2c-b6a5-bbae3c12c787')\"\n",
              "              title=\"Convert this dataframe to an interactive table.\"\n",
              "              style=\"display:none;\">\n",
              "        \n",
              "  <svg xmlns=\"http://www.w3.org/2000/svg\" height=\"24px\"viewBox=\"0 0 24 24\"\n",
              "       width=\"24px\">\n",
              "    <path d=\"M0 0h24v24H0V0z\" fill=\"none\"/>\n",
              "    <path d=\"M18.56 5.44l.94 2.06.94-2.06 2.06-.94-2.06-.94-.94-2.06-.94 2.06-2.06.94zm-11 1L8.5 8.5l.94-2.06 2.06-.94-2.06-.94L8.5 2.5l-.94 2.06-2.06.94zm10 10l.94 2.06.94-2.06 2.06-.94-2.06-.94-.94-2.06-.94 2.06-2.06.94z\"/><path d=\"M17.41 7.96l-1.37-1.37c-.4-.4-.92-.59-1.43-.59-.52 0-1.04.2-1.43.59L10.3 9.45l-7.72 7.72c-.78.78-.78 2.05 0 2.83L4 21.41c.39.39.9.59 1.41.59.51 0 1.02-.2 1.41-.59l7.78-7.78 2.81-2.81c.8-.78.8-2.07 0-2.86zM5.41 20L4 18.59l7.72-7.72 1.47 1.35L5.41 20z\"/>\n",
              "  </svg>\n",
              "      </button>\n",
              "      \n",
              "  <style>\n",
              "    .colab-df-container {\n",
              "      display:flex;\n",
              "      flex-wrap:wrap;\n",
              "      gap: 12px;\n",
              "    }\n",
              "\n",
              "    .colab-df-convert {\n",
              "      background-color: #E8F0FE;\n",
              "      border: none;\n",
              "      border-radius: 50%;\n",
              "      cursor: pointer;\n",
              "      display: none;\n",
              "      fill: #1967D2;\n",
              "      height: 32px;\n",
              "      padding: 0 0 0 0;\n",
              "      width: 32px;\n",
              "    }\n",
              "\n",
              "    .colab-df-convert:hover {\n",
              "      background-color: #E2EBFA;\n",
              "      box-shadow: 0px 1px 2px rgba(60, 64, 67, 0.3), 0px 1px 3px 1px rgba(60, 64, 67, 0.15);\n",
              "      fill: #174EA6;\n",
              "    }\n",
              "\n",
              "    [theme=dark] .colab-df-convert {\n",
              "      background-color: #3B4455;\n",
              "      fill: #D2E3FC;\n",
              "    }\n",
              "\n",
              "    [theme=dark] .colab-df-convert:hover {\n",
              "      background-color: #434B5C;\n",
              "      box-shadow: 0px 1px 3px 1px rgba(0, 0, 0, 0.15);\n",
              "      filter: drop-shadow(0px 1px 2px rgba(0, 0, 0, 0.3));\n",
              "      fill: #FFFFFF;\n",
              "    }\n",
              "  </style>\n",
              "\n",
              "      <script>\n",
              "        const buttonEl =\n",
              "          document.querySelector('#df-655684e9-137c-4b2c-b6a5-bbae3c12c787 button.colab-df-convert');\n",
              "        buttonEl.style.display =\n",
              "          google.colab.kernel.accessAllowed ? 'block' : 'none';\n",
              "\n",
              "        async function convertToInteractive(key) {\n",
              "          const element = document.querySelector('#df-655684e9-137c-4b2c-b6a5-bbae3c12c787');\n",
              "          const dataTable =\n",
              "            await google.colab.kernel.invokeFunction('convertToInteractive',\n",
              "                                                     [key], {});\n",
              "          if (!dataTable) return;\n",
              "\n",
              "          const docLinkHtml = 'Like what you see? Visit the ' +\n",
              "            '<a target=\"_blank\" href=https://colab.research.google.com/notebooks/data_table.ipynb>data table notebook</a>'\n",
              "            + ' to learn more about interactive tables.';\n",
              "          element.innerHTML = '';\n",
              "          dataTable['output_type'] = 'display_data';\n",
              "          await google.colab.output.renderOutput(dataTable, element);\n",
              "          const docLink = document.createElement('div');\n",
              "          docLink.innerHTML = docLinkHtml;\n",
              "          element.appendChild(docLink);\n",
              "        }\n",
              "      </script>\n",
              "    </div>\n",
              "  </div>\n",
              "  "
            ]
          },
          "metadata": {},
          "execution_count": 38
        }
      ]
    },
    {
      "cell_type": "code",
      "source": [
        "import sklearn\n",
        "from sklearn.preprocessing import StandardScaler\n",
        "scale = StandardScaler()\n",
        "st_scale = scale.fit_transform(x)\n",
        "st_scale"
      ],
      "metadata": {
        "colab": {
          "base_uri": "https://localhost:8080/"
        },
        "id": "ysMfDUwAFVse",
        "outputId": "8848dd8c-5e27-482c-f755-8220620f960e"
      },
      "execution_count": 39,
      "outputs": [
        {
          "output_type": "execute_result",
          "data": {
            "text/plain": [
              "array([[-0.88449874,  0.78544923],\n",
              "       [-0.81112573,  0.1261879 ],\n",
              "       [-0.66437972,  0.43046236],\n",
              "       [        nan,         nan],\n",
              "       [-1.32473679,  1.08972369],\n",
              "       [-0.84781224,  1.74898502],\n",
              "       [-0.92118525,  0.32903754],\n",
              "       [-0.86615549,  1.24186092],\n",
              "       [-1.80166135,  0.48117477],\n",
              "       [-0.35254443,  1.54613538],\n",
              "       [-1.12296102, -0.02594933],\n",
              "       [-1.12296102,  0.07547549],\n",
              "       [-0.5176337 ,  0.22761272],\n",
              "       [-0.976215  ,  2.05325948],\n",
              "       [-1.70994508,  2.00254707],\n",
              "       [-1.34308004,  0.32903754],\n",
              "       [-0.95787175,  0.93758646],\n",
              "       [-0.26082817,  1.79969743],\n",
              "       [-1.74663159,  0.633312  ],\n",
              "       [ 0.38118565,  2.20539671],\n",
              "       [-1.12296102,  0.58259959],\n",
              "       [-1.14130427,  0.78544923],\n",
              "       [-1.47148281,  1.03901128],\n",
              "       [-1.04958801,  0.48117477],\n",
              "       [-0.9395285 ,  0.02476308],\n",
              "       [-1.58154232,  0.88687405],\n",
              "       [-0.60934996,  0.73473682],\n",
              "       [-0.62769321,  0.37974995],\n",
              "       [-1.10461777,  0.73473682],\n",
              "       [-0.62769321,  0.88687405],\n",
              "       [-0.81112573, -0.22879897],\n",
              "       [-1.23302053,  0.48117477],\n",
              "       [-0.81112573,  0.32903754],\n",
              "       [-0.5543202 ,  0.88687405],\n",
              "       [-1.37976655, -0.07666174],\n",
              "       [-0.86615549,  2.00254707],\n",
              "       [-0.9395285 ,  1.44471056],\n",
              "       [-0.31585793,  0.68402441],\n",
              "       [-1.15964752,  1.08972369],\n",
              "       [-0.75609598,  0.98829887],\n",
              "       [-1.3614233 ,  0.43046236],\n",
              "       [-0.57266346,  0.633312  ],\n",
              "       [-1.45313956,  0.68402441],\n",
              "       [ 0.03266386,  1.29257333],\n",
              "       [-1.26970704, -0.12737415],\n",
              "       [-0.79278248,  0.83616164],\n",
              "       [-0.5176337 ,  0.93758646],\n",
              "       [-1.17799078,  0.88687405],\n",
              "       [-1.45313956,  0.37974995],\n",
              "       [-0.29751468,  2.05325948],\n",
              "       [-0.79278248,  0.27832513],\n",
              "       [-0.70106622,  0.88687405],\n",
              "       [-1.63657208,  0.37974995],\n",
              "       [-0.35254443,  1.19114851],\n",
              "       [-1.72828834,  0.48117477],\n",
              "       [-0.46260394,  0.73473682],\n",
              "       [-0.90284199,  0.17690031],\n",
              "       [-0.60934996,  0.83616164],\n",
              "       [-1.3614233 , -0.27951138],\n",
              "       [-1.15964752,  0.98829887],\n",
              "       [-1.50816931, -0.12737415],\n",
              "       [-0.4809472 ,  2.00254707],\n",
              "       [-1.15964752, -0.07666174],\n",
              "       [-0.5176337 ,  0.53188718],\n",
              "       [-1.37976655, -0.02594933],\n",
              "       [-0.42591744,  0.43046236],\n",
              "       [-1.54485582, -0.48236102],\n",
              "       [-0.5176337 ,  0.98829887],\n",
              "       [-1.47148281, -0.27951138],\n",
              "       [-0.38923094,  1.1404361 ],\n",
              "       [-1.91172086,  0.93758646],\n",
              "       [-0.77443923,  0.633312  ],\n",
              "       [-0.79278248,  0.02476308],\n",
              "       [ 0.34449915,  0.88687405],\n",
              "       [-1.54485582,  0.17690031],\n",
              "       [-0.20579842,  0.68402441],\n",
              "       [-0.5543202 , -0.17808656],\n",
              "       [-1.23302053,  1.1404361 ],\n",
              "       [-1.41645305, -0.53307343],\n",
              "       [-0.33420118,  0.98829887],\n",
              "       [-1.70994508,  0.02476308],\n",
              "       [-0.18745516,  0.22761272],\n",
              "       [-1.32473679,  0.83616164],\n",
              "       [-1.61822882,  1.1404361 ],\n",
              "       [-1.21467728,  0.32903754],\n",
              "       [-0.4809472 ,  1.59684779],\n",
              "       [-1.3981098 ,  1.19114851],\n",
              "       [-1.28805029,  0.73473682],\n",
              "       [-1.03124476,  1.03901128],\n",
              "       [-0.92118525,  0.83616164],\n",
              "       [-1.50816931,  0.43046236],\n",
              "       [-0.5176337 ,  0.48117477],\n",
              "       [-1.8200046 , -0.02594933],\n",
              "       [-0.79278248,  0.48117477],\n",
              "       [-1.41645305,  0.07547549],\n",
              "       [-0.57266346,  0.88687405],\n",
              "       [-1.06793126,  0.73473682],\n",
              "       [-0.66437972,  0.68402441],\n",
              "       [-1.98509387, -0.53307343],\n",
              "       [-0.13242541,  0.68402441],\n",
              "       [-1.63657208,  0.37974995],\n",
              "       [-0.53597695,  1.44471056],\n",
              "       [-1.14130427, -0.58378584],\n",
              "       [-1.12296102,  1.44471056],\n",
              "       [-1.10461777,  0.73473682],\n",
              "       [-0.77443923,  0.88687405],\n",
              "       [-0.976215  ,  0.02476308],\n",
              "       [-1.04958801,  1.44471056],\n",
              "       [-1.06793126, -0.07666174],\n",
              "       [-0.13242541,  0.93758646],\n",
              "       [-1.06793126, -0.33022379],\n",
              "       [ 0.30781264,  1.59684779],\n",
              "       [-0.77443923,  0.27832513],\n",
              "       [-0.31585793,  1.19114851],\n",
              "       [-0.79278248,  1.79969743],\n",
              "       [-0.22414167,  0.58259959],\n",
              "       [-0.976215  , -0.07666174],\n",
              "       [-1.21467728,  1.69827261],\n",
              "       [-1.50816931, -0.07666174],\n",
              "       [-0.5176337 ,  0.73473682],\n",
              "       [-1.41645305,  0.02476308],\n",
              "       [-1.14130427,  1.34328574],\n",
              "       [-0.68272297, -0.07666174],\n",
              "       [-0.46260394,  0.68402441],\n",
              "       [-1.59988557, -0.63449825],\n",
              "       [-0.60934996,  0.93758646],\n",
              "       [-0.9395285 ,  0.22761272],\n",
              "       [-0.44426069,  0.58259959],\n",
              "       [-0.90284199, -0.02594933],\n",
              "       [ 0.03266386,  0.43046236],\n",
              "       [-0.99455825,  0.37974995],\n",
              "       [-0.15076866,  1.03901128],\n",
              "       [-1.30639354,  0.68402441],\n",
              "       [-1.17799078,  0.68402441],\n",
              "       [-1.06793126,  0.22761272],\n",
              "       [-0.5176337 ,  0.17690031],\n",
              "       [-1.52651256,  0.17690031],\n",
              "       [-0.68272297,  1.49542297],\n",
              "       [-1.26970704, -0.33022379],\n",
              "       [-0.77443923,  0.37974995],\n",
              "       [-0.68272297, -0.02594933],\n",
              "       [-0.60934996,  0.02476308],\n",
              "       [-2.16852639, -0.83734789],\n",
              "       [-0.59100671, -0.07666174],\n",
              "       [-1.21467728, -0.17808656],\n",
              "       [-0.90284199,  0.78544923],\n",
              "       [-0.86615549,  0.73473682],\n",
              "       [-1.34308004,  0.633312  ],\n",
              "       [-1.45313956,  0.32903754],\n",
              "       [-1.12296102,  0.48117477],\n",
              "       [-1.45313956, -0.02594933],\n",
              "       [-0.44426069,  0.68402441],\n",
              "       [ 0.47290191,  0.37974995],\n",
              "       [ 1.11491573,  1.19114851],\n",
              "       [ 1.35337801,  1.03901128],\n",
              "       [ 0.27112614,  0.78544923],\n",
              "       [ 1.61018354,  1.34328574],\n",
              "       [ 0.23443963,  0.32903754],\n",
              "       [ 0.3995289 ,  0.53188718],\n",
              "       [ 1.35337801,  0.53188718],\n",
              "       [ 0.38118565,  0.88687405],\n",
              "       [ 1.35337801,  1.39399815],\n",
              "       [ 0.49124516,  0.32903754],\n",
              "       [ 1.42675102,  1.59684779],\n",
              "       [ 0.56461817,  0.07547549],\n",
              "       [ 1.48178077,  0.48117477],\n",
              "       [ 0.3628424 , -0.02594933],\n",
              "       [ 1.20663199,  1.24186092],\n",
              "       [ 1.16994549,  1.44471056],\n",
              "       [ 2.5823759 ,  0.32903754],\n",
              "       [ 0.45455866,  0.73473682],\n",
              "       [ 0.96816972,  0.53188718],\n",
              "       [-0.27917142,  0.07547549],\n",
              "       [ 0.83976695,  0.17690031],\n",
              "       [-0.13242541, -0.27951138],\n",
              "       [ 1.22497525,  1.1404361 ],\n",
              "       [ 0.50958841,  0.37974995],\n",
              "       [ 1.48178077,  0.93758646],\n",
              "       [ 1.20663199,  0.633312  ],\n",
              "       [ 1.02319947,  0.93758646],\n",
              "       [ 0.45455866,  0.32903754],\n",
              "       [ 1.62852679,  1.44471056],\n",
              "       [-0.5543202 , -0.27951138],\n",
              "       [ 1.88533232,  1.85040984],\n",
              "       [-0.26082817, -0.22879897],\n",
              "       [ 1.29834825,  0.83616164],\n",
              "       [ 1.05988598,  0.73473682],\n",
              "       [ 0.65633443, -0.17808656],\n",
              "       [ 0.67467768,  0.58259959],\n",
              "       [ 1.48178077,  1.79969743],\n",
              "       [ 0.54627492, -0.27951138],\n",
              "       [ 1.75692956,  1.39399815],\n",
              "       [ 0.93148321,  1.19114851],\n",
              "       [ 0.41787215,  0.17690031],\n",
              "       [ 1.280005  ,  0.98829887],\n",
              "       [ 0.28946939, -0.07666174],\n",
              "       [ 1.280005  ,  0.37974995],\n",
              "       [ 1.26166175,  0.68402441],\n",
              "       [ 1.13325898,  0.37974995],\n",
              "       [ 0.93148321,  1.24186092],\n",
              "       [ 1.39006451,  0.78544923],\n",
              "       [ 1.07822923,  0.07547549],\n",
              "       [ 0.76639394, -0.3809362 ],\n",
              "       [ 1.37172126,  0.93758646],\n",
              "       [ 0.32615589,  0.07547549],\n",
              "       [ 1.2433185 ,  1.29257333],\n",
              "       [-0.26082817,  0.07547549],\n",
              "       [ 1.51846728,  0.83616164],\n",
              "       [ 0.23443963, -0.27951138],\n",
              "       [ 0.98651297,  1.39399815],\n",
              "       [ 1.15160224,  0.83616164],\n",
              "       [ 0.30781264,  1.1404361 ],\n",
              "       [ 1.46343752,  1.19114851],\n",
              "       [ 0.52793167, -0.33022379],\n",
              "       [ 0.32615589, -0.07666174],\n",
              "       [ 2.17882435,  1.34328574],\n",
              "       [-0.07739565,  0.48117477],\n",
              "       [ 1.04154272,  0.53188718],\n",
              "       [ 1.26166175,  0.93758646],\n",
              "       [ 1.15160224,  0.78544923],\n",
              "       [ 0.3995289 , -2.00373332],\n",
              "       [ 1.11491573, -0.43164861],\n",
              "       [ 0.87645346, -1.54732163],\n",
              "       [ 1.11491573, -0.98948512],\n",
              "       [ 0.67467768, -1.34447199],\n",
              "       [ 0.47290191, -1.85159609],\n",
              "       [ 0.27112614, -1.29375958],\n",
              "       [ 0.50958841, -0.93877271],\n",
              "       [-0.11408216, -1.9023085 ],\n",
              "       [ 0.52793167, -0.8880603 ],\n",
              "       [-0.5543202 , -1.75017127],\n",
              "       [ 0.93148321, -0.53307343],\n",
              "       [ 0.28946939, -1.75017127],\n",
              "       [ 0.8214237 , -1.29375958],\n",
              "       [ 0.34449915, -1.29375958],\n",
              "       [ 0.98651297, -0.73592307],\n",
              "       [-0.35254443, -1.85159609],\n",
              "       [ 0.96816972, -0.98948512],\n",
              "       [ 0.41787215, -1.34447199],\n",
              "       [ 0.87645346, -1.04019753],\n",
              "       [ 1.15160224, -1.44589681],\n",
              "       [ 0.21609638, -1.34447199],\n",
              "       [ 0.47290191, -1.34447199],\n",
              "       [ 0.43621541, -0.68521066],\n",
              "       [-0.18745516, -2.05444573],\n",
              "       [ 0.3995289 , -1.04019753],\n",
              "       [ 0.10603687, -1.44589681],\n",
              "       [ 0.71136419, -1.09090994],\n",
              "       [ 0.7847372 , -1.44589681],\n",
              "       [ 1.11491573, -0.93877271],\n",
              "       [ 0.61964793, -0.93877271],\n",
              "       [-0.20579842, -1.49660922],\n",
              "       [ 0.21609638, -1.34447199],\n",
              "       [ 2.87586793, -0.07666174],\n",
              "       [ 0.94982646, -1.19233476],\n",
              "       [ 0.8214237 , -0.43164861],\n",
              "       [-0.24248492, -1.75017127],\n",
              "       [ 0.08769362,  0.07547549],\n",
              "       [ 0.01432061, -1.80088368],\n",
              "       [ 0.87645346, -0.73592307],\n",
              "       [-0.22414167, -1.75017127],\n",
              "       [ 1.04154272, -0.58378584],\n",
              "       [ 0.25278289, -1.75017127],\n",
              "       [ 1.04154272, -1.09090994],\n",
              "       [ 1.20663199, -0.63449825],\n",
              "       [-0.0590524 , -1.64874645],\n",
              "       [ 0.28946939, -1.64874645],\n",
              "       [ 1.20663199, -0.63449825],\n",
              "       [ 0.17940988, -1.95302091],\n",
              "       [ 0.23443963, -0.68521066],\n",
              "       [ 0.49124516, -1.49660922],\n",
              "       [ 0.83976695, -1.54732163],\n",
              "       [ 0.21609638, -1.3951844 ],\n",
              "       [ 1.13325898, -1.09090994],\n",
              "       [ 0.47290191, -1.3951844 ],\n",
              "       [ 0.19775313, -0.8880603 ],\n",
              "       [-0.0223659 , -1.64874645],\n",
              "       [ 0.28946939, -1.09090994],\n",
              "       [-0.13242541, -1.34447199],\n",
              "       [ 1.18828874, -0.93877271],\n",
              "       [ 0.25278289, -1.69945886],\n",
              "       [ 0.41787215, -1.14162235],\n",
              "       [ 0.32615589, -1.64874645],\n",
              "       [ 1.90367557, -0.73592307],\n",
              "       [ 0.34449915, -1.49660922],\n",
              "       [ 1.07822923, -0.17808656],\n",
              "       [ 0.41787215, -1.3951844 ],\n",
              "       [ 1.02319947, -0.48236102],\n",
              "       [-0.07739565, -1.49660922],\n",
              "       [ 1.2433185 , -1.09090994],\n",
              "       [ 0.69302094, -1.09090994],\n",
              "       [ 0.45455866, -0.78663548],\n",
              "       [ 0.7847372 , -0.78663548],\n",
              "       [ 0.47290191, -1.19233476],\n",
              "       [ 0.45455866, -1.09090994],\n",
              "       [ 0.8581102 , -0.58378584],\n",
              "       [ 0.65633443, -1.49660922],\n",
              "       [ 1.31669151, -0.43164861],\n",
              "       [ 0.23443963, -1.69945886],\n",
              "       [ 0.23443963, -0.3809362 ],\n",
              "       [ 0.94982646, -1.34447199],\n",
              "       [ 1.57349703, -0.78663548],\n",
              "       [ 0.63799118, -1.29375958],\n",
              "       [ 1.11491573, -0.63449825],\n",
              "       [ 0.17940988, -1.69945886],\n",
              "       [ 1.26166175,  0.07547549],\n",
              "       [-0.0957389 , -1.3951844 ],\n",
              "       [ 1.35337801, -1.49660922],\n",
              "       [ 0.65633443, -1.59803404],\n",
              "       [ 1.50012403, -0.07666174],\n",
              "       [ 0.65633443, -1.09090994],\n",
              "       [ 1.51846728, -0.02594933],\n",
              "       [ 0.28946939, -1.34447199],\n",
              "       [ 1.02319947, -0.53307343],\n",
              "       [ 0.10603687, -1.24304717],\n",
              "       [ 1.26166175, -0.73592307],\n",
              "       [ 1.00485622, -0.68521066],\n",
              "       [ 0.54627492, -1.29375958],\n",
              "       [ 0.8214237 , -1.3951844 ],\n",
              "       [ 1.31669151, -0.33022379],\n",
              "       [ 0.83976695, -1.09090994],\n",
              "       [ 2.1971676 , -0.07666174],\n",
              "       [ 0.60130468, -0.83734789],\n",
              "       [ 0.94982646, -1.09090994],\n",
              "       [ 0.61964793, -1.69945886],\n",
              "       [ 0.52793167, -0.53307343],\n",
              "       [-0.40757419, -1.24304717],\n",
              "       [ 1.7385863 , -0.68521066],\n",
              "       [-0.11408216, -1.59803404],\n",
              "       [ 0.76639394, -1.04019753],\n",
              "       [ 1.20663199, -0.98948512],\n",
              "       [ 1.07822923, -0.63449825],\n",
              "       [-0.07739565, -0.98948512],\n",
              "       [ 1.39006451, -0.43164861],\n",
              "       [ 0.41787215, -1.54732163],\n",
              "       [ 2.05042159, -0.58378584],\n",
              "       [ 0.10603687, -0.73592307],\n",
              "       [ 0.89479671, -0.48236102],\n",
              "       [ 0.60130468, -1.75017127],\n",
              "       [        nan,         nan],\n",
              "       [ 0.52793167, -1.44589681],\n",
              "       [ 1.18828874, -0.73592307],\n",
              "       [ 0.23443963, -1.19233476],\n",
              "       [ 1.09657248, -0.53307343]])"
            ]
          },
          "metadata": {},
          "execution_count": 39
        }
      ]
    },
    {
      "cell_type": "code",
      "source": [
        "#Normalization\n",
        "#the process of bringing or returning something to a normal condition or state.\n",
        "\n",
        "#x' = x-x.min/(x.max-x.min)\n",
        "\n",
        "import sklearn\n",
        "from sklearn.preprocessing import StandardScaler\n",
        "from sklearn.preprocessing import MinMaxScaler\n",
        "min_max = MinMaxScaler(feature_range=(0,1))\n",
        "norm = min_max.fit_transform(x)\n",
        "norm"
      ],
      "metadata": {
        "colab": {
          "base_uri": "https://localhost:8080/"
        },
        "id": "Zpdj-loWFh10",
        "outputId": "6d64d474-0ef2-41d7-a1cc-c4db3573bf00"
      },
      "execution_count": 40,
      "outputs": [
        {
          "output_type": "execute_result",
          "data": {
            "text/plain": [
              "array([[0.25454545, 0.66666667],\n",
              "       [0.26909091, 0.51190476],\n",
              "       [0.29818182, 0.58333333],\n",
              "       [       nan,        nan],\n",
              "       [0.16727273, 0.73809524],\n",
              "       [0.26181818, 0.89285714],\n",
              "       [0.24727273, 0.55952381],\n",
              "       [0.25818182, 0.77380952],\n",
              "       [0.07272727, 0.5952381 ],\n",
              "       [0.36      , 0.8452381 ],\n",
              "       [0.20727273, 0.47619048],\n",
              "       [0.20727273, 0.5       ],\n",
              "       [0.32727273, 0.53571429],\n",
              "       [0.23636364, 0.96428571],\n",
              "       [0.09090909, 0.95238095],\n",
              "       [0.16363636, 0.55952381],\n",
              "       [0.24      , 0.70238095],\n",
              "       [0.37818182, 0.9047619 ],\n",
              "       [0.08363636, 0.63095238],\n",
              "       [0.50545455, 1.        ],\n",
              "       [0.20727273, 0.61904762],\n",
              "       [0.20363636, 0.66666667],\n",
              "       [0.13818182, 0.72619048],\n",
              "       [0.22181818, 0.5952381 ],\n",
              "       [0.24363636, 0.48809524],\n",
              "       [0.11636364, 0.69047619],\n",
              "       [0.30909091, 0.6547619 ],\n",
              "       [0.30545455, 0.57142857],\n",
              "       [0.21090909, 0.6547619 ],\n",
              "       [0.30545455, 0.69047619],\n",
              "       [0.26909091, 0.42857143],\n",
              "       [0.18545455, 0.5952381 ],\n",
              "       [0.26909091, 0.55952381],\n",
              "       [0.32      , 0.69047619],\n",
              "       [0.15636364, 0.46428571],\n",
              "       [0.25818182, 0.95238095],\n",
              "       [0.24363636, 0.82142857],\n",
              "       [0.36727273, 0.64285714],\n",
              "       [0.2       , 0.73809524],\n",
              "       [0.28      , 0.71428571],\n",
              "       [0.16      , 0.58333333],\n",
              "       [0.31636364, 0.63095238],\n",
              "       [0.14181818, 0.64285714],\n",
              "       [0.43636364, 0.78571429],\n",
              "       [0.17818182, 0.45238095],\n",
              "       [0.27272727, 0.67857143],\n",
              "       [0.32727273, 0.70238095],\n",
              "       [0.19636364, 0.69047619],\n",
              "       [0.14181818, 0.57142857],\n",
              "       [0.37090909, 0.96428571],\n",
              "       [0.27272727, 0.54761905],\n",
              "       [0.29090909, 0.69047619],\n",
              "       [0.10545455, 0.57142857],\n",
              "       [0.36      , 0.76190476],\n",
              "       [0.08727273, 0.5952381 ],\n",
              "       [0.33818182, 0.6547619 ],\n",
              "       [0.25090909, 0.52380952],\n",
              "       [0.30909091, 0.67857143],\n",
              "       [0.16      , 0.41666667],\n",
              "       [0.2       , 0.71428571],\n",
              "       [0.13090909, 0.45238095],\n",
              "       [0.33454545, 0.95238095],\n",
              "       [0.2       , 0.46428571],\n",
              "       [0.32727273, 0.60714286],\n",
              "       [0.15636364, 0.47619048],\n",
              "       [0.34545455, 0.58333333],\n",
              "       [0.12363636, 0.36904762],\n",
              "       [0.32727273, 0.71428571],\n",
              "       [0.13818182, 0.41666667],\n",
              "       [0.35272727, 0.75      ],\n",
              "       [0.05090909, 0.70238095],\n",
              "       [0.27636364, 0.63095238],\n",
              "       [0.27272727, 0.48809524],\n",
              "       [0.49818182, 0.69047619],\n",
              "       [0.12363636, 0.52380952],\n",
              "       [0.38909091, 0.64285714],\n",
              "       [0.32      , 0.44047619],\n",
              "       [0.18545455, 0.75      ],\n",
              "       [0.14909091, 0.35714286],\n",
              "       [0.36363636, 0.71428571],\n",
              "       [0.09090909, 0.48809524],\n",
              "       [0.39272727, 0.53571429],\n",
              "       [0.16727273, 0.67857143],\n",
              "       [0.10909091, 0.75      ],\n",
              "       [0.18909091, 0.55952381],\n",
              "       [0.33454545, 0.85714286],\n",
              "       [0.15272727, 0.76190476],\n",
              "       [0.17454545, 0.6547619 ],\n",
              "       [0.22545455, 0.72619048],\n",
              "       [0.24727273, 0.67857143],\n",
              "       [0.13090909, 0.58333333],\n",
              "       [0.32727273, 0.5952381 ],\n",
              "       [0.06909091, 0.47619048],\n",
              "       [0.27272727, 0.5952381 ],\n",
              "       [0.14909091, 0.5       ],\n",
              "       [0.31636364, 0.69047619],\n",
              "       [0.21818182, 0.6547619 ],\n",
              "       [0.29818182, 0.64285714],\n",
              "       [0.03636364, 0.35714286],\n",
              "       [0.40363636, 0.64285714],\n",
              "       [0.10545455, 0.57142857],\n",
              "       [0.32363636, 0.82142857],\n",
              "       [0.20363636, 0.3452381 ],\n",
              "       [0.20727273, 0.82142857],\n",
              "       [0.21090909, 0.6547619 ],\n",
              "       [0.27636364, 0.69047619],\n",
              "       [0.23636364, 0.48809524],\n",
              "       [0.22181818, 0.82142857],\n",
              "       [0.21818182, 0.46428571],\n",
              "       [0.40363636, 0.70238095],\n",
              "       [0.21818182, 0.4047619 ],\n",
              "       [0.49090909, 0.85714286],\n",
              "       [0.27636364, 0.54761905],\n",
              "       [0.36727273, 0.76190476],\n",
              "       [0.27272727, 0.9047619 ],\n",
              "       [0.38545455, 0.61904762],\n",
              "       [0.23636364, 0.46428571],\n",
              "       [0.18909091, 0.88095238],\n",
              "       [0.13090909, 0.46428571],\n",
              "       [0.32727273, 0.6547619 ],\n",
              "       [0.14909091, 0.48809524],\n",
              "       [0.20363636, 0.79761905],\n",
              "       [0.29454545, 0.46428571],\n",
              "       [0.33818182, 0.64285714],\n",
              "       [0.11272727, 0.33333333],\n",
              "       [0.30909091, 0.70238095],\n",
              "       [0.24363636, 0.53571429],\n",
              "       [0.34181818, 0.61904762],\n",
              "       [0.25090909, 0.47619048],\n",
              "       [0.43636364, 0.58333333],\n",
              "       [0.23272727, 0.57142857],\n",
              "       [0.4       , 0.72619048],\n",
              "       [0.17090909, 0.64285714],\n",
              "       [0.19636364, 0.64285714],\n",
              "       [0.21818182, 0.53571429],\n",
              "       [0.32727273, 0.52380952],\n",
              "       [0.12727273, 0.52380952],\n",
              "       [0.29454545, 0.83333333],\n",
              "       [0.17818182, 0.4047619 ],\n",
              "       [0.27636364, 0.57142857],\n",
              "       [0.29454545, 0.47619048],\n",
              "       [0.30909091, 0.48809524],\n",
              "       [0.        , 0.28571429],\n",
              "       [0.31272727, 0.46428571],\n",
              "       [0.18909091, 0.44047619],\n",
              "       [0.25090909, 0.66666667],\n",
              "       [0.25818182, 0.6547619 ],\n",
              "       [0.16363636, 0.63095238],\n",
              "       [0.14181818, 0.55952381],\n",
              "       [0.20727273, 0.5952381 ],\n",
              "       [0.14181818, 0.47619048],\n",
              "       [0.34181818, 0.64285714],\n",
              "       [0.52363636, 0.57142857],\n",
              "       [0.65090909, 0.76190476],\n",
              "       [0.69818182, 0.72619048],\n",
              "       [0.48363636, 0.66666667],\n",
              "       [0.74909091, 0.79761905],\n",
              "       [0.47636364, 0.55952381],\n",
              "       [0.50909091, 0.60714286],\n",
              "       [0.69818182, 0.60714286],\n",
              "       [0.50545455, 0.69047619],\n",
              "       [0.69818182, 0.80952381],\n",
              "       [0.52727273, 0.55952381],\n",
              "       [0.71272727, 0.85714286],\n",
              "       [0.54181818, 0.5       ],\n",
              "       [0.72363636, 0.5952381 ],\n",
              "       [0.50181818, 0.47619048],\n",
              "       [0.66909091, 0.77380952],\n",
              "       [0.66181818, 0.82142857],\n",
              "       [0.94181818, 0.55952381],\n",
              "       [0.52      , 0.6547619 ],\n",
              "       [0.62181818, 0.60714286],\n",
              "       [0.37454545, 0.5       ],\n",
              "       [0.59636364, 0.52380952],\n",
              "       [0.40363636, 0.41666667],\n",
              "       [0.67272727, 0.75      ],\n",
              "       [0.53090909, 0.57142857],\n",
              "       [0.72363636, 0.70238095],\n",
              "       [0.66909091, 0.63095238],\n",
              "       [0.63272727, 0.70238095],\n",
              "       [0.52      , 0.55952381],\n",
              "       [0.75272727, 0.82142857],\n",
              "       [0.32      , 0.41666667],\n",
              "       [0.80363636, 0.91666667],\n",
              "       [0.37818182, 0.42857143],\n",
              "       [0.68727273, 0.67857143],\n",
              "       [0.64      , 0.6547619 ],\n",
              "       [0.56      , 0.44047619],\n",
              "       [0.56363636, 0.61904762],\n",
              "       [0.72363636, 0.9047619 ],\n",
              "       [0.53818182, 0.41666667],\n",
              "       [0.77818182, 0.80952381],\n",
              "       [0.61454545, 0.76190476],\n",
              "       [0.51272727, 0.52380952],\n",
              "       [0.68363636, 0.71428571],\n",
              "       [0.48727273, 0.46428571],\n",
              "       [0.68363636, 0.57142857],\n",
              "       [0.68      , 0.64285714],\n",
              "       [0.65454545, 0.57142857],\n",
              "       [0.61454545, 0.77380952],\n",
              "       [0.70545455, 0.66666667],\n",
              "       [0.64363636, 0.5       ],\n",
              "       [0.58181818, 0.39285714],\n",
              "       [0.70181818, 0.70238095],\n",
              "       [0.49454545, 0.5       ],\n",
              "       [0.67636364, 0.78571429],\n",
              "       [0.37818182, 0.5       ],\n",
              "       [0.73090909, 0.67857143],\n",
              "       [0.47636364, 0.41666667],\n",
              "       [0.62545455, 0.80952381],\n",
              "       [0.65818182, 0.67857143],\n",
              "       [0.49090909, 0.75      ],\n",
              "       [0.72      , 0.76190476],\n",
              "       [0.53454545, 0.4047619 ],\n",
              "       [0.49454545, 0.46428571],\n",
              "       [0.86181818, 0.79761905],\n",
              "       [0.41454545, 0.5952381 ],\n",
              "       [0.63636364, 0.60714286],\n",
              "       [0.68      , 0.70238095],\n",
              "       [0.65818182, 0.66666667],\n",
              "       [0.50909091, 0.01190476],\n",
              "       [0.65090909, 0.38095238],\n",
              "       [0.60363636, 0.11904762],\n",
              "       [0.65090909, 0.25      ],\n",
              "       [0.56363636, 0.16666667],\n",
              "       [0.52363636, 0.04761905],\n",
              "       [0.48363636, 0.17857143],\n",
              "       [0.53090909, 0.26190476],\n",
              "       [0.40727273, 0.03571429],\n",
              "       [0.53454545, 0.27380952],\n",
              "       [0.32      , 0.07142857],\n",
              "       [0.61454545, 0.35714286],\n",
              "       [0.48727273, 0.07142857],\n",
              "       [0.59272727, 0.17857143],\n",
              "       [0.49818182, 0.17857143],\n",
              "       [0.62545455, 0.30952381],\n",
              "       [0.36      , 0.04761905],\n",
              "       [0.62181818, 0.25      ],\n",
              "       [0.51272727, 0.16666667],\n",
              "       [0.60363636, 0.23809524],\n",
              "       [0.65818182, 0.14285714],\n",
              "       [0.47272727, 0.16666667],\n",
              "       [0.52363636, 0.16666667],\n",
              "       [0.51636364, 0.32142857],\n",
              "       [0.39272727, 0.        ],\n",
              "       [0.50909091, 0.23809524],\n",
              "       [0.45090909, 0.14285714],\n",
              "       [0.57090909, 0.22619048],\n",
              "       [0.58545455, 0.14285714],\n",
              "       [0.65090909, 0.26190476],\n",
              "       [0.55272727, 0.26190476],\n",
              "       [0.38909091, 0.13095238],\n",
              "       [0.47272727, 0.16666667],\n",
              "       [1.        , 0.46428571],\n",
              "       [0.61818182, 0.20238095],\n",
              "       [0.59272727, 0.38095238],\n",
              "       [0.38181818, 0.07142857],\n",
              "       [0.44727273, 0.5       ],\n",
              "       [0.43272727, 0.05952381],\n",
              "       [0.60363636, 0.30952381],\n",
              "       [0.38545455, 0.07142857],\n",
              "       [0.63636364, 0.3452381 ],\n",
              "       [0.48      , 0.07142857],\n",
              "       [0.63636364, 0.22619048],\n",
              "       [0.66909091, 0.33333333],\n",
              "       [0.41818182, 0.0952381 ],\n",
              "       [0.48727273, 0.0952381 ],\n",
              "       [0.66909091, 0.33333333],\n",
              "       [0.46545455, 0.02380952],\n",
              "       [0.47636364, 0.32142857],\n",
              "       [0.52727273, 0.13095238],\n",
              "       [0.59636364, 0.11904762],\n",
              "       [0.47272727, 0.1547619 ],\n",
              "       [0.65454545, 0.22619048],\n",
              "       [0.52363636, 0.1547619 ],\n",
              "       [0.46909091, 0.27380952],\n",
              "       [0.42545455, 0.0952381 ],\n",
              "       [0.48727273, 0.22619048],\n",
              "       [0.40363636, 0.16666667],\n",
              "       [0.66545455, 0.26190476],\n",
              "       [0.48      , 0.08333333],\n",
              "       [0.51272727, 0.21428571],\n",
              "       [0.49454545, 0.0952381 ],\n",
              "       [0.80727273, 0.30952381],\n",
              "       [0.49818182, 0.13095238],\n",
              "       [0.64363636, 0.44047619],\n",
              "       [0.51272727, 0.1547619 ],\n",
              "       [0.63272727, 0.36904762],\n",
              "       [0.41454545, 0.13095238],\n",
              "       [0.67636364, 0.22619048],\n",
              "       [0.56727273, 0.22619048],\n",
              "       [0.52      , 0.29761905],\n",
              "       [0.58545455, 0.29761905],\n",
              "       [0.52363636, 0.20238095],\n",
              "       [0.52      , 0.22619048],\n",
              "       [0.6       , 0.3452381 ],\n",
              "       [0.56      , 0.13095238],\n",
              "       [0.69090909, 0.38095238],\n",
              "       [0.47636364, 0.08333333],\n",
              "       [0.47636364, 0.39285714],\n",
              "       [0.61818182, 0.16666667],\n",
              "       [0.74181818, 0.29761905],\n",
              "       [0.55636364, 0.17857143],\n",
              "       [0.65090909, 0.33333333],\n",
              "       [0.46545455, 0.08333333],\n",
              "       [0.68      , 0.5       ],\n",
              "       [0.41090909, 0.1547619 ],\n",
              "       [0.69818182, 0.13095238],\n",
              "       [0.56      , 0.10714286],\n",
              "       [0.72727273, 0.46428571],\n",
              "       [0.56      , 0.22619048],\n",
              "       [0.73090909, 0.47619048],\n",
              "       [0.48727273, 0.16666667],\n",
              "       [0.63272727, 0.35714286],\n",
              "       [0.45090909, 0.19047619],\n",
              "       [0.68      , 0.30952381],\n",
              "       [0.62909091, 0.32142857],\n",
              "       [0.53818182, 0.17857143],\n",
              "       [0.59272727, 0.1547619 ],\n",
              "       [0.69090909, 0.4047619 ],\n",
              "       [0.59636364, 0.22619048],\n",
              "       [0.86545455, 0.46428571],\n",
              "       [0.54909091, 0.28571429],\n",
              "       [0.61818182, 0.22619048],\n",
              "       [0.55272727, 0.08333333],\n",
              "       [0.53454545, 0.35714286],\n",
              "       [0.34909091, 0.19047619],\n",
              "       [0.77454545, 0.32142857],\n",
              "       [0.40727273, 0.10714286],\n",
              "       [0.58181818, 0.23809524],\n",
              "       [0.66909091, 0.25      ],\n",
              "       [0.64363636, 0.33333333],\n",
              "       [0.41454545, 0.25      ],\n",
              "       [0.70545455, 0.38095238],\n",
              "       [0.51272727, 0.11904762],\n",
              "       [0.83636364, 0.3452381 ],\n",
              "       [0.45090909, 0.30952381],\n",
              "       [0.60727273, 0.36904762],\n",
              "       [0.54909091, 0.07142857],\n",
              "       [       nan,        nan],\n",
              "       [0.53454545, 0.14285714],\n",
              "       [0.66545455, 0.30952381],\n",
              "       [0.47636364, 0.20238095],\n",
              "       [0.64727273, 0.35714286]])"
            ]
          },
          "metadata": {},
          "execution_count": 40
        }
      ]
    },
    {
      "cell_type": "code",
      "source": [
        "#Robust Scaler\n",
        "#Robust Scaler are robust to outliers.It is used to scale the feature to median and quantiles Scaling using median and quantiles consists of substracting the median to all the observations, and then dividing by the interquantile difference. The interquantile difference is the difference between the 75th and 25th quantile:\n",
        "\n",
        "#IQR = 75th quantile - 25th quantile\n",
        "\n",
        "#X_scaled = (X - X.median) / IQR\n",
        "\n",
        "from sklearn.preprocessing import RobustScaler\n",
        "Rscale = RobustScaler()\n",
        "RS = Rscale.fit_transform(x)\n",
        "RS"
      ],
      "metadata": {
        "colab": {
          "base_uri": "https://localhost:8080/"
        },
        "id": "I0lMPkZKFswG",
        "outputId": "b5d888f3-f398-4b8d-98ae-b0b891441162"
      },
      "execution_count": 41,
      "outputs": [
        {
          "output_type": "execute_result",
          "data": {
            "text/plain": [
              "array([[-0.57681941,  0.4516129 ],\n",
              "       [-0.53369272,  0.03225806],\n",
              "       [-0.44743935,  0.22580645],\n",
              "       [        nan,         nan],\n",
              "       [-0.83557951,  0.64516129],\n",
              "       [-0.55525606,  1.06451613],\n",
              "       [-0.59838275,  0.16129032],\n",
              "       [-0.56603774,  0.74193548],\n",
              "       [-1.11590296,  0.25806452],\n",
              "       [-0.26415094,  0.93548387],\n",
              "       [-0.71698113, -0.06451613],\n",
              "       [-0.71698113,  0.        ],\n",
              "       [-0.36118598,  0.09677419],\n",
              "       [-0.63072776,  1.25806452],\n",
              "       [-1.06199461,  1.22580645],\n",
              "       [-0.84636119,  0.16129032],\n",
              "       [-0.61994609,  0.5483871 ],\n",
              "       [-0.21024259,  1.09677419],\n",
              "       [-1.08355795,  0.35483871],\n",
              "       [ 0.1671159 ,  1.35483871],\n",
              "       [-0.71698113,  0.32258065],\n",
              "       [-0.7277628 ,  0.4516129 ],\n",
              "       [-0.92183288,  0.61290323],\n",
              "       [-0.67385445,  0.25806452],\n",
              "       [-0.60916442, -0.03225806],\n",
              "       [-0.98652291,  0.51612903],\n",
              "       [-0.41509434,  0.41935484],\n",
              "       [-0.42587601,  0.19354839],\n",
              "       [-0.70619946,  0.41935484],\n",
              "       [-0.42587601,  0.51612903],\n",
              "       [-0.53369272, -0.19354839],\n",
              "       [-0.78167116,  0.25806452],\n",
              "       [-0.53369272,  0.16129032],\n",
              "       [-0.38274933,  0.51612903],\n",
              "       [-0.86792453, -0.09677419],\n",
              "       [-0.56603774,  1.22580645],\n",
              "       [-0.60916442,  0.87096774],\n",
              "       [-0.2425876 ,  0.38709677],\n",
              "       [-0.73854447,  0.64516129],\n",
              "       [-0.50134771,  0.58064516],\n",
              "       [-0.85714286,  0.22580645],\n",
              "       [-0.393531  ,  0.35483871],\n",
              "       [-0.91105121,  0.38709677],\n",
              "       [-0.03773585,  0.77419355],\n",
              "       [-0.8032345 , -0.12903226],\n",
              "       [-0.52291105,  0.48387097],\n",
              "       [-0.36118598,  0.5483871 ],\n",
              "       [-0.74932615,  0.51612903],\n",
              "       [-0.91105121,  0.19354839],\n",
              "       [-0.23180593,  1.25806452],\n",
              "       [-0.52291105,  0.12903226],\n",
              "       [-0.4690027 ,  0.51612903],\n",
              "       [-1.01886792,  0.19354839],\n",
              "       [-0.26415094,  0.70967742],\n",
              "       [-1.07277628,  0.25806452],\n",
              "       [-0.32884097,  0.41935484],\n",
              "       [-0.58760108,  0.06451613],\n",
              "       [-0.41509434,  0.48387097],\n",
              "       [-0.85714286, -0.22580645],\n",
              "       [-0.73854447,  0.58064516],\n",
              "       [-0.94339623, -0.12903226],\n",
              "       [-0.33962264,  1.22580645],\n",
              "       [-0.73854447, -0.09677419],\n",
              "       [-0.36118598,  0.29032258],\n",
              "       [-0.86792453, -0.06451613],\n",
              "       [-0.30727763,  0.22580645],\n",
              "       [-0.96495957, -0.35483871],\n",
              "       [-0.36118598,  0.58064516],\n",
              "       [-0.92183288, -0.22580645],\n",
              "       [-0.28571429,  0.67741935],\n",
              "       [-1.18059299,  0.5483871 ],\n",
              "       [-0.51212938,  0.35483871],\n",
              "       [-0.52291105, -0.03225806],\n",
              "       [ 0.14555256,  0.51612903],\n",
              "       [-0.96495957,  0.06451613],\n",
              "       [-0.17789757,  0.38709677],\n",
              "       [-0.38274933, -0.16129032],\n",
              "       [-0.78167116,  0.67741935],\n",
              "       [-0.88948787, -0.38709677],\n",
              "       [-0.25336927,  0.58064516],\n",
              "       [-1.06199461, -0.03225806],\n",
              "       [-0.1671159 ,  0.09677419],\n",
              "       [-0.83557951,  0.48387097],\n",
              "       [-1.00808625,  0.67741935],\n",
              "       [-0.77088949,  0.16129032],\n",
              "       [-0.33962264,  0.96774194],\n",
              "       [-0.8787062 ,  0.70967742],\n",
              "       [-0.81401617,  0.41935484],\n",
              "       [-0.66307278,  0.61290323],\n",
              "       [-0.59838275,  0.48387097],\n",
              "       [-0.94339623,  0.22580645],\n",
              "       [-0.36118598,  0.25806452],\n",
              "       [-1.12668464, -0.06451613],\n",
              "       [-0.52291105,  0.25806452],\n",
              "       [-0.88948787,  0.        ],\n",
              "       [-0.393531  ,  0.51612903],\n",
              "       [-0.68463612,  0.41935484],\n",
              "       [-0.44743935,  0.38709677],\n",
              "       [-1.22371968, -0.38709677],\n",
              "       [-0.13477089,  0.38709677],\n",
              "       [-1.01886792,  0.19354839],\n",
              "       [-0.37196765,  0.87096774],\n",
              "       [-0.7277628 , -0.41935484],\n",
              "       [-0.71698113,  0.87096774],\n",
              "       [-0.70619946,  0.41935484],\n",
              "       [-0.51212938,  0.51612903],\n",
              "       [-0.63072776, -0.03225806],\n",
              "       [-0.67385445,  0.87096774],\n",
              "       [-0.68463612, -0.09677419],\n",
              "       [-0.13477089,  0.5483871 ],\n",
              "       [-0.68463612, -0.25806452],\n",
              "       [ 0.12398922,  0.96774194],\n",
              "       [-0.51212938,  0.12903226],\n",
              "       [-0.2425876 ,  0.70967742],\n",
              "       [-0.52291105,  1.09677419],\n",
              "       [-0.18867925,  0.32258065],\n",
              "       [-0.63072776, -0.09677419],\n",
              "       [-0.77088949,  1.03225806],\n",
              "       [-0.94339623, -0.09677419],\n",
              "       [-0.36118598,  0.41935484],\n",
              "       [-0.88948787, -0.03225806],\n",
              "       [-0.7277628 ,  0.80645161],\n",
              "       [-0.45822102, -0.09677419],\n",
              "       [-0.32884097,  0.38709677],\n",
              "       [-0.99730458, -0.4516129 ],\n",
              "       [-0.41509434,  0.5483871 ],\n",
              "       [-0.60916442,  0.09677419],\n",
              "       [-0.3180593 ,  0.32258065],\n",
              "       [-0.58760108, -0.06451613],\n",
              "       [-0.03773585,  0.22580645],\n",
              "       [-0.64150943,  0.19354839],\n",
              "       [-0.14555256,  0.61290323],\n",
              "       [-0.82479784,  0.38709677],\n",
              "       [-0.74932615,  0.38709677],\n",
              "       [-0.68463612,  0.09677419],\n",
              "       [-0.36118598,  0.06451613],\n",
              "       [-0.9541779 ,  0.06451613],\n",
              "       [-0.45822102,  0.90322581],\n",
              "       [-0.8032345 , -0.25806452],\n",
              "       [-0.51212938,  0.19354839],\n",
              "       [-0.45822102, -0.06451613],\n",
              "       [-0.41509434, -0.03225806],\n",
              "       [-1.33153639, -0.58064516],\n",
              "       [-0.40431267, -0.09677419],\n",
              "       [-0.77088949, -0.16129032],\n",
              "       [-0.58760108,  0.4516129 ],\n",
              "       [-0.56603774,  0.41935484],\n",
              "       [-0.84636119,  0.35483871],\n",
              "       [-0.91105121,  0.16129032],\n",
              "       [-0.71698113,  0.25806452],\n",
              "       [-0.91105121, -0.06451613],\n",
              "       [-0.3180593 ,  0.38709677],\n",
              "       [ 0.22102426,  0.19354839],\n",
              "       [ 0.59838275,  0.70967742],\n",
              "       [ 0.73854447,  0.61290323],\n",
              "       [ 0.10242588,  0.4516129 ],\n",
              "       [ 0.88948787,  0.80645161],\n",
              "       [ 0.08086253,  0.16129032],\n",
              "       [ 0.17789757,  0.29032258],\n",
              "       [ 0.73854447,  0.29032258],\n",
              "       [ 0.1671159 ,  0.51612903],\n",
              "       [ 0.73854447,  0.83870968],\n",
              "       [ 0.23180593,  0.16129032],\n",
              "       [ 0.78167116,  0.96774194],\n",
              "       [ 0.27493261,  0.        ],\n",
              "       [ 0.81401617,  0.25806452],\n",
              "       [ 0.15633423, -0.06451613],\n",
              "       [ 0.65229111,  0.74193548],\n",
              "       [ 0.63072776,  0.87096774],\n",
              "       [ 1.46091644,  0.16129032],\n",
              "       [ 0.21024259,  0.41935484],\n",
              "       [ 0.51212938,  0.29032258],\n",
              "       [-0.22102426,  0.        ],\n",
              "       [ 0.43665768,  0.06451613],\n",
              "       [-0.13477089, -0.22580645],\n",
              "       [ 0.66307278,  0.67741935],\n",
              "       [ 0.2425876 ,  0.19354839],\n",
              "       [ 0.81401617,  0.5483871 ],\n",
              "       [ 0.65229111,  0.35483871],\n",
              "       [ 0.54447439,  0.5483871 ],\n",
              "       [ 0.21024259,  0.16129032],\n",
              "       [ 0.90026954,  0.87096774],\n",
              "       [-0.38274933, -0.22580645],\n",
              "       [ 1.05121294,  1.12903226],\n",
              "       [-0.21024259, -0.19354839],\n",
              "       [ 0.70619946,  0.48387097],\n",
              "       [ 0.56603774,  0.41935484],\n",
              "       [ 0.32884097, -0.16129032],\n",
              "       [ 0.33962264,  0.32258065],\n",
              "       [ 0.81401617,  1.09677419],\n",
              "       [ 0.26415094, -0.22580645],\n",
              "       [ 0.97574124,  0.83870968],\n",
              "       [ 0.49056604,  0.70967742],\n",
              "       [ 0.18867925,  0.06451613],\n",
              "       [ 0.69541779,  0.58064516],\n",
              "       [ 0.11320755, -0.09677419],\n",
              "       [ 0.69541779,  0.19354839],\n",
              "       [ 0.68463612,  0.38709677],\n",
              "       [ 0.60916442,  0.19354839],\n",
              "       [ 0.49056604,  0.74193548],\n",
              "       [ 0.76010782,  0.4516129 ],\n",
              "       [ 0.57681941,  0.        ],\n",
              "       [ 0.393531  , -0.29032258],\n",
              "       [ 0.74932615,  0.5483871 ],\n",
              "       [ 0.13477089,  0.        ],\n",
              "       [ 0.67385445,  0.77419355],\n",
              "       [-0.21024259,  0.        ],\n",
              "       [ 0.83557951,  0.48387097],\n",
              "       [ 0.08086253, -0.22580645],\n",
              "       [ 0.52291105,  0.83870968],\n",
              "       [ 0.61994609,  0.48387097],\n",
              "       [ 0.12398922,  0.67741935],\n",
              "       [ 0.8032345 ,  0.70967742],\n",
              "       [ 0.25336927, -0.25806452],\n",
              "       [ 0.13477089, -0.09677419],\n",
              "       [ 1.22371968,  0.80645161],\n",
              "       [-0.10242588,  0.25806452],\n",
              "       [ 0.55525606,  0.29032258],\n",
              "       [ 0.68463612,  0.5483871 ],\n",
              "       [ 0.61994609,  0.4516129 ],\n",
              "       [ 0.17789757, -1.32258065],\n",
              "       [ 0.59838275, -0.32258065],\n",
              "       [ 0.45822102, -1.03225806],\n",
              "       [ 0.59838275, -0.67741935],\n",
              "       [ 0.33962264, -0.90322581],\n",
              "       [ 0.22102426, -1.22580645],\n",
              "       [ 0.10242588, -0.87096774],\n",
              "       [ 0.2425876 , -0.64516129],\n",
              "       [-0.12398922, -1.25806452],\n",
              "       [ 0.25336927, -0.61290323],\n",
              "       [-0.38274933, -1.16129032],\n",
              "       [ 0.49056604, -0.38709677],\n",
              "       [ 0.11320755, -1.16129032],\n",
              "       [ 0.42587601, -0.87096774],\n",
              "       [ 0.14555256, -0.87096774],\n",
              "       [ 0.52291105, -0.51612903],\n",
              "       [-0.26415094, -1.22580645],\n",
              "       [ 0.51212938, -0.67741935],\n",
              "       [ 0.18867925, -0.90322581],\n",
              "       [ 0.45822102, -0.70967742],\n",
              "       [ 0.61994609, -0.96774194],\n",
              "       [ 0.07008086, -0.90322581],\n",
              "       [ 0.22102426, -0.90322581],\n",
              "       [ 0.19946092, -0.48387097],\n",
              "       [-0.1671159 , -1.35483871],\n",
              "       [ 0.17789757, -0.70967742],\n",
              "       [ 0.00539084, -0.96774194],\n",
              "       [ 0.36118598, -0.74193548],\n",
              "       [ 0.40431267, -0.96774194],\n",
              "       [ 0.59838275, -0.64516129],\n",
              "       [ 0.30727763, -0.64516129],\n",
              "       [-0.17789757, -1.        ],\n",
              "       [ 0.07008086, -0.90322581],\n",
              "       [ 1.63342318, -0.09677419],\n",
              "       [ 0.50134771, -0.80645161],\n",
              "       [ 0.42587601, -0.32258065],\n",
              "       [-0.19946092, -1.16129032],\n",
              "       [-0.00539084,  0.        ],\n",
              "       [-0.04851752, -1.19354839],\n",
              "       [ 0.45822102, -0.51612903],\n",
              "       [-0.18867925, -1.16129032],\n",
              "       [ 0.55525606, -0.41935484],\n",
              "       [ 0.0916442 , -1.16129032],\n",
              "       [ 0.55525606, -0.74193548],\n",
              "       [ 0.65229111, -0.4516129 ],\n",
              "       [-0.0916442 , -1.09677419],\n",
              "       [ 0.11320755, -1.09677419],\n",
              "       [ 0.65229111, -0.4516129 ],\n",
              "       [ 0.04851752, -1.29032258],\n",
              "       [ 0.08086253, -0.48387097],\n",
              "       [ 0.23180593, -1.        ],\n",
              "       [ 0.43665768, -1.03225806],\n",
              "       [ 0.07008086, -0.93548387],\n",
              "       [ 0.60916442, -0.74193548],\n",
              "       [ 0.22102426, -0.93548387],\n",
              "       [ 0.05929919, -0.61290323],\n",
              "       [-0.07008086, -1.09677419],\n",
              "       [ 0.11320755, -0.74193548],\n",
              "       [-0.13477089, -0.90322581],\n",
              "       [ 0.64150943, -0.64516129],\n",
              "       [ 0.0916442 , -1.12903226],\n",
              "       [ 0.18867925, -0.77419355],\n",
              "       [ 0.13477089, -1.09677419],\n",
              "       [ 1.06199461, -0.51612903],\n",
              "       [ 0.14555256, -1.        ],\n",
              "       [ 0.57681941, -0.16129032],\n",
              "       [ 0.18867925, -0.93548387],\n",
              "       [ 0.54447439, -0.35483871],\n",
              "       [-0.10242588, -1.        ],\n",
              "       [ 0.67385445, -0.74193548],\n",
              "       [ 0.35040431, -0.74193548],\n",
              "       [ 0.21024259, -0.5483871 ],\n",
              "       [ 0.40431267, -0.5483871 ],\n",
              "       [ 0.22102426, -0.80645161],\n",
              "       [ 0.21024259, -0.74193548],\n",
              "       [ 0.44743935, -0.41935484],\n",
              "       [ 0.32884097, -1.        ],\n",
              "       [ 0.71698113, -0.32258065],\n",
              "       [ 0.08086253, -1.12903226],\n",
              "       [ 0.08086253, -0.29032258],\n",
              "       [ 0.50134771, -0.90322581],\n",
              "       [ 0.86792453, -0.5483871 ],\n",
              "       [ 0.3180593 , -0.87096774],\n",
              "       [ 0.59838275, -0.4516129 ],\n",
              "       [ 0.04851752, -1.12903226],\n",
              "       [ 0.68463612,  0.        ],\n",
              "       [-0.11320755, -0.93548387],\n",
              "       [ 0.73854447, -1.        ],\n",
              "       [ 0.32884097, -1.06451613],\n",
              "       [ 0.82479784, -0.09677419],\n",
              "       [ 0.32884097, -0.74193548],\n",
              "       [ 0.83557951, -0.06451613],\n",
              "       [ 0.11320755, -0.90322581],\n",
              "       [ 0.54447439, -0.38709677],\n",
              "       [ 0.00539084, -0.83870968],\n",
              "       [ 0.68463612, -0.51612903],\n",
              "       [ 0.53369272, -0.48387097],\n",
              "       [ 0.26415094, -0.87096774],\n",
              "       [ 0.42587601, -0.93548387],\n",
              "       [ 0.71698113, -0.25806452],\n",
              "       [ 0.43665768, -0.74193548],\n",
              "       [ 1.23450135, -0.09677419],\n",
              "       [ 0.29649596, -0.58064516],\n",
              "       [ 0.50134771, -0.74193548],\n",
              "       [ 0.30727763, -1.12903226],\n",
              "       [ 0.25336927, -0.38709677],\n",
              "       [-0.29649596, -0.83870968],\n",
              "       [ 0.96495957, -0.48387097],\n",
              "       [-0.12398922, -1.06451613],\n",
              "       [ 0.393531  , -0.70967742],\n",
              "       [ 0.65229111, -0.67741935],\n",
              "       [ 0.57681941, -0.4516129 ],\n",
              "       [-0.10242588, -0.67741935],\n",
              "       [ 0.76010782, -0.32258065],\n",
              "       [ 0.18867925, -1.03225806],\n",
              "       [ 1.14824798, -0.41935484],\n",
              "       [ 0.00539084, -0.51612903],\n",
              "       [ 0.4690027 , -0.35483871],\n",
              "       [ 0.29649596, -1.16129032],\n",
              "       [        nan,         nan],\n",
              "       [ 0.25336927, -0.96774194],\n",
              "       [ 0.64150943, -0.51612903],\n",
              "       [ 0.08086253, -0.80645161],\n",
              "       [ 0.58760108, -0.38709677]])"
            ]
          },
          "metadata": {},
          "execution_count": 41
        }
      ]
    },
    {
      "cell_type": "code",
      "source": [
        "#Distributions\n",
        "x = np.random.rand(100000)\n",
        "sns.displot(x)  # uniform distribution"
      ],
      "metadata": {
        "colab": {
          "base_uri": "https://localhost:8080/",
          "height": 386
        },
        "id": "IwuddCdVF5ZN",
        "outputId": "d06198e3-d7fc-44bd-81f7-2c389516c295"
      },
      "execution_count": 42,
      "outputs": [
        {
          "output_type": "execute_result",
          "data": {
            "text/plain": [
              "<seaborn.axisgrid.FacetGrid at 0x7f5428408310>"
            ]
          },
          "metadata": {},
          "execution_count": 42
        },
        {
          "output_type": "display_data",
          "data": {
            "text/plain": [
              "<Figure size 360x360 with 1 Axes>"
            ],
            "image/png": "[encoded data removed]"
          },
          "metadata": {
            "needs_background": "light"
          }
        }
      ]
    },
    {
      "cell_type": "code",
      "source": [
        "sns.displot(np.log(x)) "
      ],
      "metadata": {
        "colab": {
          "base_uri": "https://localhost:8080/",
          "height": 386
        },
        "id": "iwdtYcHoGCcz",
        "outputId": "6bfcfe50-cba7-41fd-e4ba-971f4f965998"
      },
      "execution_count": 43,
      "outputs": [
        {
          "output_type": "execute_result",
          "data": {
            "text/plain": [
              "<seaborn.axisgrid.FacetGrid at 0x7f542852b590>"
            ]
          },
          "metadata": {},
          "execution_count": 43
        },
        {
          "output_type": "display_data",
          "data": {
            "text/plain": [
              "<Figure size 360x360 with 1 Axes>"
            ],
            "image/png": "[encoded data removed]"
          },
          "metadata": {
            "needs_background": "light"
          }
        }
      ]
    },
    {
      "cell_type": "code",
      "source": [
        "sns.displot(np.sqrt(x))"
      ],
      "metadata": {
        "colab": {
          "base_uri": "https://localhost:8080/",
          "height": 386
        },
        "id": "ArROi0F9GMFy",
        "outputId": "1f3029c3-a324-48ce-ecad-feabd80e4ef6"
      },
      "execution_count": 44,
      "outputs": [
        {
          "output_type": "execute_result",
          "data": {
            "text/plain": [
              "<seaborn.axisgrid.FacetGrid at 0x7f5428459e90>"
            ]
          },
          "metadata": {},
          "execution_count": 44
        },
        {
          "output_type": "display_data",
          "data": {
            "text/plain": [
              "<Figure size 360x360 with 1 Axes>"
            ],
            "image/png": "[encoded data removed]"
          },
          "metadata": {
            "needs_background": "light"
          }
        }
      ]
    },
    {
      "cell_type": "code",
      "source": [
        "import seaborn as sns\n",
        "sns.set_theme()\n",
        "sns.displot(data['body_mass_g'],kind='kde')"
      ],
      "metadata": {
        "colab": {
          "base_uri": "https://localhost:8080/",
          "height": 382
        },
        "id": "ZQGwEaa0GVTE",
        "outputId": "3a9fd44e-7815-4162-dedf-8cab79ac4a17"
      },
      "execution_count": 45,
      "outputs": [
        {
          "output_type": "execute_result",
          "data": {
            "text/plain": [
              "<seaborn.axisgrid.FacetGrid at 0x7f54278b3610>"
            ]
          },
          "metadata": {},
          "execution_count": 45
        },
        {
          "output_type": "display_data",
          "data": {
            "text/plain": [
              "<Figure size 360x360 with 1 Axes>"
            ],
            "image/png": "[encoded data removed]"
          },
          "metadata": {}
        }
      ]
    },
    {
      "cell_type": "code",
      "source": [
        "Central Limit Theorem"
      ],
      "metadata": {
        "id": "OA_AoveDGh5N"
      },
      "execution_count": null,
      "outputs": []
    },
    {
      "cell_type": "code",
      "source": [
        "\n",
        "import pandas as pd\n",
        "import numpy as np\n",
        "import matplotlib.pyplot as plt\n",
        "import seaborn as sns\n",
        "np.mean(np.random.uniform(0,1,size=100))"
      ],
      "metadata": {
        "colab": {
          "base_uri": "https://localhost:8080/"
        },
        "id": "KSzSs527GXi6",
        "outputId": "b0a97eb2-ab61-4a7e-d811-8df189c5ec75"
      },
      "execution_count": 46,
      "outputs": [
        {
          "output_type": "execute_result",
          "data": {
            "text/plain": [
              "0.5227688471804511"
            ]
          },
          "metadata": {},
          "execution_count": 46
        }
      ]
    },
    {
      "cell_type": "code",
      "source": [
        "sample = lambda:np.mean(np.random.uniform(0,1,size=100))\n",
        "x = [sample() for i in range(1000)]\n",
        "plt.hist(x,bins=50,edgecolor = \"pink\")"
      ],
      "metadata": {
        "colab": {
          "base_uri": "https://localhost:8080/",
          "height": 547
        },
        "id": "q51rqkTYGnJn",
        "outputId": "83351261-762f-4256-a96e-d2ff2d6b5eaa"
      },
      "execution_count": 47,
      "outputs": [
        {
          "output_type": "execute_result",
          "data": {
            "text/plain": [
              "(array([ 2.,  0.,  4.,  0.,  4.,  2.,  6.,  7., 12., 15.,  9., 14., 16.,\n",
              "        17., 22., 21., 31., 39., 36., 38., 40., 46., 58., 47., 48., 43.,\n",
              "        37., 47., 50., 36., 41., 36., 25., 17., 18., 17., 21., 17., 12.,\n",
              "        17.,  8.,  6.,  7.,  3.,  5.,  0.,  1.,  1.,  0.,  1.]),\n",
              " array([0.41466068, 0.41813357, 0.42160645, 0.42507934, 0.42855223,\n",
              "        0.43202512, 0.435498  , 0.43897089, 0.44244378, 0.44591667,\n",
              "        0.44938955, 0.45286244, 0.45633533, 0.45980822, 0.4632811 ,\n",
              "        0.46675399, 0.47022688, 0.47369977, 0.47717265, 0.48064554,\n",
              "        0.48411843, 0.48759132, 0.4910642 , 0.49453709, 0.49800998,\n",
              "        0.50148287, 0.50495575, 0.50842864, 0.51190153, 0.51537442,\n",
              "        0.5188473 , 0.52232019, 0.52579308, 0.52926597, 0.53273885,\n",
              "        0.53621174, 0.53968463, 0.54315752, 0.54663041, 0.55010329,\n",
              "        0.55357618, 0.55704907, 0.56052196, 0.56399484, 0.56746773,\n",
              "        0.57094062, 0.57441351, 0.57788639, 0.58135928, 0.58483217,\n",
              "        0.58830506]),\n",
              " <a list of 50 Patch objects>)"
            ]
          },
          "metadata": {},
          "execution_count": 47
        },
        {
          "output_type": "display_data",
          "data": {
            "text/plain": [
              "<Figure size 432x288 with 1 Axes>"
            ],
            "image/png": "[encoded data removed]"
          },
          "metadata": {}
        }
      ]
    },
    {
      "cell_type": "code",
      "source": [
        "# similar to confusion matrix\n",
        "import os\n",
        "os.chdir(r\"C:\\Users\\ELCOT\\Downloads\\tweety.csv\")"
      ],
      "metadata": {
        "colab": {
          "base_uri": "https://localhost:8080/",
          "height": 200
        },
        "id": "6o32S60yGsys",
        "outputId": "973f7a36-820a-4078-bbad-d7605b18065b"
      },
      "execution_count": 48,
      "outputs": [
        {
          "output_type": "error",
          "ename": "FileNotFoundError",
          "evalue": "ignored",
          "traceback": [
            "\u001b[0;31m---------------------------------------------------------------------------\u001b[0m",
            "\u001b[0;31mFileNotFoundError\u001b[0m                         Traceback (most recent call last)",
            "\u001b[0;32m<ipython-input-48-f409f3de728b>\u001b[0m in \u001b[0;36m<module>\u001b[0;34m\u001b[0m\n\u001b[1;32m      1\u001b[0m \u001b[0;31m# similar to confusion matrix\u001b[0m\u001b[0;34m\u001b[0m\u001b[0;34m\u001b[0m\u001b[0;34m\u001b[0m\u001b[0m\n\u001b[1;32m      2\u001b[0m \u001b[0;32mimport\u001b[0m \u001b[0mos\u001b[0m\u001b[0;34m\u001b[0m\u001b[0;34m\u001b[0m\u001b[0m\n\u001b[0;32m----> 3\u001b[0;31m \u001b[0mos\u001b[0m\u001b[0;34m.\u001b[0m\u001b[0mchdir\u001b[0m\u001b[0;34m(\u001b[0m\u001b[0;34mr\"C:\\Users\\ELCOT\\Downloads\\tweety.csv\"\u001b[0m\u001b[0;34m)\u001b[0m\u001b[0;34m\u001b[0m\u001b[0;34m\u001b[0m\u001b[0m\n\u001b[0m",
            "\u001b[0;31mFileNotFoundError\u001b[0m: [Errno 2] No such file or directory: 'C:\\\\Users\\\\ELCOT\\\\Downloads\\\\tweety.csv'"
          ]
        }
      ]
    },
    {
      "cell_type": "code",
      "source": [
        "data = sns.load_dataset(\"penguins\")\n",
        "data = pd.read_csv(\"tweety.csv\")"
      ],
      "metadata": {
        "colab": {
          "base_uri": "https://localhost:8080/",
          "height": 328
        },
        "id": "ivpmMYZAG53T",
        "outputId": "7ee0e223-3933-45c2-a0cd-b8812e73fd5c"
      },
      "execution_count": 49,
      "outputs": [
        {
          "output_type": "error",
          "ename": "FileNotFoundError",
          "evalue": "ignored",
          "traceback": [
            "\u001b[0;31m---------------------------------------------------------------------------\u001b[0m",
            "\u001b[0;31mFileNotFoundError\u001b[0m                         Traceback (most recent call last)",
            "\u001b[0;32m<ipython-input-49-f36bbf5fb9cf>\u001b[0m in \u001b[0;36m<module>\u001b[0;34m\u001b[0m\n\u001b[1;32m      1\u001b[0m \u001b[0mdata\u001b[0m \u001b[0;34m=\u001b[0m \u001b[0msns\u001b[0m\u001b[0;34m.\u001b[0m\u001b[0mload_dataset\u001b[0m\u001b[0;34m(\u001b[0m\u001b[0;34m\"penguins\"\u001b[0m\u001b[0;34m)\u001b[0m\u001b[0;34m\u001b[0m\u001b[0;34m\u001b[0m\u001b[0m\n\u001b[0;32m----> 2\u001b[0;31m \u001b[0mdata\u001b[0m \u001b[0;34m=\u001b[0m \u001b[0mpd\u001b[0m\u001b[0;34m.\u001b[0m\u001b[0mread_csv\u001b[0m\u001b[0;34m(\u001b[0m\u001b[0;34m\"tweety.csv\"\u001b[0m\u001b[0;34m)\u001b[0m\u001b[0;34m\u001b[0m\u001b[0;34m\u001b[0m\u001b[0m\n\u001b[0m",
            "\u001b[0;32m/usr/local/lib/python3.7/dist-packages/pandas/util/_decorators.py\u001b[0m in \u001b[0;36mwrapper\u001b[0;34m(*args, **kwargs)\u001b[0m\n\u001b[1;32m    309\u001b[0m                     \u001b[0mstacklevel\u001b[0m\u001b[0;34m=\u001b[0m\u001b[0mstacklevel\u001b[0m\u001b[0;34m,\u001b[0m\u001b[0;34m\u001b[0m\u001b[0;34m\u001b[0m\u001b[0m\n\u001b[1;32m    310\u001b[0m                 )\n\u001b[0;32m--> 311\u001b[0;31m             \u001b[0;32mreturn\u001b[0m \u001b[0mfunc\u001b[0m\u001b[0;34m(\u001b[0m\u001b[0;34m*\u001b[0m\u001b[0margs\u001b[0m\u001b[0;34m,\u001b[0m \u001b[0;34m**\u001b[0m\u001b[0mkwargs\u001b[0m\u001b[0;34m)\u001b[0m\u001b[0;34m\u001b[0m\u001b[0;34m\u001b[0m\u001b[0m\n\u001b[0m\u001b[1;32m    312\u001b[0m \u001b[0;34m\u001b[0m\u001b[0m\n\u001b[1;32m    313\u001b[0m         \u001b[0;32mreturn\u001b[0m \u001b[0mwrapper\u001b[0m\u001b[0;34m\u001b[0m\u001b[0;34m\u001b[0m\u001b[0m\n",
            "\u001b[0;32m/usr/local/lib/python3.7/dist-packages/pandas/io/parsers/readers.py\u001b[0m in \u001b[0;36mread_csv\u001b[0;34m(filepath_or_buffer, sep, delimiter, header, names, index_col, usecols, squeeze, prefix, mangle_dupe_cols, dtype, engine, converters, true_values, false_values, skipinitialspace, skiprows, skipfooter, nrows, na_values, keep_default_na, na_filter, verbose, skip_blank_lines, parse_dates, infer_datetime_format, keep_date_col, date_parser, dayfirst, cache_dates, iterator, chunksize, compression, thousands, decimal, lineterminator, quotechar, quoting, doublequote, escapechar, comment, encoding, encoding_errors, dialect, error_bad_lines, warn_bad_lines, on_bad_lines, delim_whitespace, low_memory, memory_map, float_precision, storage_options)\u001b[0m\n\u001b[1;32m    584\u001b[0m     \u001b[0mkwds\u001b[0m\u001b[0;34m.\u001b[0m\u001b[0mupdate\u001b[0m\u001b[0;34m(\u001b[0m\u001b[0mkwds_defaults\u001b[0m\u001b[0;34m)\u001b[0m\u001b[0;34m\u001b[0m\u001b[0;34m\u001b[0m\u001b[0m\n\u001b[1;32m    585\u001b[0m \u001b[0;34m\u001b[0m\u001b[0m\n\u001b[0;32m--> 586\u001b[0;31m     \u001b[0;32mreturn\u001b[0m \u001b[0m_read\u001b[0m\u001b[0;34m(\u001b[0m\u001b[0mfilepath_or_buffer\u001b[0m\u001b[0;34m,\u001b[0m \u001b[0mkwds\u001b[0m\u001b[0;34m)\u001b[0m\u001b[0;34m\u001b[0m\u001b[0;34m\u001b[0m\u001b[0m\n\u001b[0m\u001b[1;32m    587\u001b[0m \u001b[0;34m\u001b[0m\u001b[0m\n\u001b[1;32m    588\u001b[0m \u001b[0;34m\u001b[0m\u001b[0m\n",
            "\u001b[0;32m/usr/local/lib/python3.7/dist-packages/pandas/io/parsers/readers.py\u001b[0m in \u001b[0;36m_read\u001b[0;34m(filepath_or_buffer, kwds)\u001b[0m\n\u001b[1;32m    480\u001b[0m \u001b[0;34m\u001b[0m\u001b[0m\n\u001b[1;32m    481\u001b[0m     \u001b[0;31m# Create the parser.\u001b[0m\u001b[0;34m\u001b[0m\u001b[0;34m\u001b[0m\u001b[0;34m\u001b[0m\u001b[0m\n\u001b[0;32m--> 482\u001b[0;31m     \u001b[0mparser\u001b[0m \u001b[0;34m=\u001b[0m \u001b[0mTextFileReader\u001b[0m\u001b[0;34m(\u001b[0m\u001b[0mfilepath_or_buffer\u001b[0m\u001b[0;34m,\u001b[0m \u001b[0;34m**\u001b[0m\u001b[0mkwds\u001b[0m\u001b[0;34m)\u001b[0m\u001b[0;34m\u001b[0m\u001b[0;34m\u001b[0m\u001b[0m\n\u001b[0m\u001b[1;32m    483\u001b[0m \u001b[0;34m\u001b[0m\u001b[0m\n\u001b[1;32m    484\u001b[0m     \u001b[0;32mif\u001b[0m \u001b[0mchunksize\u001b[0m \u001b[0;32mor\u001b[0m \u001b[0miterator\u001b[0m\u001b[0;34m:\u001b[0m\u001b[0;34m\u001b[0m\u001b[0;34m\u001b[0m\u001b[0m\n",
            "\u001b[0;32m/usr/local/lib/python3.7/dist-packages/pandas/io/parsers/readers.py\u001b[0m in \u001b[0;36m__init__\u001b[0;34m(self, f, engine, **kwds)\u001b[0m\n\u001b[1;32m    809\u001b[0m             \u001b[0mself\u001b[0m\u001b[0;34m.\u001b[0m\u001b[0moptions\u001b[0m\u001b[0;34m[\u001b[0m\u001b[0;34m\"has_index_names\"\u001b[0m\u001b[0;34m]\u001b[0m \u001b[0;34m=\u001b[0m \u001b[0mkwds\u001b[0m\u001b[0;34m[\u001b[0m\u001b[0;34m\"has_index_names\"\u001b[0m\u001b[0;34m]\u001b[0m\u001b[0;34m\u001b[0m\u001b[0;34m\u001b[0m\u001b[0m\n\u001b[1;32m    810\u001b[0m \u001b[0;34m\u001b[0m\u001b[0m\n\u001b[0;32m--> 811\u001b[0;31m         \u001b[0mself\u001b[0m\u001b[0;34m.\u001b[0m\u001b[0m_engine\u001b[0m \u001b[0;34m=\u001b[0m \u001b[0mself\u001b[0m\u001b[0;34m.\u001b[0m\u001b[0m_make_engine\u001b[0m\u001b[0;34m(\u001b[0m\u001b[0mself\u001b[0m\u001b[0;34m.\u001b[0m\u001b[0mengine\u001b[0m\u001b[0;34m)\u001b[0m\u001b[0;34m\u001b[0m\u001b[0;34m\u001b[0m\u001b[0m\n\u001b[0m\u001b[1;32m    812\u001b[0m \u001b[0;34m\u001b[0m\u001b[0m\n\u001b[1;32m    813\u001b[0m     \u001b[0;32mdef\u001b[0m \u001b[0mclose\u001b[0m\u001b[0;34m(\u001b[0m\u001b[0mself\u001b[0m\u001b[0;34m)\u001b[0m\u001b[0;34m:\u001b[0m\u001b[0;34m\u001b[0m\u001b[0;34m\u001b[0m\u001b[0m\n",
            "\u001b[0;32m/usr/local/lib/python3.7/dist-packages/pandas/io/parsers/readers.py\u001b[0m in \u001b[0;36m_make_engine\u001b[0;34m(self, engine)\u001b[0m\n\u001b[1;32m   1038\u001b[0m             )\n\u001b[1;32m   1039\u001b[0m         \u001b[0;31m# error: Too many arguments for \"ParserBase\"\u001b[0m\u001b[0;34m\u001b[0m\u001b[0;34m\u001b[0m\u001b[0;34m\u001b[0m\u001b[0m\n\u001b[0;32m-> 1040\u001b[0;31m         \u001b[0;32mreturn\u001b[0m \u001b[0mmapping\u001b[0m\u001b[0;34m[\u001b[0m\u001b[0mengine\u001b[0m\u001b[0;34m]\u001b[0m\u001b[0;34m(\u001b[0m\u001b[0mself\u001b[0m\u001b[0;34m.\u001b[0m\u001b[0mf\u001b[0m\u001b[0;34m,\u001b[0m \u001b[0;34m**\u001b[0m\u001b[0mself\u001b[0m\u001b[0;34m.\u001b[0m\u001b[0moptions\u001b[0m\u001b[0;34m)\u001b[0m  \u001b[0;31m# type: ignore[call-arg]\u001b[0m\u001b[0;34m\u001b[0m\u001b[0;34m\u001b[0m\u001b[0m\n\u001b[0m\u001b[1;32m   1041\u001b[0m \u001b[0;34m\u001b[0m\u001b[0m\n\u001b[1;32m   1042\u001b[0m     \u001b[0;32mdef\u001b[0m \u001b[0m_failover_to_python\u001b[0m\u001b[0;34m(\u001b[0m\u001b[0mself\u001b[0m\u001b[0;34m)\u001b[0m\u001b[0;34m:\u001b[0m\u001b[0;34m\u001b[0m\u001b[0;34m\u001b[0m\u001b[0m\n",
            "\u001b[0;32m/usr/local/lib/python3.7/dist-packages/pandas/io/parsers/c_parser_wrapper.py\u001b[0m in \u001b[0;36m__init__\u001b[0;34m(self, src, **kwds)\u001b[0m\n\u001b[1;32m     49\u001b[0m \u001b[0;34m\u001b[0m\u001b[0m\n\u001b[1;32m     50\u001b[0m         \u001b[0;31m# open handles\u001b[0m\u001b[0;34m\u001b[0m\u001b[0;34m\u001b[0m\u001b[0;34m\u001b[0m\u001b[0m\n\u001b[0;32m---> 51\u001b[0;31m         \u001b[0mself\u001b[0m\u001b[0;34m.\u001b[0m\u001b[0m_open_handles\u001b[0m\u001b[0;34m(\u001b[0m\u001b[0msrc\u001b[0m\u001b[0;34m,\u001b[0m \u001b[0mkwds\u001b[0m\u001b[0;34m)\u001b[0m\u001b[0;34m\u001b[0m\u001b[0;34m\u001b[0m\u001b[0m\n\u001b[0m\u001b[1;32m     52\u001b[0m         \u001b[0;32massert\u001b[0m \u001b[0mself\u001b[0m\u001b[0;34m.\u001b[0m\u001b[0mhandles\u001b[0m \u001b[0;32mis\u001b[0m \u001b[0;32mnot\u001b[0m \u001b[0;32mNone\u001b[0m\u001b[0;34m\u001b[0m\u001b[0;34m\u001b[0m\u001b[0m\n\u001b[1;32m     53\u001b[0m \u001b[0;34m\u001b[0m\u001b[0m\n",
            "\u001b[0;32m/usr/local/lib/python3.7/dist-packages/pandas/io/parsers/base_parser.py\u001b[0m in \u001b[0;36m_open_handles\u001b[0;34m(self, src, kwds)\u001b[0m\n\u001b[1;32m    227\u001b[0m             \u001b[0mmemory_map\u001b[0m\u001b[0;34m=\u001b[0m\u001b[0mkwds\u001b[0m\u001b[0;34m.\u001b[0m\u001b[0mget\u001b[0m\u001b[0;34m(\u001b[0m\u001b[0;34m\"memory_map\"\u001b[0m\u001b[0;34m,\u001b[0m \u001b[0;32mFalse\u001b[0m\u001b[0;34m)\u001b[0m\u001b[0;34m,\u001b[0m\u001b[0;34m\u001b[0m\u001b[0;34m\u001b[0m\u001b[0m\n\u001b[1;32m    228\u001b[0m             \u001b[0mstorage_options\u001b[0m\u001b[0;34m=\u001b[0m\u001b[0mkwds\u001b[0m\u001b[0;34m.\u001b[0m\u001b[0mget\u001b[0m\u001b[0;34m(\u001b[0m\u001b[0;34m\"storage_options\"\u001b[0m\u001b[0;34m,\u001b[0m \u001b[0;32mNone\u001b[0m\u001b[0;34m)\u001b[0m\u001b[0;34m,\u001b[0m\u001b[0;34m\u001b[0m\u001b[0;34m\u001b[0m\u001b[0m\n\u001b[0;32m--> 229\u001b[0;31m             \u001b[0merrors\u001b[0m\u001b[0;34m=\u001b[0m\u001b[0mkwds\u001b[0m\u001b[0;34m.\u001b[0m\u001b[0mget\u001b[0m\u001b[0;34m(\u001b[0m\u001b[0;34m\"encoding_errors\"\u001b[0m\u001b[0;34m,\u001b[0m \u001b[0;34m\"strict\"\u001b[0m\u001b[0;34m)\u001b[0m\u001b[0;34m,\u001b[0m\u001b[0;34m\u001b[0m\u001b[0;34m\u001b[0m\u001b[0m\n\u001b[0m\u001b[1;32m    230\u001b[0m         )\n\u001b[1;32m    231\u001b[0m \u001b[0;34m\u001b[0m\u001b[0m\n",
            "\u001b[0;32m/usr/local/lib/python3.7/dist-packages/pandas/io/common.py\u001b[0m in \u001b[0;36mget_handle\u001b[0;34m(path_or_buf, mode, encoding, compression, memory_map, is_text, errors, storage_options)\u001b[0m\n\u001b[1;32m    705\u001b[0m                 \u001b[0mencoding\u001b[0m\u001b[0;34m=\u001b[0m\u001b[0mioargs\u001b[0m\u001b[0;34m.\u001b[0m\u001b[0mencoding\u001b[0m\u001b[0;34m,\u001b[0m\u001b[0;34m\u001b[0m\u001b[0;34m\u001b[0m\u001b[0m\n\u001b[1;32m    706\u001b[0m                 \u001b[0merrors\u001b[0m\u001b[0;34m=\u001b[0m\u001b[0merrors\u001b[0m\u001b[0;34m,\u001b[0m\u001b[0;34m\u001b[0m\u001b[0;34m\u001b[0m\u001b[0m\n\u001b[0;32m--> 707\u001b[0;31m                 \u001b[0mnewline\u001b[0m\u001b[0;34m=\u001b[0m\u001b[0;34m\"\"\u001b[0m\u001b[0;34m,\u001b[0m\u001b[0;34m\u001b[0m\u001b[0;34m\u001b[0m\u001b[0m\n\u001b[0m\u001b[1;32m    708\u001b[0m             )\n\u001b[1;32m    709\u001b[0m         \u001b[0;32melse\u001b[0m\u001b[0;34m:\u001b[0m\u001b[0;34m\u001b[0m\u001b[0;34m\u001b[0m\u001b[0m\n",
            "\u001b[0;31mFileNotFoundError\u001b[0m: [Errno 2] No such file or directory: 'tweety.csv'"
          ]
        }
      ]
    },
    {
      "cell_type": "code",
      "source": [
        "y = data['body_mass_g']\n",
        "x = data.drop(columns=['body_mass_g','sex'],axis=1)\n",
        "x['bill_depth_mm'].fillna(x['bill_depth_mm'].mean(),inplace = True)\n",
        "from sklearn.tree import DecisionTreeClassifier\n",
        "Dtree = DecisionTreeClassifier()\n",
        "from pandas.core.api import Float64Dtype\n",
        "Decisiontree.fit(x,y)"
      ],
      "metadata": {
        "colab": {
          "base_uri": "https://localhost:8080/",
          "height": 200
        },
        "id": "Yv7PBvSRHCGb",
        "outputId": "aae40475-3dbc-41c7-afaa-e2ef7ae503a7"
      },
      "execution_count": 51,
      "outputs": [
        {
          "output_type": "error",
          "ename": "NameError",
          "evalue": "ignored",
          "traceback": [
            "\u001b[0;31m---------------------------------------------------------------------------\u001b[0m",
            "\u001b[0;31mNameError\u001b[0m                                 Traceback (most recent call last)",
            "\u001b[0;32m<ipython-input-51-221e1799d9ab>\u001b[0m in \u001b[0;36m<module>\u001b[0;34m\u001b[0m\n\u001b[1;32m      5\u001b[0m \u001b[0mDtree\u001b[0m \u001b[0;34m=\u001b[0m \u001b[0mDecisionTreeClassifier\u001b[0m\u001b[0;34m(\u001b[0m\u001b[0;34m)\u001b[0m\u001b[0;34m\u001b[0m\u001b[0;34m\u001b[0m\u001b[0m\n\u001b[1;32m      6\u001b[0m \u001b[0;32mfrom\u001b[0m \u001b[0mpandas\u001b[0m\u001b[0;34m.\u001b[0m\u001b[0mcore\u001b[0m\u001b[0;34m.\u001b[0m\u001b[0mapi\u001b[0m \u001b[0;32mimport\u001b[0m \u001b[0mFloat64Dtype\u001b[0m\u001b[0;34m\u001b[0m\u001b[0;34m\u001b[0m\u001b[0m\n\u001b[0;32m----> 7\u001b[0;31m \u001b[0mDecisiontree\u001b[0m\u001b[0;34m.\u001b[0m\u001b[0mfit\u001b[0m\u001b[0;34m(\u001b[0m\u001b[0mx\u001b[0m\u001b[0;34m,\u001b[0m\u001b[0my\u001b[0m\u001b[0;34m)\u001b[0m\u001b[0;34m\u001b[0m\u001b[0;34m\u001b[0m\u001b[0m\n\u001b[0m",
            "\u001b[0;31mNameError\u001b[0m: name 'Decisiontree' is not defined"
          ]
        }
      ]
    },
    {
      "cell_type": "code",
      "source": [
        "pred = Dtree.predict(x)"
      ],
      "metadata": {
        "colab": {
          "base_uri": "https://localhost:8080/",
          "height": 311
        },
        "id": "qq0nQB8-HMTT",
        "outputId": "7e9ee29f-ecf2-4341-8c5d-5fa56d68dc42"
      },
      "execution_count": 52,
      "outputs": [
        {
          "output_type": "error",
          "ename": "NotFittedError",
          "evalue": "ignored",
          "traceback": [
            "\u001b[0;31m---------------------------------------------------------------------------\u001b[0m",
            "\u001b[0;31mNotFittedError\u001b[0m                            Traceback (most recent call last)",
            "\u001b[0;32m<ipython-input-52-c430087613ca>\u001b[0m in \u001b[0;36m<module>\u001b[0;34m\u001b[0m\n\u001b[0;32m----> 1\u001b[0;31m \u001b[0mpred\u001b[0m \u001b[0;34m=\u001b[0m \u001b[0mDtree\u001b[0m\u001b[0;34m.\u001b[0m\u001b[0mpredict\u001b[0m\u001b[0;34m(\u001b[0m\u001b[0mx\u001b[0m\u001b[0;34m)\u001b[0m\u001b[0;34m\u001b[0m\u001b[0;34m\u001b[0m\u001b[0m\n\u001b[0m",
            "\u001b[0;32m/usr/local/lib/python3.7/dist-packages/sklearn/tree/_classes.py\u001b[0m in \u001b[0;36mpredict\u001b[0;34m(self, X, check_input)\u001b[0m\n\u001b[1;32m    464\u001b[0m             \u001b[0mThe\u001b[0m \u001b[0mpredicted\u001b[0m \u001b[0mclasses\u001b[0m\u001b[0;34m,\u001b[0m \u001b[0;32mor\u001b[0m \u001b[0mthe\u001b[0m \u001b[0mpredict\u001b[0m \u001b[0mvalues\u001b[0m\u001b[0;34m.\u001b[0m\u001b[0;34m\u001b[0m\u001b[0;34m\u001b[0m\u001b[0m\n\u001b[1;32m    465\u001b[0m         \"\"\"\n\u001b[0;32m--> 466\u001b[0;31m         \u001b[0mcheck_is_fitted\u001b[0m\u001b[0;34m(\u001b[0m\u001b[0mself\u001b[0m\u001b[0;34m)\u001b[0m\u001b[0;34m\u001b[0m\u001b[0;34m\u001b[0m\u001b[0m\n\u001b[0m\u001b[1;32m    467\u001b[0m         \u001b[0mX\u001b[0m \u001b[0;34m=\u001b[0m \u001b[0mself\u001b[0m\u001b[0;34m.\u001b[0m\u001b[0m_validate_X_predict\u001b[0m\u001b[0;34m(\u001b[0m\u001b[0mX\u001b[0m\u001b[0;34m,\u001b[0m \u001b[0mcheck_input\u001b[0m\u001b[0;34m)\u001b[0m\u001b[0;34m\u001b[0m\u001b[0;34m\u001b[0m\u001b[0m\n\u001b[1;32m    468\u001b[0m         \u001b[0mproba\u001b[0m \u001b[0;34m=\u001b[0m \u001b[0mself\u001b[0m\u001b[0;34m.\u001b[0m\u001b[0mtree_\u001b[0m\u001b[0;34m.\u001b[0m\u001b[0mpredict\u001b[0m\u001b[0;34m(\u001b[0m\u001b[0mX\u001b[0m\u001b[0;34m)\u001b[0m\u001b[0;34m\u001b[0m\u001b[0;34m\u001b[0m\u001b[0m\n",
            "\u001b[0;32m/usr/local/lib/python3.7/dist-packages/sklearn/utils/validation.py\u001b[0m in \u001b[0;36mcheck_is_fitted\u001b[0;34m(estimator, attributes, msg, all_or_any)\u001b[0m\n\u001b[1;32m   1220\u001b[0m \u001b[0;34m\u001b[0m\u001b[0m\n\u001b[1;32m   1221\u001b[0m     \u001b[0;32mif\u001b[0m \u001b[0;32mnot\u001b[0m \u001b[0mfitted\u001b[0m\u001b[0;34m:\u001b[0m\u001b[0;34m\u001b[0m\u001b[0;34m\u001b[0m\u001b[0m\n\u001b[0;32m-> 1222\u001b[0;31m         \u001b[0;32mraise\u001b[0m \u001b[0mNotFittedError\u001b[0m\u001b[0;34m(\u001b[0m\u001b[0mmsg\u001b[0m \u001b[0;34m%\u001b[0m \u001b[0;34m{\u001b[0m\u001b[0;34m\"name\"\u001b[0m\u001b[0;34m:\u001b[0m \u001b[0mtype\u001b[0m\u001b[0;34m(\u001b[0m\u001b[0mestimator\u001b[0m\u001b[0;34m)\u001b[0m\u001b[0;34m.\u001b[0m\u001b[0m__name__\u001b[0m\u001b[0;34m}\u001b[0m\u001b[0;34m)\u001b[0m\u001b[0;34m\u001b[0m\u001b[0;34m\u001b[0m\u001b[0m\n\u001b[0m\u001b[1;32m   1223\u001b[0m \u001b[0;34m\u001b[0m\u001b[0m\n\u001b[1;32m   1224\u001b[0m \u001b[0;34m\u001b[0m\u001b[0m\n",
            "\u001b[0;31mNotFittedError\u001b[0m: This DecisionTreeClassifier instance is not fitted yet. Call 'fit' with appropriate arguments before using this estimator."
          ]
        }
      ]
    },
    {
      "cell_type": "code",
      "source": [
        "from sklearn import metrics\n",
        "print(metrics.confusion_matrix(y,pred))"
      ],
      "metadata": {
        "colab": {
          "base_uri": "https://localhost:8080/",
          "height": 183
        },
        "id": "Y0RI9wucHYE4",
        "outputId": "91cc572e-ff35-4500-e729-5a65466c925e"
      },
      "execution_count": 53,
      "outputs": [
        {
          "output_type": "error",
          "ename": "NameError",
          "evalue": "ignored",
          "traceback": [
            "\u001b[0;31m---------------------------------------------------------------------------\u001b[0m",
            "\u001b[0;31mNameError\u001b[0m                                 Traceback (most recent call last)",
            "\u001b[0;32m<ipython-input-53-e5afe9c36f4e>\u001b[0m in \u001b[0;36m<module>\u001b[0;34m\u001b[0m\n\u001b[1;32m      1\u001b[0m \u001b[0;32mfrom\u001b[0m \u001b[0msklearn\u001b[0m \u001b[0;32mimport\u001b[0m \u001b[0mmetrics\u001b[0m\u001b[0;34m\u001b[0m\u001b[0;34m\u001b[0m\u001b[0m\n\u001b[0;32m----> 2\u001b[0;31m \u001b[0mprint\u001b[0m\u001b[0;34m(\u001b[0m\u001b[0mmetrics\u001b[0m\u001b[0;34m.\u001b[0m\u001b[0mconfusion_matrix\u001b[0m\u001b[0;34m(\u001b[0m\u001b[0my\u001b[0m\u001b[0;34m,\u001b[0m\u001b[0mpred\u001b[0m\u001b[0;34m)\u001b[0m\u001b[0;34m)\u001b[0m\u001b[0;34m\u001b[0m\u001b[0;34m\u001b[0m\u001b[0m\n\u001b[0m",
            "\u001b[0;31mNameError\u001b[0m: name 'pred' is not defined"
          ]
        }
      ]
    }
  ]
}